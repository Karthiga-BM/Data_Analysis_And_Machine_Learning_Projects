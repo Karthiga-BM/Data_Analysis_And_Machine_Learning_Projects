{
  "nbformat": 4,
  "nbformat_minor": 0,
  "metadata": {
    "colab": {
      "name": "scrape_stock_research_summarize.ipynb",
      "provenance": [],
      "collapsed_sections": [],
      "authorship_tag": "ABX9TyMBiktCSv56ggU1rJ9zw2Uu",
      "include_colab_link": true
    },
    "kernelspec": {
      "name": "python3",
      "display_name": "Python 3"
    },
    "language_info": {
      "name": "python"
    },
    "widgets": {
      "application/vnd.jupyter.widget-state+json": {
        "0b70ae8195ef40c5b4a5bc8ff3a97625": {
          "model_module": "@jupyter-widgets/controls",
          "model_name": "HBoxModel",
          "state": {
            "_view_name": "HBoxView",
            "_dom_classes": [],
            "_model_name": "HBoxModel",
            "_view_module": "@jupyter-widgets/controls",
            "_model_module_version": "1.5.0",
            "_view_count": null,
            "_view_module_version": "1.5.0",
            "box_style": "",
            "layout": "IPY_MODEL_2be581d033ff4267b7204d9ab377b768",
            "_model_module": "@jupyter-widgets/controls",
            "children": [
              "IPY_MODEL_39b87cf7e9664e4696dd1648ae024a0f",
              "IPY_MODEL_98b020aa182045b1bc29bc23d24b8e4b"
            ]
          }
        },
        "2be581d033ff4267b7204d9ab377b768": {
          "model_module": "@jupyter-widgets/base",
          "model_name": "LayoutModel",
          "state": {
            "_view_name": "LayoutView",
            "grid_template_rows": null,
            "right": null,
            "justify_content": null,
            "_view_module": "@jupyter-widgets/base",
            "overflow": null,
            "_model_module_version": "1.2.0",
            "_view_count": null,
            "flex_flow": null,
            "width": null,
            "min_width": null,
            "border": null,
            "align_items": null,
            "bottom": null,
            "_model_module": "@jupyter-widgets/base",
            "top": null,
            "grid_column": null,
            "overflow_y": null,
            "overflow_x": null,
            "grid_auto_flow": null,
            "grid_area": null,
            "grid_template_columns": null,
            "flex": null,
            "_model_name": "LayoutModel",
            "justify_items": null,
            "grid_row": null,
            "max_height": null,
            "align_content": null,
            "visibility": null,
            "align_self": null,
            "height": null,
            "min_height": null,
            "padding": null,
            "grid_auto_rows": null,
            "grid_gap": null,
            "max_width": null,
            "order": null,
            "_view_module_version": "1.2.0",
            "grid_template_areas": null,
            "object_position": null,
            "object_fit": null,
            "grid_auto_columns": null,
            "margin": null,
            "display": null,
            "left": null
          }
        },
        "39b87cf7e9664e4696dd1648ae024a0f": {
          "model_module": "@jupyter-widgets/controls",
          "model_name": "FloatProgressModel",
          "state": {
            "_view_name": "ProgressView",
            "style": "IPY_MODEL_8228ebbcf4d247caa54a2c6294bc2f8e",
            "_dom_classes": [],
            "description": "Downloading: 100%",
            "_model_name": "FloatProgressModel",
            "bar_style": "success",
            "max": 629,
            "_view_module": "@jupyter-widgets/controls",
            "_model_module_version": "1.5.0",
            "value": 629,
            "_view_count": null,
            "_view_module_version": "1.5.0",
            "orientation": "horizontal",
            "min": 0,
            "description_tooltip": null,
            "_model_module": "@jupyter-widgets/controls",
            "layout": "IPY_MODEL_e45735c3885049a1934fad20cc775cd5"
          }
        },
        "98b020aa182045b1bc29bc23d24b8e4b": {
          "model_module": "@jupyter-widgets/controls",
          "model_name": "HTMLModel",
          "state": {
            "_view_name": "HTMLView",
            "style": "IPY_MODEL_8d30b781936a4447ba0eb6da4a997de9",
            "_dom_classes": [],
            "description": "",
            "_model_name": "HTMLModel",
            "placeholder": "​",
            "_view_module": "@jupyter-widgets/controls",
            "_model_module_version": "1.5.0",
            "value": " 629/629 [00:01&lt;00:00, 343B/s]",
            "_view_count": null,
            "_view_module_version": "1.5.0",
            "description_tooltip": null,
            "_model_module": "@jupyter-widgets/controls",
            "layout": "IPY_MODEL_d30fbba8147c462696bc4facbb019340"
          }
        },
        "8228ebbcf4d247caa54a2c6294bc2f8e": {
          "model_module": "@jupyter-widgets/controls",
          "model_name": "ProgressStyleModel",
          "state": {
            "_view_name": "StyleView",
            "_model_name": "ProgressStyleModel",
            "description_width": "initial",
            "_view_module": "@jupyter-widgets/base",
            "_model_module_version": "1.5.0",
            "_view_count": null,
            "_view_module_version": "1.2.0",
            "bar_color": null,
            "_model_module": "@jupyter-widgets/controls"
          }
        },
        "e45735c3885049a1934fad20cc775cd5": {
          "model_module": "@jupyter-widgets/base",
          "model_name": "LayoutModel",
          "state": {
            "_view_name": "LayoutView",
            "grid_template_rows": null,
            "right": null,
            "justify_content": null,
            "_view_module": "@jupyter-widgets/base",
            "overflow": null,
            "_model_module_version": "1.2.0",
            "_view_count": null,
            "flex_flow": null,
            "width": null,
            "min_width": null,
            "border": null,
            "align_items": null,
            "bottom": null,
            "_model_module": "@jupyter-widgets/base",
            "top": null,
            "grid_column": null,
            "overflow_y": null,
            "overflow_x": null,
            "grid_auto_flow": null,
            "grid_area": null,
            "grid_template_columns": null,
            "flex": null,
            "_model_name": "LayoutModel",
            "justify_items": null,
            "grid_row": null,
            "max_height": null,
            "align_content": null,
            "visibility": null,
            "align_self": null,
            "height": null,
            "min_height": null,
            "padding": null,
            "grid_auto_rows": null,
            "grid_gap": null,
            "max_width": null,
            "order": null,
            "_view_module_version": "1.2.0",
            "grid_template_areas": null,
            "object_position": null,
            "object_fit": null,
            "grid_auto_columns": null,
            "margin": null,
            "display": null,
            "left": null
          }
        },
        "8d30b781936a4447ba0eb6da4a997de9": {
          "model_module": "@jupyter-widgets/controls",
          "model_name": "DescriptionStyleModel",
          "state": {
            "_view_name": "StyleView",
            "_model_name": "DescriptionStyleModel",
            "description_width": "",
            "_view_module": "@jupyter-widgets/base",
            "_model_module_version": "1.5.0",
            "_view_count": null,
            "_view_module_version": "1.2.0",
            "_model_module": "@jupyter-widgets/controls"
          }
        },
        "d30fbba8147c462696bc4facbb019340": {
          "model_module": "@jupyter-widgets/base",
          "model_name": "LayoutModel",
          "state": {
            "_view_name": "LayoutView",
            "grid_template_rows": null,
            "right": null,
            "justify_content": null,
            "_view_module": "@jupyter-widgets/base",
            "overflow": null,
            "_model_module_version": "1.2.0",
            "_view_count": null,
            "flex_flow": null,
            "width": null,
            "min_width": null,
            "border": null,
            "align_items": null,
            "bottom": null,
            "_model_module": "@jupyter-widgets/base",
            "top": null,
            "grid_column": null,
            "overflow_y": null,
            "overflow_x": null,
            "grid_auto_flow": null,
            "grid_area": null,
            "grid_template_columns": null,
            "flex": null,
            "_model_name": "LayoutModel",
            "justify_items": null,
            "grid_row": null,
            "max_height": null,
            "align_content": null,
            "visibility": null,
            "align_self": null,
            "height": null,
            "min_height": null,
            "padding": null,
            "grid_auto_rows": null,
            "grid_gap": null,
            "max_width": null,
            "order": null,
            "_view_module_version": "1.2.0",
            "grid_template_areas": null,
            "object_position": null,
            "object_fit": null,
            "grid_auto_columns": null,
            "margin": null,
            "display": null,
            "left": null
          }
        },
        "35f7bc8206014d8b8a2112444158de34": {
          "model_module": "@jupyter-widgets/controls",
          "model_name": "HBoxModel",
          "state": {
            "_view_name": "HBoxView",
            "_dom_classes": [],
            "_model_name": "HBoxModel",
            "_view_module": "@jupyter-widgets/controls",
            "_model_module_version": "1.5.0",
            "_view_count": null,
            "_view_module_version": "1.5.0",
            "box_style": "",
            "layout": "IPY_MODEL_e12701991e924ff79611f6e8511d84a5",
            "_model_module": "@jupyter-widgets/controls",
            "children": [
              "IPY_MODEL_4e39307f04c2400681869cbf51a89965",
              "IPY_MODEL_c05e953ddbc94d6982a38e5294dd4335"
            ]
          }
        },
        "e12701991e924ff79611f6e8511d84a5": {
          "model_module": "@jupyter-widgets/base",
          "model_name": "LayoutModel",
          "state": {
            "_view_name": "LayoutView",
            "grid_template_rows": null,
            "right": null,
            "justify_content": null,
            "_view_module": "@jupyter-widgets/base",
            "overflow": null,
            "_model_module_version": "1.2.0",
            "_view_count": null,
            "flex_flow": null,
            "width": null,
            "min_width": null,
            "border": null,
            "align_items": null,
            "bottom": null,
            "_model_module": "@jupyter-widgets/base",
            "top": null,
            "grid_column": null,
            "overflow_y": null,
            "overflow_x": null,
            "grid_auto_flow": null,
            "grid_area": null,
            "grid_template_columns": null,
            "flex": null,
            "_model_name": "LayoutModel",
            "justify_items": null,
            "grid_row": null,
            "max_height": null,
            "align_content": null,
            "visibility": null,
            "align_self": null,
            "height": null,
            "min_height": null,
            "padding": null,
            "grid_auto_rows": null,
            "grid_gap": null,
            "max_width": null,
            "order": null,
            "_view_module_version": "1.2.0",
            "grid_template_areas": null,
            "object_position": null,
            "object_fit": null,
            "grid_auto_columns": null,
            "margin": null,
            "display": null,
            "left": null
          }
        },
        "4e39307f04c2400681869cbf51a89965": {
          "model_module": "@jupyter-widgets/controls",
          "model_name": "FloatProgressModel",
          "state": {
            "_view_name": "ProgressView",
            "style": "IPY_MODEL_30858cc474234ad499a6c03572fbb457",
            "_dom_classes": [],
            "description": "Downloading: 100%",
            "_model_name": "FloatProgressModel",
            "bar_style": "success",
            "max": 267844284,
            "_view_module": "@jupyter-widgets/controls",
            "_model_module_version": "1.5.0",
            "value": 267844284,
            "_view_count": null,
            "_view_module_version": "1.5.0",
            "orientation": "horizontal",
            "min": 0,
            "description_tooltip": null,
            "_model_module": "@jupyter-widgets/controls",
            "layout": "IPY_MODEL_45817ea21ec94dd89367b25ce6261dd4"
          }
        },
        "c05e953ddbc94d6982a38e5294dd4335": {
          "model_module": "@jupyter-widgets/controls",
          "model_name": "HTMLModel",
          "state": {
            "_view_name": "HTMLView",
            "style": "IPY_MODEL_6ab63ece72684d43a1ad32e0159e7390",
            "_dom_classes": [],
            "description": "",
            "_model_name": "HTMLModel",
            "placeholder": "​",
            "_view_module": "@jupyter-widgets/controls",
            "_model_module_version": "1.5.0",
            "value": " 268M/268M [23:07&lt;00:00, 193kB/s]",
            "_view_count": null,
            "_view_module_version": "1.5.0",
            "description_tooltip": null,
            "_model_module": "@jupyter-widgets/controls",
            "layout": "IPY_MODEL_c4d3238bccf049c5adbc95d34515ebb3"
          }
        },
        "30858cc474234ad499a6c03572fbb457": {
          "model_module": "@jupyter-widgets/controls",
          "model_name": "ProgressStyleModel",
          "state": {
            "_view_name": "StyleView",
            "_model_name": "ProgressStyleModel",
            "description_width": "initial",
            "_view_module": "@jupyter-widgets/base",
            "_model_module_version": "1.5.0",
            "_view_count": null,
            "_view_module_version": "1.2.0",
            "bar_color": null,
            "_model_module": "@jupyter-widgets/controls"
          }
        },
        "45817ea21ec94dd89367b25ce6261dd4": {
          "model_module": "@jupyter-widgets/base",
          "model_name": "LayoutModel",
          "state": {
            "_view_name": "LayoutView",
            "grid_template_rows": null,
            "right": null,
            "justify_content": null,
            "_view_module": "@jupyter-widgets/base",
            "overflow": null,
            "_model_module_version": "1.2.0",
            "_view_count": null,
            "flex_flow": null,
            "width": null,
            "min_width": null,
            "border": null,
            "align_items": null,
            "bottom": null,
            "_model_module": "@jupyter-widgets/base",
            "top": null,
            "grid_column": null,
            "overflow_y": null,
            "overflow_x": null,
            "grid_auto_flow": null,
            "grid_area": null,
            "grid_template_columns": null,
            "flex": null,
            "_model_name": "LayoutModel",
            "justify_items": null,
            "grid_row": null,
            "max_height": null,
            "align_content": null,
            "visibility": null,
            "align_self": null,
            "height": null,
            "min_height": null,
            "padding": null,
            "grid_auto_rows": null,
            "grid_gap": null,
            "max_width": null,
            "order": null,
            "_view_module_version": "1.2.0",
            "grid_template_areas": null,
            "object_position": null,
            "object_fit": null,
            "grid_auto_columns": null,
            "margin": null,
            "display": null,
            "left": null
          }
        },
        "6ab63ece72684d43a1ad32e0159e7390": {
          "model_module": "@jupyter-widgets/controls",
          "model_name": "DescriptionStyleModel",
          "state": {
            "_view_name": "StyleView",
            "_model_name": "DescriptionStyleModel",
            "description_width": "",
            "_view_module": "@jupyter-widgets/base",
            "_model_module_version": "1.5.0",
            "_view_count": null,
            "_view_module_version": "1.2.0",
            "_model_module": "@jupyter-widgets/controls"
          }
        },
        "c4d3238bccf049c5adbc95d34515ebb3": {
          "model_module": "@jupyter-widgets/base",
          "model_name": "LayoutModel",
          "state": {
            "_view_name": "LayoutView",
            "grid_template_rows": null,
            "right": null,
            "justify_content": null,
            "_view_module": "@jupyter-widgets/base",
            "overflow": null,
            "_model_module_version": "1.2.0",
            "_view_count": null,
            "flex_flow": null,
            "width": null,
            "min_width": null,
            "border": null,
            "align_items": null,
            "bottom": null,
            "_model_module": "@jupyter-widgets/base",
            "top": null,
            "grid_column": null,
            "overflow_y": null,
            "overflow_x": null,
            "grid_auto_flow": null,
            "grid_area": null,
            "grid_template_columns": null,
            "flex": null,
            "_model_name": "LayoutModel",
            "justify_items": null,
            "grid_row": null,
            "max_height": null,
            "align_content": null,
            "visibility": null,
            "align_self": null,
            "height": null,
            "min_height": null,
            "padding": null,
            "grid_auto_rows": null,
            "grid_gap": null,
            "max_width": null,
            "order": null,
            "_view_module_version": "1.2.0",
            "grid_template_areas": null,
            "object_position": null,
            "object_fit": null,
            "grid_auto_columns": null,
            "margin": null,
            "display": null,
            "left": null
          }
        },
        "68c9dc802e9346c4b69c0d53f6355ff2": {
          "model_module": "@jupyter-widgets/controls",
          "model_name": "HBoxModel",
          "state": {
            "_view_name": "HBoxView",
            "_dom_classes": [],
            "_model_name": "HBoxModel",
            "_view_module": "@jupyter-widgets/controls",
            "_model_module_version": "1.5.0",
            "_view_count": null,
            "_view_module_version": "1.5.0",
            "box_style": "",
            "layout": "IPY_MODEL_3c6b2013bb024a8dab344c0783856e07",
            "_model_module": "@jupyter-widgets/controls",
            "children": [
              "IPY_MODEL_8290bbb24ffa4c6d967e0b95e247f5d9",
              "IPY_MODEL_96c917fea2824a249f704a505582599c"
            ]
          }
        },
        "3c6b2013bb024a8dab344c0783856e07": {
          "model_module": "@jupyter-widgets/base",
          "model_name": "LayoutModel",
          "state": {
            "_view_name": "LayoutView",
            "grid_template_rows": null,
            "right": null,
            "justify_content": null,
            "_view_module": "@jupyter-widgets/base",
            "overflow": null,
            "_model_module_version": "1.2.0",
            "_view_count": null,
            "flex_flow": null,
            "width": null,
            "min_width": null,
            "border": null,
            "align_items": null,
            "bottom": null,
            "_model_module": "@jupyter-widgets/base",
            "top": null,
            "grid_column": null,
            "overflow_y": null,
            "overflow_x": null,
            "grid_auto_flow": null,
            "grid_area": null,
            "grid_template_columns": null,
            "flex": null,
            "_model_name": "LayoutModel",
            "justify_items": null,
            "grid_row": null,
            "max_height": null,
            "align_content": null,
            "visibility": null,
            "align_self": null,
            "height": null,
            "min_height": null,
            "padding": null,
            "grid_auto_rows": null,
            "grid_gap": null,
            "max_width": null,
            "order": null,
            "_view_module_version": "1.2.0",
            "grid_template_areas": null,
            "object_position": null,
            "object_fit": null,
            "grid_auto_columns": null,
            "margin": null,
            "display": null,
            "left": null
          }
        },
        "8290bbb24ffa4c6d967e0b95e247f5d9": {
          "model_module": "@jupyter-widgets/controls",
          "model_name": "FloatProgressModel",
          "state": {
            "_view_name": "ProgressView",
            "style": "IPY_MODEL_23745ef89da64aeba4844b78c018d42d",
            "_dom_classes": [],
            "description": "Downloading: 100%",
            "_model_name": "FloatProgressModel",
            "bar_style": "success",
            "max": 231508,
            "_view_module": "@jupyter-widgets/controls",
            "_model_module_version": "1.5.0",
            "value": 231508,
            "_view_count": null,
            "_view_module_version": "1.5.0",
            "orientation": "horizontal",
            "min": 0,
            "description_tooltip": null,
            "_model_module": "@jupyter-widgets/controls",
            "layout": "IPY_MODEL_7a69d4a4f5fb4dea9486a26b5c259915"
          }
        },
        "96c917fea2824a249f704a505582599c": {
          "model_module": "@jupyter-widgets/controls",
          "model_name": "HTMLModel",
          "state": {
            "_view_name": "HTMLView",
            "style": "IPY_MODEL_a9035c45036540c292e257c36219aca1",
            "_dom_classes": [],
            "description": "",
            "_model_name": "HTMLModel",
            "placeholder": "​",
            "_view_module": "@jupyter-widgets/controls",
            "_model_module_version": "1.5.0",
            "value": " 232k/232k [00:00&lt;00:00, 511kB/s]",
            "_view_count": null,
            "_view_module_version": "1.5.0",
            "description_tooltip": null,
            "_model_module": "@jupyter-widgets/controls",
            "layout": "IPY_MODEL_9de1dc11bdb14ec1b8b0347fd15582e6"
          }
        },
        "23745ef89da64aeba4844b78c018d42d": {
          "model_module": "@jupyter-widgets/controls",
          "model_name": "ProgressStyleModel",
          "state": {
            "_view_name": "StyleView",
            "_model_name": "ProgressStyleModel",
            "description_width": "initial",
            "_view_module": "@jupyter-widgets/base",
            "_model_module_version": "1.5.0",
            "_view_count": null,
            "_view_module_version": "1.2.0",
            "bar_color": null,
            "_model_module": "@jupyter-widgets/controls"
          }
        },
        "7a69d4a4f5fb4dea9486a26b5c259915": {
          "model_module": "@jupyter-widgets/base",
          "model_name": "LayoutModel",
          "state": {
            "_view_name": "LayoutView",
            "grid_template_rows": null,
            "right": null,
            "justify_content": null,
            "_view_module": "@jupyter-widgets/base",
            "overflow": null,
            "_model_module_version": "1.2.0",
            "_view_count": null,
            "flex_flow": null,
            "width": null,
            "min_width": null,
            "border": null,
            "align_items": null,
            "bottom": null,
            "_model_module": "@jupyter-widgets/base",
            "top": null,
            "grid_column": null,
            "overflow_y": null,
            "overflow_x": null,
            "grid_auto_flow": null,
            "grid_area": null,
            "grid_template_columns": null,
            "flex": null,
            "_model_name": "LayoutModel",
            "justify_items": null,
            "grid_row": null,
            "max_height": null,
            "align_content": null,
            "visibility": null,
            "align_self": null,
            "height": null,
            "min_height": null,
            "padding": null,
            "grid_auto_rows": null,
            "grid_gap": null,
            "max_width": null,
            "order": null,
            "_view_module_version": "1.2.0",
            "grid_template_areas": null,
            "object_position": null,
            "object_fit": null,
            "grid_auto_columns": null,
            "margin": null,
            "display": null,
            "left": null
          }
        },
        "a9035c45036540c292e257c36219aca1": {
          "model_module": "@jupyter-widgets/controls",
          "model_name": "DescriptionStyleModel",
          "state": {
            "_view_name": "StyleView",
            "_model_name": "DescriptionStyleModel",
            "description_width": "",
            "_view_module": "@jupyter-widgets/base",
            "_model_module_version": "1.5.0",
            "_view_count": null,
            "_view_module_version": "1.2.0",
            "_model_module": "@jupyter-widgets/controls"
          }
        },
        "9de1dc11bdb14ec1b8b0347fd15582e6": {
          "model_module": "@jupyter-widgets/base",
          "model_name": "LayoutModel",
          "state": {
            "_view_name": "LayoutView",
            "grid_template_rows": null,
            "right": null,
            "justify_content": null,
            "_view_module": "@jupyter-widgets/base",
            "overflow": null,
            "_model_module_version": "1.2.0",
            "_view_count": null,
            "flex_flow": null,
            "width": null,
            "min_width": null,
            "border": null,
            "align_items": null,
            "bottom": null,
            "_model_module": "@jupyter-widgets/base",
            "top": null,
            "grid_column": null,
            "overflow_y": null,
            "overflow_x": null,
            "grid_auto_flow": null,
            "grid_area": null,
            "grid_template_columns": null,
            "flex": null,
            "_model_name": "LayoutModel",
            "justify_items": null,
            "grid_row": null,
            "max_height": null,
            "align_content": null,
            "visibility": null,
            "align_self": null,
            "height": null,
            "min_height": null,
            "padding": null,
            "grid_auto_rows": null,
            "grid_gap": null,
            "max_width": null,
            "order": null,
            "_view_module_version": "1.2.0",
            "grid_template_areas": null,
            "object_position": null,
            "object_fit": null,
            "grid_auto_columns": null,
            "margin": null,
            "display": null,
            "left": null
          }
        },
        "e80831b606e441d685e970788963fd89": {
          "model_module": "@jupyter-widgets/controls",
          "model_name": "HBoxModel",
          "state": {
            "_view_name": "HBoxView",
            "_dom_classes": [],
            "_model_name": "HBoxModel",
            "_view_module": "@jupyter-widgets/controls",
            "_model_module_version": "1.5.0",
            "_view_count": null,
            "_view_module_version": "1.5.0",
            "box_style": "",
            "layout": "IPY_MODEL_9804652489764a28abf19460d7cdcaa5",
            "_model_module": "@jupyter-widgets/controls",
            "children": [
              "IPY_MODEL_a1923380b2d644df80ace66faa933e47",
              "IPY_MODEL_a0502864202042409451de1e7ce5cfd8"
            ]
          }
        },
        "9804652489764a28abf19460d7cdcaa5": {
          "model_module": "@jupyter-widgets/base",
          "model_name": "LayoutModel",
          "state": {
            "_view_name": "LayoutView",
            "grid_template_rows": null,
            "right": null,
            "justify_content": null,
            "_view_module": "@jupyter-widgets/base",
            "overflow": null,
            "_model_module_version": "1.2.0",
            "_view_count": null,
            "flex_flow": null,
            "width": null,
            "min_width": null,
            "border": null,
            "align_items": null,
            "bottom": null,
            "_model_module": "@jupyter-widgets/base",
            "top": null,
            "grid_column": null,
            "overflow_y": null,
            "overflow_x": null,
            "grid_auto_flow": null,
            "grid_area": null,
            "grid_template_columns": null,
            "flex": null,
            "_model_name": "LayoutModel",
            "justify_items": null,
            "grid_row": null,
            "max_height": null,
            "align_content": null,
            "visibility": null,
            "align_self": null,
            "height": null,
            "min_height": null,
            "padding": null,
            "grid_auto_rows": null,
            "grid_gap": null,
            "max_width": null,
            "order": null,
            "_view_module_version": "1.2.0",
            "grid_template_areas": null,
            "object_position": null,
            "object_fit": null,
            "grid_auto_columns": null,
            "margin": null,
            "display": null,
            "left": null
          }
        },
        "a1923380b2d644df80ace66faa933e47": {
          "model_module": "@jupyter-widgets/controls",
          "model_name": "FloatProgressModel",
          "state": {
            "_view_name": "ProgressView",
            "style": "IPY_MODEL_13aeb7566b8e4eed9acce0c761f9c301",
            "_dom_classes": [],
            "description": "Downloading: 100%",
            "_model_name": "FloatProgressModel",
            "bar_style": "success",
            "max": 48,
            "_view_module": "@jupyter-widgets/controls",
            "_model_module_version": "1.5.0",
            "value": 48,
            "_view_count": null,
            "_view_module_version": "1.5.0",
            "orientation": "horizontal",
            "min": 0,
            "description_tooltip": null,
            "_model_module": "@jupyter-widgets/controls",
            "layout": "IPY_MODEL_7c0ddb466ba2460784251f46d2c1e5d0"
          }
        },
        "a0502864202042409451de1e7ce5cfd8": {
          "model_module": "@jupyter-widgets/controls",
          "model_name": "HTMLModel",
          "state": {
            "_view_name": "HTMLView",
            "style": "IPY_MODEL_ad435c08649143a59fe9af3b92d1aa54",
            "_dom_classes": [],
            "description": "",
            "_model_name": "HTMLModel",
            "placeholder": "​",
            "_view_module": "@jupyter-widgets/controls",
            "_model_module_version": "1.5.0",
            "value": " 48.0/48.0 [00:00&lt;00:00, 634B/s]",
            "_view_count": null,
            "_view_module_version": "1.5.0",
            "description_tooltip": null,
            "_model_module": "@jupyter-widgets/controls",
            "layout": "IPY_MODEL_1ad34d952c8149a1a8a921d2ce513c3a"
          }
        },
        "13aeb7566b8e4eed9acce0c761f9c301": {
          "model_module": "@jupyter-widgets/controls",
          "model_name": "ProgressStyleModel",
          "state": {
            "_view_name": "StyleView",
            "_model_name": "ProgressStyleModel",
            "description_width": "initial",
            "_view_module": "@jupyter-widgets/base",
            "_model_module_version": "1.5.0",
            "_view_count": null,
            "_view_module_version": "1.2.0",
            "bar_color": null,
            "_model_module": "@jupyter-widgets/controls"
          }
        },
        "7c0ddb466ba2460784251f46d2c1e5d0": {
          "model_module": "@jupyter-widgets/base",
          "model_name": "LayoutModel",
          "state": {
            "_view_name": "LayoutView",
            "grid_template_rows": null,
            "right": null,
            "justify_content": null,
            "_view_module": "@jupyter-widgets/base",
            "overflow": null,
            "_model_module_version": "1.2.0",
            "_view_count": null,
            "flex_flow": null,
            "width": null,
            "min_width": null,
            "border": null,
            "align_items": null,
            "bottom": null,
            "_model_module": "@jupyter-widgets/base",
            "top": null,
            "grid_column": null,
            "overflow_y": null,
            "overflow_x": null,
            "grid_auto_flow": null,
            "grid_area": null,
            "grid_template_columns": null,
            "flex": null,
            "_model_name": "LayoutModel",
            "justify_items": null,
            "grid_row": null,
            "max_height": null,
            "align_content": null,
            "visibility": null,
            "align_self": null,
            "height": null,
            "min_height": null,
            "padding": null,
            "grid_auto_rows": null,
            "grid_gap": null,
            "max_width": null,
            "order": null,
            "_view_module_version": "1.2.0",
            "grid_template_areas": null,
            "object_position": null,
            "object_fit": null,
            "grid_auto_columns": null,
            "margin": null,
            "display": null,
            "left": null
          }
        },
        "ad435c08649143a59fe9af3b92d1aa54": {
          "model_module": "@jupyter-widgets/controls",
          "model_name": "DescriptionStyleModel",
          "state": {
            "_view_name": "StyleView",
            "_model_name": "DescriptionStyleModel",
            "description_width": "",
            "_view_module": "@jupyter-widgets/base",
            "_model_module_version": "1.5.0",
            "_view_count": null,
            "_view_module_version": "1.2.0",
            "_model_module": "@jupyter-widgets/controls"
          }
        },
        "1ad34d952c8149a1a8a921d2ce513c3a": {
          "model_module": "@jupyter-widgets/base",
          "model_name": "LayoutModel",
          "state": {
            "_view_name": "LayoutView",
            "grid_template_rows": null,
            "right": null,
            "justify_content": null,
            "_view_module": "@jupyter-widgets/base",
            "overflow": null,
            "_model_module_version": "1.2.0",
            "_view_count": null,
            "flex_flow": null,
            "width": null,
            "min_width": null,
            "border": null,
            "align_items": null,
            "bottom": null,
            "_model_module": "@jupyter-widgets/base",
            "top": null,
            "grid_column": null,
            "overflow_y": null,
            "overflow_x": null,
            "grid_auto_flow": null,
            "grid_area": null,
            "grid_template_columns": null,
            "flex": null,
            "_model_name": "LayoutModel",
            "justify_items": null,
            "grid_row": null,
            "max_height": null,
            "align_content": null,
            "visibility": null,
            "align_self": null,
            "height": null,
            "min_height": null,
            "padding": null,
            "grid_auto_rows": null,
            "grid_gap": null,
            "max_width": null,
            "order": null,
            "_view_module_version": "1.2.0",
            "grid_template_areas": null,
            "object_position": null,
            "object_fit": null,
            "grid_auto_columns": null,
            "margin": null,
            "display": null,
            "left": null
          }
        }
      }
    }
  },
  "cells": [
    {
      "cell_type": "markdown",
      "metadata": {
        "id": "view-in-github",
        "colab_type": "text"
      },
      "source": [
        "<a href=\"https://colab.research.google.com/github/Karthiga-BM/Data_Analysis_And_Machine_Learning_Projects/blob/master/scrape_stock_research_summarize.ipynb\" target=\"_parent\"><img src=\"https://colab.research.google.com/assets/colab-badge.svg\" alt=\"Open In Colab\"/></a>"
      ]
    },
    {
      "cell_type": "code",
      "metadata": {
        "colab": {
          "base_uri": "https://localhost:8080/"
        },
        "id": "5JX4deOOWEAA",
        "outputId": "7da4c0b6-87f7-4bb9-84cb-8ad6a757af49"
      },
      "source": [
        "!pip install transformers"
      ],
      "execution_count": null,
      "outputs": [
        {
          "output_type": "stream",
          "text": [
            "Collecting transformers\n",
            "\u001b[?25l  Downloading https://files.pythonhosted.org/packages/81/91/61d69d58a1af1bd81d9ca9d62c90a6de3ab80d77f27c5df65d9a2c1f5626/transformers-4.5.0-py3-none-any.whl (2.1MB)\n",
            "\u001b[K     |████████████████████████████████| 2.2MB 5.7MB/s \n",
            "\u001b[?25hCollecting tokenizers<0.11,>=0.10.1\n",
            "\u001b[?25l  Downloading https://files.pythonhosted.org/packages/ae/04/5b870f26a858552025a62f1649c20d29d2672c02ff3c3fb4c688ca46467a/tokenizers-0.10.2-cp37-cp37m-manylinux2010_x86_64.whl (3.3MB)\n",
            "\u001b[K     |████████████████████████████████| 3.3MB 31.2MB/s \n",
            "\u001b[?25hRequirement already satisfied: tqdm>=4.27 in /usr/local/lib/python3.7/dist-packages (from transformers) (4.41.1)\n",
            "Requirement already satisfied: numpy>=1.17 in /usr/local/lib/python3.7/dist-packages (from transformers) (1.19.5)\n",
            "Requirement already satisfied: filelock in /usr/local/lib/python3.7/dist-packages (from transformers) (3.0.12)\n",
            "Requirement already satisfied: requests in /usr/local/lib/python3.7/dist-packages (from transformers) (2.23.0)\n",
            "Requirement already satisfied: packaging in /usr/local/lib/python3.7/dist-packages (from transformers) (20.9)\n",
            "Collecting sacremoses\n",
            "\u001b[?25l  Downloading https://files.pythonhosted.org/packages/08/cd/342e584ee544d044fb573ae697404ce22ede086c9e87ce5960772084cad0/sacremoses-0.0.44.tar.gz (862kB)\n",
            "\u001b[K     |████████████████████████████████| 870kB 30.0MB/s \n",
            "\u001b[?25hRequirement already satisfied: importlib-metadata; python_version < \"3.8\" in /usr/local/lib/python3.7/dist-packages (from transformers) (3.8.1)\n",
            "Requirement already satisfied: regex!=2019.12.17 in /usr/local/lib/python3.7/dist-packages (from transformers) (2019.12.20)\n",
            "Requirement already satisfied: chardet<4,>=3.0.2 in /usr/local/lib/python3.7/dist-packages (from requests->transformers) (3.0.4)\n",
            "Requirement already satisfied: certifi>=2017.4.17 in /usr/local/lib/python3.7/dist-packages (from requests->transformers) (2020.12.5)\n",
            "Requirement already satisfied: idna<3,>=2.5 in /usr/local/lib/python3.7/dist-packages (from requests->transformers) (2.10)\n",
            "Requirement already satisfied: urllib3!=1.25.0,!=1.25.1,<1.26,>=1.21.1 in /usr/local/lib/python3.7/dist-packages (from requests->transformers) (1.24.3)\n",
            "Requirement already satisfied: pyparsing>=2.0.2 in /usr/local/lib/python3.7/dist-packages (from packaging->transformers) (2.4.7)\n",
            "Requirement already satisfied: six in /usr/local/lib/python3.7/dist-packages (from sacremoses->transformers) (1.15.0)\n",
            "Requirement already satisfied: click in /usr/local/lib/python3.7/dist-packages (from sacremoses->transformers) (7.1.2)\n",
            "Requirement already satisfied: joblib in /usr/local/lib/python3.7/dist-packages (from sacremoses->transformers) (1.0.1)\n",
            "Requirement already satisfied: zipp>=0.5 in /usr/local/lib/python3.7/dist-packages (from importlib-metadata; python_version < \"3.8\"->transformers) (3.4.1)\n",
            "Requirement already satisfied: typing-extensions>=3.6.4; python_version < \"3.8\" in /usr/local/lib/python3.7/dist-packages (from importlib-metadata; python_version < \"3.8\"->transformers) (3.7.4.3)\n",
            "Building wheels for collected packages: sacremoses\n",
            "  Building wheel for sacremoses (setup.py) ... \u001b[?25l\u001b[?25hdone\n",
            "  Created wheel for sacremoses: filename=sacremoses-0.0.44-cp37-none-any.whl size=886084 sha256=016a98c16bbe82b0108cb891b6256bbb7ba5cb9602721500012b81be3da91282\n",
            "  Stored in directory: /root/.cache/pip/wheels/3e/fb/c0/13ab4d63d537658f448366744654323077c4d90069b6512f3c\n",
            "Successfully built sacremoses\n",
            "Installing collected packages: tokenizers, sacremoses, transformers\n",
            "Successfully installed sacremoses-0.0.44 tokenizers-0.10.2 transformers-4.5.0\n"
          ],
          "name": "stdout"
        }
      ]
    },
    {
      "cell_type": "code",
      "metadata": {
        "id": "NX705Ed9WQMf"
      },
      "source": [
        "from transformers import PegasusTokenizer, PegasusForConditionalGeneration\n",
        "from bs4 import BeautifulSoup\n",
        "import requests"
      ],
      "execution_count": 99,
      "outputs": []
    },
    {
      "cell_type": "code",
      "metadata": {
        "colab": {
          "base_uri": "https://localhost:8080/"
        },
        "id": "lkbxAjQvWdXr",
        "outputId": "bece4b7b-d239-4c6f-d1ec-fa763eb3b0ad"
      },
      "source": [
        "!pip install sentencepiece"
      ],
      "execution_count": null,
      "outputs": [
        {
          "output_type": "stream",
          "text": [
            "Collecting sentencepiece\n",
            "\u001b[?25l  Downloading https://files.pythonhosted.org/packages/f5/99/e0808cb947ba10f575839c43e8fafc9cc44e4a7a2c8f79c60db48220a577/sentencepiece-0.1.95-cp37-cp37m-manylinux2014_x86_64.whl (1.2MB)\n",
            "\u001b[K     |████████████████████████████████| 1.2MB 5.6MB/s \n",
            "\u001b[?25hInstalling collected packages: sentencepiece\n",
            "Successfully installed sentencepiece-0.1.95\n"
          ],
          "name": "stdout"
        }
      ]
    },
    {
      "cell_type": "code",
      "metadata": {
        "id": "nUyfruW_WWvb"
      },
      "source": [
        "model_name = \"human-centered-summarization/financial-summarization-pegasus\"\n",
        "tokenizer = PegasusTokenizer.from_pretrained(model_name)\n",
        "model = PegasusForConditionalGeneration.from_pretrained(model_name)"
      ],
      "execution_count": 100,
      "outputs": []
    },
    {
      "cell_type": "code",
      "metadata": {
        "id": "rhCGMKM7XL_g"
      },
      "source": [
        "url = \"https://au.finance.yahoo.com/news/china-restricting-tesla-use-uncovers-a-significant-challenge-for-elon-musk-expert-161921664.html\"\n",
        "r = requests.get(url)\n",
        "soup = BeautifulSoup(r.text, 'html.parser')\n",
        "paragraphs = soup.find_all('p')"
      ],
      "execution_count": 101,
      "outputs": []
    },
    {
      "cell_type": "code",
      "metadata": {
        "colab": {
          "base_uri": "https://localhost:8080/",
          "height": 35
        },
        "id": "V9wI4FydXmqP",
        "outputId": "efda238d-fd7c-40b0-dabf-34431ecdbc27"
      },
      "source": [
        "paragraphs[0].text\n"
      ],
      "execution_count": 102,
      "outputs": [
        {
          "output_type": "execute_result",
          "data": {
            "application/vnd.google.colaboratory.intrinsic+json": {
              "type": "string"
            },
            "text/plain": [
              "\"Stay informed every day with Yahoo Finance's free Fully Briefed newsletter.\""
            ]
          },
          "metadata": {
            "tags": []
          },
          "execution_count": 102
        }
      ]
    },
    {
      "cell_type": "code",
      "metadata": {
        "id": "m1rQSWEaXphq"
      },
      "source": [
        "text = [paragraph.text for paragraph in paragraphs]\n",
        "words = ' '.join(text).split(' ')[:400]\n",
        "ARTICLE = ' '.join(words)"
      ],
      "execution_count": 103,
      "outputs": []
    },
    {
      "cell_type": "code",
      "metadata": {
        "colab": {
          "base_uri": "https://localhost:8080/"
        },
        "id": "-X72FCCjYnYa",
        "outputId": "892d745e-bbc7-451d-a28c-9a767e0b2d96"
      },
      "source": [
        "len(words)"
      ],
      "execution_count": 104,
      "outputs": [
        {
          "output_type": "execute_result",
          "data": {
            "text/plain": [
              "400"
            ]
          },
          "metadata": {
            "tags": []
          },
          "execution_count": 104
        }
      ]
    },
    {
      "cell_type": "code",
      "metadata": {
        "colab": {
          "base_uri": "https://localhost:8080/",
          "height": 103
        },
        "id": "I_N2OGN7XtPm",
        "outputId": "b0243db4-f24a-43a5-fa72-65fe8b291e55"
      },
      "source": [
        "ARTICLE"
      ],
      "execution_count": 105,
      "outputs": [
        {
          "output_type": "execute_result",
          "data": {
            "application/vnd.google.colaboratory.intrinsic+json": {
              "type": "string"
            },
            "text/plain": [
              "'Stay informed every day with Yahoo Finance\\'s free Fully Briefed newsletter. Renewed political tensions between the U.S. and China — which came to light this week as the Biden administration sat down with their Chinese counterparts for the first time to discuss a range of issues — could ensnarl vehicle maker Tesla (TSLA), which has pushed successfully into China in recent years. In fact, the heightened rhetoric between the two super economic superpowers may have already had blowback on Elon Musk\\'s electric car company. The Chinese government is restricting the use of Tesla vehicles by military staff and employees of vital state-owned companies, The Wall Street Journal reported Friday. Chinese officials reportedly have concerns that Tesla\\'s cars — outfitted with various data collecting capabilities — could serve as leakers of national security secrets. \"I have been saying for months now that Tesla\\'s level of integration of their business, of their research, of their sort of geo-tracking for which there is integration with Chinese maps, their development of A.I. with Chinese firms, and electric battery technology that\\'s not sustainable in China given the trajectory [on policy] that we are now on,\" policy expert and Eurasia Group founder Ian Bremmer said on Yahoo Finance Live. \"Most American A.I. and technology companies are seen as critical for national security, they don\\'t have access in China — companies like Amazon, Google and Facebook. Tesla is the outlier.\" That outlier status has made China an incredibly important market for Tesla, and a key part of the investment thesis in the stock. Tesla\\'s sales in China clocked in at $6.66 billion in 2020, up 123% from a year earlier powered by strength in the Model 3. The business made up about 21% of Tesla\\'s overall 2020 sales. Tesla began deliveries of its China-made Model Y to Chinese consumers earlier this year. Bremmer warns Tesla now has a challenging road ahead in China in light of the recent development by the military. Musk\\'s response to the Chinese actions are important for investors to watch, suggests Bremmer. \"At a moment of some white knuckle tensions between the U.S. and China, Musk & Co. find themselves in a unique position (along with Apple) of being caught in the crossfire,\" Wedbush tech analyst Dan Ives said. Tesla shares fell about 2% on the report, as investors pondered if China will take a harder line on Tesla\\'s sales to consumers. \"One'"
            ]
          },
          "metadata": {
            "tags": []
          },
          "execution_count": 105
        }
      ]
    },
    {
      "cell_type": "code",
      "metadata": {
        "id": "1GCRnzROX2GJ"
      },
      "source": [
        "input_ids = tokenizer.encode(ARTICLE, return_tensors='pt')\n",
        "output = model.generate(input_ids, max_length=55, num_beams=5, early_stopping=True)\n",
        "summary = tokenizer.decode(output[0], skip_special_tokens=True)"
      ],
      "execution_count": 106,
      "outputs": []
    },
    {
      "cell_type": "code",
      "metadata": {
        "colab": {
          "base_uri": "https://localhost:8080/",
          "height": 35
        },
        "id": "cmg3scxOxw6k",
        "outputId": "ec5db206-81ae-4e72-ed32-2c430e26296a"
      },
      "source": [
        "summary"
      ],
      "execution_count": 107,
      "outputs": [
        {
          "output_type": "execute_result",
          "data": {
            "application/vnd.google.colaboratory.intrinsic+json": {
              "type": "string"
            },
            "text/plain": [
              "'China restricting use of electric cars by military. Tesla has been successful in China in recent years'"
            ]
          },
          "metadata": {
            "tags": []
          },
          "execution_count": 107
        }
      ]
    },
    {
      "cell_type": "code",
      "metadata": {
        "colab": {
          "base_uri": "https://localhost:8080/"
        },
        "id": "S1jGu2NeY3N6",
        "outputId": "44b63070-5263-4e78-d19a-99f40aaee16f"
      },
      "source": [
        "!pip install tensorflow"
      ],
      "execution_count": null,
      "outputs": [
        {
          "output_type": "stream",
          "text": [
            "Requirement already satisfied: tensorflow in /usr/local/lib/python3.7/dist-packages (2.4.1)\n",
            "Requirement already satisfied: tensorboard~=2.4 in /usr/local/lib/python3.7/dist-packages (from tensorflow) (2.4.1)\n",
            "Requirement already satisfied: protobuf>=3.9.2 in /usr/local/lib/python3.7/dist-packages (from tensorflow) (3.12.4)\n",
            "Requirement already satisfied: gast==0.3.3 in /usr/local/lib/python3.7/dist-packages (from tensorflow) (0.3.3)\n",
            "Requirement already satisfied: termcolor~=1.1.0 in /usr/local/lib/python3.7/dist-packages (from tensorflow) (1.1.0)\n",
            "Requirement already satisfied: grpcio~=1.32.0 in /usr/local/lib/python3.7/dist-packages (from tensorflow) (1.32.0)\n",
            "Requirement already satisfied: flatbuffers~=1.12.0 in /usr/local/lib/python3.7/dist-packages (from tensorflow) (1.12)\n",
            "Requirement already satisfied: keras-preprocessing~=1.1.2 in /usr/local/lib/python3.7/dist-packages (from tensorflow) (1.1.2)\n",
            "Requirement already satisfied: h5py~=2.10.0 in /usr/local/lib/python3.7/dist-packages (from tensorflow) (2.10.0)\n",
            "Requirement already satisfied: tensorflow-estimator<2.5.0,>=2.4.0 in /usr/local/lib/python3.7/dist-packages (from tensorflow) (2.4.0)\n",
            "Requirement already satisfied: six~=1.15.0 in /usr/local/lib/python3.7/dist-packages (from tensorflow) (1.15.0)\n",
            "Requirement already satisfied: google-pasta~=0.2 in /usr/local/lib/python3.7/dist-packages (from tensorflow) (0.2.0)\n",
            "Requirement already satisfied: opt-einsum~=3.3.0 in /usr/local/lib/python3.7/dist-packages (from tensorflow) (3.3.0)\n",
            "Requirement already satisfied: numpy~=1.19.2 in /usr/local/lib/python3.7/dist-packages (from tensorflow) (1.19.5)\n",
            "Requirement already satisfied: typing-extensions~=3.7.4 in /usr/local/lib/python3.7/dist-packages (from tensorflow) (3.7.4.3)\n",
            "Requirement already satisfied: wheel~=0.35 in /usr/local/lib/python3.7/dist-packages (from tensorflow) (0.36.2)\n",
            "Requirement already satisfied: wrapt~=1.12.1 in /usr/local/lib/python3.7/dist-packages (from tensorflow) (1.12.1)\n",
            "Requirement already satisfied: absl-py~=0.10 in /usr/local/lib/python3.7/dist-packages (from tensorflow) (0.12.0)\n",
            "Requirement already satisfied: astunparse~=1.6.3 in /usr/local/lib/python3.7/dist-packages (from tensorflow) (1.6.3)\n",
            "Requirement already satisfied: google-auth-oauthlib<0.5,>=0.4.1 in /usr/local/lib/python3.7/dist-packages (from tensorboard~=2.4->tensorflow) (0.4.3)\n",
            "Requirement already satisfied: werkzeug>=0.11.15 in /usr/local/lib/python3.7/dist-packages (from tensorboard~=2.4->tensorflow) (1.0.1)\n",
            "Requirement already satisfied: google-auth<2,>=1.6.3 in /usr/local/lib/python3.7/dist-packages (from tensorboard~=2.4->tensorflow) (1.28.0)\n",
            "Requirement already satisfied: requests<3,>=2.21.0 in /usr/local/lib/python3.7/dist-packages (from tensorboard~=2.4->tensorflow) (2.23.0)\n",
            "Requirement already satisfied: setuptools>=41.0.0 in /usr/local/lib/python3.7/dist-packages (from tensorboard~=2.4->tensorflow) (54.2.0)\n",
            "Requirement already satisfied: tensorboard-plugin-wit>=1.6.0 in /usr/local/lib/python3.7/dist-packages (from tensorboard~=2.4->tensorflow) (1.8.0)\n",
            "Requirement already satisfied: markdown>=2.6.8 in /usr/local/lib/python3.7/dist-packages (from tensorboard~=2.4->tensorflow) (3.3.4)\n",
            "Requirement already satisfied: requests-oauthlib>=0.7.0 in /usr/local/lib/python3.7/dist-packages (from google-auth-oauthlib<0.5,>=0.4.1->tensorboard~=2.4->tensorflow) (1.3.0)\n",
            "Requirement already satisfied: cachetools<5.0,>=2.0.0 in /usr/local/lib/python3.7/dist-packages (from google-auth<2,>=1.6.3->tensorboard~=2.4->tensorflow) (4.2.1)\n",
            "Requirement already satisfied: rsa<5,>=3.1.4; python_version >= \"3.6\" in /usr/local/lib/python3.7/dist-packages (from google-auth<2,>=1.6.3->tensorboard~=2.4->tensorflow) (4.7.2)\n",
            "Requirement already satisfied: pyasn1-modules>=0.2.1 in /usr/local/lib/python3.7/dist-packages (from google-auth<2,>=1.6.3->tensorboard~=2.4->tensorflow) (0.2.8)\n",
            "Requirement already satisfied: chardet<4,>=3.0.2 in /usr/local/lib/python3.7/dist-packages (from requests<3,>=2.21.0->tensorboard~=2.4->tensorflow) (3.0.4)\n",
            "Requirement already satisfied: certifi>=2017.4.17 in /usr/local/lib/python3.7/dist-packages (from requests<3,>=2.21.0->tensorboard~=2.4->tensorflow) (2020.12.5)\n",
            "Requirement already satisfied: urllib3!=1.25.0,!=1.25.1,<1.26,>=1.21.1 in /usr/local/lib/python3.7/dist-packages (from requests<3,>=2.21.0->tensorboard~=2.4->tensorflow) (1.24.3)\n",
            "Requirement already satisfied: idna<3,>=2.5 in /usr/local/lib/python3.7/dist-packages (from requests<3,>=2.21.0->tensorboard~=2.4->tensorflow) (2.10)\n",
            "Requirement already satisfied: importlib-metadata; python_version < \"3.8\" in /usr/local/lib/python3.7/dist-packages (from markdown>=2.6.8->tensorboard~=2.4->tensorflow) (3.8.1)\n",
            "Requirement already satisfied: oauthlib>=3.0.0 in /usr/local/lib/python3.7/dist-packages (from requests-oauthlib>=0.7.0->google-auth-oauthlib<0.5,>=0.4.1->tensorboard~=2.4->tensorflow) (3.1.0)\n",
            "Requirement already satisfied: pyasn1>=0.1.3 in /usr/local/lib/python3.7/dist-packages (from rsa<5,>=3.1.4; python_version >= \"3.6\"->google-auth<2,>=1.6.3->tensorboard~=2.4->tensorflow) (0.4.8)\n",
            "Requirement already satisfied: zipp>=0.5 in /usr/local/lib/python3.7/dist-packages (from importlib-metadata; python_version < \"3.8\"->markdown>=2.6.8->tensorboard~=2.4->tensorflow) (3.4.1)\n"
          ],
          "name": "stdout"
        }
      ]
    },
    {
      "cell_type": "code",
      "metadata": {
        "colab": {
          "base_uri": "https://localhost:8080/"
        },
        "id": "2pAinf5iaWg6",
        "outputId": "0f8190e9-1f03-414f-d97d-4548955cefc6"
      },
      "source": [
        "!pip install pyjwt"
      ],
      "execution_count": null,
      "outputs": [
        {
          "output_type": "stream",
          "text": [
            "Collecting pyjwt\n",
            "  Downloading https://files.pythonhosted.org/packages/b4/9b/8850f99027ed029af6828199cc87179eaccbbf1f9e6e373e7f0177d32dad/PyJWT-2.0.1-py3-none-any.whl\n",
            "Installing collected packages: pyjwt\n",
            "Successfully installed pyjwt-2.0.1\n"
          ],
          "name": "stdout"
        }
      ]
    },
    {
      "cell_type": "code",
      "metadata": {
        "colab": {
          "base_uri": "https://localhost:8080/"
        },
        "id": "daWnQkiqafxA",
        "outputId": "4f4b2553-973f-450e-9c83-25f7e4c02d45"
      },
      "source": [
        "!pip install requests"
      ],
      "execution_count": null,
      "outputs": [
        {
          "output_type": "stream",
          "text": [
            "Requirement already satisfied: requests in /usr/local/lib/python3.7/dist-packages (2.23.0)\n",
            "Requirement already satisfied: certifi>=2017.4.17 in /usr/local/lib/python3.7/dist-packages (from requests) (2020.12.5)\n",
            "Requirement already satisfied: idna<3,>=2.5 in /usr/local/lib/python3.7/dist-packages (from requests) (2.10)\n",
            "Requirement already satisfied: urllib3!=1.25.0,!=1.25.1,<1.26,>=1.21.1 in /usr/local/lib/python3.7/dist-packages (from requests) (1.24.3)\n",
            "Requirement already satisfied: chardet<4,>=3.0.2 in /usr/local/lib/python3.7/dist-packages (from requests) (3.0.4)\n"
          ],
          "name": "stdout"
        }
      ]
    },
    {
      "cell_type": "code",
      "metadata": {
        "id": "azEyP1PnafCG"
      },
      "source": [
        ""
      ],
      "execution_count": null,
      "outputs": []
    },
    {
      "cell_type": "code",
      "metadata": {
        "colab": {
          "base_uri": "https://localhost:8080/",
          "height": 35
        },
        "id": "2aR48usVX9R8",
        "outputId": "6adb2693-01e2-4cca-d669-e503df49d36c"
      },
      "source": [
        "summary"
      ],
      "execution_count": 108,
      "outputs": [
        {
          "output_type": "execute_result",
          "data": {
            "application/vnd.google.colaboratory.intrinsic+json": {
              "type": "string"
            },
            "text/plain": [
              "'China restricting use of electric cars by military. Tesla has been successful in China in recent years'"
            ]
          },
          "metadata": {
            "tags": []
          },
          "execution_count": 108
        }
      ]
    },
    {
      "cell_type": "code",
      "metadata": {
        "id": "Wt2Xlrbqrvbx"
      },
      "source": [
        "monitored_tickers = ['GME', 'TSLA', 'BTC']\n"
      ],
      "execution_count": 141,
      "outputs": []
    },
    {
      "cell_type": "code",
      "metadata": {
        "id": "xrqB41r9r5pV"
      },
      "source": [
        "def search_for_stock_news_urls(ticker):\n",
        "    search_url = \"https://www.google.com/search?q=yahoo+finance+{}&tbm=nws\".format(ticker)\n",
        "    r = requests.get(search_url)\n",
        "    soup = BeautifulSoup(r.text, 'html.parser')\n",
        "    atags = soup.find_all('a')\n",
        "    hrefs = [link['href'] for link in atags]\n",
        "    return hrefs"
      ],
      "execution_count": 142,
      "outputs": []
    },
    {
      "cell_type": "code",
      "metadata": {
        "colab": {
          "base_uri": "https://localhost:8080/"
        },
        "id": "0T3ywcesr_OH",
        "outputId": "d1b78ea1-7fd9-4738-b3c5-2b5a5ab5b54b"
      },
      "source": [
        "raw_urls = {ticker:search_for_stock_news_urls(ticker) for ticker in monitored_tickers}\n",
        "raw_urls"
      ],
      "execution_count": 143,
      "outputs": [
        {
          "output_type": "execute_result",
          "data": {
            "text/plain": [
              "{'BTC': ['/?sa=X&ved=0ahUKEwjbsubS-_HvAhW8QjABHR58DTgQOwgC',\n",
              "  '/?output=search&ie=UTF-8&tbm=nws&sa=X&ved=0ahUKEwjbsubS-_HvAhW8QjABHR58DTgQPAgE',\n",
              "  '/search?q=yahoo+finance+BTC&tbm=nws&ie=UTF-8&gbv=1&sei=P7RwYJuXDbyFwbkPnvi1wAM',\n",
              "  '/search?q=yahoo+finance+BTC&ie=UTF-8&source=lnms&sa=X&ved=0ahUKEwjbsubS-_HvAhW8QjABHR58DTgQ_AUIBygA',\n",
              "  '/search?q=yahoo+finance+BTC&ie=UTF-8&tbm=shop&source=lnms&sa=X&ved=0ahUKEwjbsubS-_HvAhW8QjABHR58DTgQ_AUICSgC',\n",
              "  '/search?q=yahoo+finance+BTC&ie=UTF-8&tbm=vid&source=lnms&sa=X&ved=0ahUKEwjbsubS-_HvAhW8QjABHR58DTgQ_AUICigD',\n",
              "  '/search?q=yahoo+finance+BTC&ie=UTF-8&tbm=isch&source=lnms&sa=X&ved=0ahUKEwjbsubS-_HvAhW8QjABHR58DTgQ_AUICygE',\n",
              "  'https://maps.google.com/maps?q=yahoo+finance+BTC&um=1&ie=UTF-8&sa=X&ved=0ahUKEwjbsubS-_HvAhW8QjABHR58DTgQ_AUIDCgF',\n",
              "  '/search?q=yahoo+finance+BTC&ie=UTF-8&tbm=bks&source=lnms&sa=X&ved=0ahUKEwjbsubS-_HvAhW8QjABHR58DTgQ_AUIDSgG',\n",
              "  '/advanced_search',\n",
              "  '/search?q=yahoo+finance+BTC&ie=UTF-8&tbm=nws&source=lnt&tbs=qdr:h&sa=X&ved=0ahUKEwjbsubS-_HvAhW8QjABHR58DTgQpwUIDw',\n",
              "  '/search?q=yahoo+finance+BTC&ie=UTF-8&tbm=nws&source=lnt&tbs=qdr:d&sa=X&ved=0ahUKEwjbsubS-_HvAhW8QjABHR58DTgQpwUIEA',\n",
              "  '/search?q=yahoo+finance+BTC&ie=UTF-8&tbm=nws&source=lnt&tbs=qdr:w&sa=X&ved=0ahUKEwjbsubS-_HvAhW8QjABHR58DTgQpwUIEQ',\n",
              "  '/search?q=yahoo+finance+BTC&ie=UTF-8&tbm=nws&source=lnt&tbs=qdr:m&sa=X&ved=0ahUKEwjbsubS-_HvAhW8QjABHR58DTgQpwUIEg',\n",
              "  '/search?q=yahoo+finance+BTC&ie=UTF-8&tbm=nws&source=lnt&tbs=qdr:y&sa=X&ved=0ahUKEwjbsubS-_HvAhW8QjABHR58DTgQpwUIEw',\n",
              "  '/search?q=yahoo+finance+BTC&ie=UTF-8&tbm=nws&source=lnt&tbs=ar:1&sa=X&ved=0ahUKEwjbsubS-_HvAhW8QjABHR58DTgQpwUIFA',\n",
              "  '/search?q=yahoo+finance+BTC&ie=UTF-8&tbm=nws&source=lnt&tbs=sbd:1&sa=X&ved=0ahUKEwjbsubS-_HvAhW8QjABHR58DTgQpwUIFg',\n",
              "  '/url?q=https://finance.yahoo.com/news/whipsawed-bitcoin-investors-eye-coinbase-184403852.html&sa=U&ved=2ahUKEwjbsubS-_HvAhW8QjABHR58DTgQxfQBMAB6BAgGEAE&usg=AOvVaw00TQdiXUf2XRzcHsK40s0p',\n",
              "  '/url?q=https://finance.yahoo.com/news/whipsawed-bitcoin-investors-eye-coinbase-184403852.html&sa=U&ved=2ahUKEwjbsubS-_HvAhW8QjABHR58DTgQ0Y8FMAB6BAgGEAI&usg=AOvVaw0q8tNatxiVHi_6a40-dkg3',\n",
              "  '/url?q=https://finance.yahoo.com/news/node-bitcoin-warts-175647661.html&sa=U&ved=2ahUKEwjbsubS-_HvAhW8QjABHR58DTgQxfQBMAF6BAgHEAE&usg=AOvVaw2WQBVq6ifu0F481iDfKM5U',\n",
              "  '/url?q=https://finance.yahoo.com/news/node-bitcoin-warts-175647661.html&sa=U&ved=2ahUKEwjbsubS-_HvAhW8QjABHR58DTgQ0Y8FMAF6BAgHEAI&usg=AOvVaw2_j8ZLwyeN1xF-9uA0ygPO',\n",
              "  '/url?q=https://finance.yahoo.com/news/no-stimmy-rally-why-1-110000326.html&sa=U&ved=2ahUKEwjbsubS-_HvAhW8QjABHR58DTgQxfQBMAJ6BAgIEAE&usg=AOvVaw2qu0gjI2-w2Ul-2bnIgKxR',\n",
              "  '/url?q=https://finance.yahoo.com/news/no-stimmy-rally-why-1-110000326.html&sa=U&ved=2ahUKEwjbsubS-_HvAhW8QjABHR58DTgQ0Y8FMAJ6BAgIEAI&usg=AOvVaw20wMvFzLxqTEyrAUgPu28N',\n",
              "  '/url?q=https://finance.yahoo.com/news/bitcoin-miners-again-stacking-coins-105106529.html&sa=U&ved=2ahUKEwjbsubS-_HvAhW8QjABHR58DTgQxfQBMAN6BAgJEAE&usg=AOvVaw3ju50_1ndnv_f3AT5MNRrk',\n",
              "  '/url?q=https://finance.yahoo.com/news/bitcoin-miners-again-stacking-coins-105106529.html&sa=U&ved=2ahUKEwjbsubS-_HvAhW8QjABHR58DTgQ0Y8FMAN6BAgJEAI&usg=AOvVaw0LUOGCZUqctHUugxMSG2f4',\n",
              "  '/url?q=https://finance.yahoo.com/news/bitcoin-btc-bullish-engulfing-candle-073500376.html&sa=U&ved=2ahUKEwjbsubS-_HvAhW8QjABHR58DTgQxfQBMAR6BAgCEAE&usg=AOvVaw1vXMaz_ZanH6aLUzA45YC6',\n",
              "  '/url?q=https://finance.yahoo.com/news/bitcoin-btc-bullish-engulfing-candle-073500376.html&sa=U&ved=2ahUKEwjbsubS-_HvAhW8QjABHR58DTgQ0Y8FMAR6BAgCEAI&usg=AOvVaw0wxHokM-XC3qShxAaToPef',\n",
              "  '/url?q=https://finance.yahoo.com/news/bitcoin-real-price-crypto-mining-210000646.html&sa=U&ved=2ahUKEwjbsubS-_HvAhW8QjABHR58DTgQxfQBMAV6BAgAEAE&usg=AOvVaw3sGMS4IPzWkAw4llcDFz0H',\n",
              "  '/url?q=https://finance.yahoo.com/news/bitcoin-real-price-crypto-mining-210000646.html&sa=U&ved=2ahUKEwjbsubS-_HvAhW8QjABHR58DTgQ0Y8FMAV6BAgAEAI&usg=AOvVaw1Bk5_AVpf5SAd7jRYaxFWO',\n",
              "  '/url?q=https://finance.yahoo.com/news/chinese-firm-meitu-buys-10m-204038469.html&sa=U&ved=2ahUKEwjbsubS-_HvAhW8QjABHR58DTgQxfQBMAZ6BAgDEAE&usg=AOvVaw3Kq38Je7RgEa-UO5NklNMa',\n",
              "  '/url?q=https://finance.yahoo.com/news/chinese-firm-meitu-buys-10m-204038469.html&sa=U&ved=2ahUKEwjbsubS-_HvAhW8QjABHR58DTgQ0Y8FMAZ6BAgDEAI&usg=AOvVaw1MbJfVDA-_amTIVuEX3yx3',\n",
              "  '/url?q=https://finance.yahoo.com/news/market-wrap-bitcoin-near-58k-202318117.html&sa=U&ved=2ahUKEwjbsubS-_HvAhW8QjABHR58DTgQxfQBMAd6BAgFEAE&usg=AOvVaw2QwW6ngLdn7Kq0UVrQDl94',\n",
              "  '/url?q=https://finance.yahoo.com/news/market-wrap-bitcoin-near-58k-202318117.html&sa=U&ved=2ahUKEwjbsubS-_HvAhW8QjABHR58DTgQ0Y8FMAd6BAgFEAI&usg=AOvVaw23YuTWB3DzKoTltda18j3R',\n",
              "  '/url?q=https://finance.yahoo.com/news/bitcoin-stuck-solution-stay-132948545.html&sa=U&ved=2ahUKEwjbsubS-_HvAhW8QjABHR58DTgQxfQBMAh6BAgBEAE&usg=AOvVaw0GJe5xHtvTHBGexBX1s4Uy',\n",
              "  '/url?q=https://finance.yahoo.com/news/bitcoin-stuck-solution-stay-132948545.html&sa=U&ved=2ahUKEwjbsubS-_HvAhW8QjABHR58DTgQ0Y8FMAh6BAgBEAI&usg=AOvVaw3_AtbA6rMp0vGyXZjoD4Cc',\n",
              "  '/url?q=https://finance.yahoo.com/news/peter-thiel-china-using-bitcoin-093000576.html&sa=U&ved=2ahUKEwjbsubS-_HvAhW8QjABHR58DTgQxfQBMAl6BAgEEAE&usg=AOvVaw11D8K3LvoRDFFxSCsHIAey',\n",
              "  '/url?q=https://finance.yahoo.com/news/peter-thiel-china-using-bitcoin-093000576.html&sa=U&ved=2ahUKEwjbsubS-_HvAhW8QjABHR58DTgQ0Y8FMAl6BAgEEAI&usg=AOvVaw3U41o23FrssugdRXYRsPvH',\n",
              "  '/search?q=yahoo+finance+BTC&ie=UTF-8&tbm=nws&ei=P7RwYJuXDbyFwbkPnvi1wAM&start=10&sa=N',\n",
              "  '/url?q=https://support.google.com/websearch%3Fp%3Dws_settings_location%26hl%3Den&sa=U&ved=0ahUKEwjbsubS-_HvAhW8QjABHR58DTgQty4IVQ&usg=AOvVaw1dHVbEIcSibFUYkEhB_RUw',\n",
              "  '/url?q=https://accounts.google.com/ServiceLogin%3Fcontinue%3Dhttps://www.google.com/search%253Fq%253Dyahoo%252Bfinance%252BBTC%2526tbm%253Dnws%26hl%3Den&sa=U&ved=0ahUKEwjbsubS-_HvAhW8QjABHR58DTgQxs8CCFY&usg=AOvVaw1FHERThOuIR6hQrTFf-WZH',\n",
              "  'https://www.google.com/preferences?hl=en&fg=1&sa=X&ved=0ahUKEwjbsubS-_HvAhW8QjABHR58DTgQ5fUCCFc',\n",
              "  'https://policies.google.com/privacy?hl=en&fg=1',\n",
              "  'https://policies.google.com/terms?hl=en&fg=1'],\n",
              " 'GME': ['/?sa=X&ved=0ahUKEwjn5qTS-_HvAhVWVTABHY7tBh8QOwgC',\n",
              "  '/?output=search&ie=UTF-8&tbm=nws&sa=X&ved=0ahUKEwjn5qTS-_HvAhVWVTABHY7tBh8QPAgE',\n",
              "  '/search?q=yahoo+finance+GME&tbm=nws&ie=UTF-8&gbv=1&sei=PrRwYOfPCNaqwbkPjtub-AE',\n",
              "  '/search?q=yahoo+finance+GME&ie=UTF-8&source=lnms&sa=X&ved=0ahUKEwjn5qTS-_HvAhVWVTABHY7tBh8Q_AUIBygA',\n",
              "  '/search?q=yahoo+finance+GME&ie=UTF-8&tbm=bks&source=lnms&sa=X&ved=0ahUKEwjn5qTS-_HvAhVWVTABHY7tBh8Q_AUICSgC',\n",
              "  '/search?q=yahoo+finance+GME&ie=UTF-8&tbm=vid&source=lnms&sa=X&ved=0ahUKEwjn5qTS-_HvAhVWVTABHY7tBh8Q_AUICigD',\n",
              "  '/search?q=yahoo+finance+GME&ie=UTF-8&tbm=isch&source=lnms&sa=X&ved=0ahUKEwjn5qTS-_HvAhVWVTABHY7tBh8Q_AUICygE',\n",
              "  'https://maps.google.com/maps?q=yahoo+finance+GME&um=1&ie=UTF-8&sa=X&ved=0ahUKEwjn5qTS-_HvAhVWVTABHY7tBh8Q_AUIDCgF',\n",
              "  '/search?q=yahoo+finance+GME&ie=UTF-8&tbm=shop&source=lnms&sa=X&ved=0ahUKEwjn5qTS-_HvAhVWVTABHY7tBh8Q_AUIDSgG',\n",
              "  '/advanced_search',\n",
              "  '/search?q=yahoo+finance+GME&ie=UTF-8&tbm=nws&source=lnt&tbs=qdr:h&sa=X&ved=0ahUKEwjn5qTS-_HvAhVWVTABHY7tBh8QpwUIDw',\n",
              "  '/search?q=yahoo+finance+GME&ie=UTF-8&tbm=nws&source=lnt&tbs=qdr:d&sa=X&ved=0ahUKEwjn5qTS-_HvAhVWVTABHY7tBh8QpwUIEA',\n",
              "  '/search?q=yahoo+finance+GME&ie=UTF-8&tbm=nws&source=lnt&tbs=qdr:w&sa=X&ved=0ahUKEwjn5qTS-_HvAhVWVTABHY7tBh8QpwUIEQ',\n",
              "  '/search?q=yahoo+finance+GME&ie=UTF-8&tbm=nws&source=lnt&tbs=qdr:m&sa=X&ved=0ahUKEwjn5qTS-_HvAhVWVTABHY7tBh8QpwUIEg',\n",
              "  '/search?q=yahoo+finance+GME&ie=UTF-8&tbm=nws&source=lnt&tbs=qdr:y&sa=X&ved=0ahUKEwjn5qTS-_HvAhVWVTABHY7tBh8QpwUIEw',\n",
              "  '/search?q=yahoo+finance+GME&ie=UTF-8&tbm=nws&source=lnt&tbs=ar:1&sa=X&ved=0ahUKEwjn5qTS-_HvAhVWVTABHY7tBh8QpwUIFA',\n",
              "  '/search?q=yahoo+finance+GME&ie=UTF-8&tbm=nws&source=lnt&tbs=sbd:1&sa=X&ved=0ahUKEwjn5qTS-_HvAhVWVTABHY7tBh8QpwUIFg',\n",
              "  '/url?q=https://finance.yahoo.com/news/exclusive-gamestops-strong-stock-performance-021015968.html&sa=U&ved=2ahUKEwjn5qTS-_HvAhVWVTABHY7tBh8QxfQBMAB6BAgCEAE&usg=AOvVaw35YFwJdHwjlTCxc0OktjL0',\n",
              "  '/url?q=https://finance.yahoo.com/news/exclusive-gamestops-strong-stock-performance-021015968.html&sa=U&ved=2ahUKEwjn5qTS-_HvAhVWVTABHY7tBh8Q0Y8FMAB6BAgCEAI&usg=AOvVaw1QO9LgEOR-BwcZk5iLHXUA',\n",
              "  '/url?q=https://finance.yahoo.com/news/gamestop-gme-set-sell-shares-141502169.html&sa=U&ved=2ahUKEwjn5qTS-_HvAhVWVTABHY7tBh8QxfQBMAF6BAgHEAE&usg=AOvVaw0VhzotE6_WQPXr-TMLFJr6',\n",
              "  '/url?q=https://finance.yahoo.com/news/gamestop-gme-set-sell-shares-141502169.html&sa=U&ved=2ahUKEwjn5qTS-_HvAhVWVTABHY7tBh8Q0Y8FMAF6BAgHEAI&usg=AOvVaw35k9X7JJph1HWjjCi6qREz',\n",
              "  '/url?q=https://finance.yahoo.com/news/gamestop-plans-activist-ryan-cohen-112330738.html&sa=U&ved=2ahUKEwjn5qTS-_HvAhVWVTABHY7tBh8QxfQBMAJ6BAgIEAE&usg=AOvVaw1kkgSIES5xWI63H-5QldBC',\n",
              "  '/url?q=https://finance.yahoo.com/news/gamestop-plans-activist-ryan-cohen-112330738.html&sa=U&ved=2ahUKEwjn5qTS-_HvAhVWVTABHY7tBh8Q0Y8FMAJ6BAgIEAI&usg=AOvVaw1Vhe9CVRNsZFkWShteC97d',\n",
              "  '/url?q=https://finance.yahoo.com/news/gamestop-gme-upgraded-buy-does-160004421.html&sa=U&ved=2ahUKEwjn5qTS-_HvAhVWVTABHY7tBh8QxfQBMAN6BAgJEAE&usg=AOvVaw0tTfbJz2FerpzeYVJzNLDo',\n",
              "  '/url?q=https://finance.yahoo.com/news/gamestop-gme-upgraded-buy-does-160004421.html&sa=U&ved=2ahUKEwjn5qTS-_HvAhVWVTABHY7tBh8Q0Y8FMAN6BAgJEAI&usg=AOvVaw0i1pbibQ4Vfu5JmYOv6Fy4',\n",
              "  '/url?q=https://ca.finance.yahoo.com/news/gamestop-nyse-gme-stock-game-151521231.html&sa=U&ved=2ahUKEwjn5qTS-_HvAhVWVTABHY7tBh8QxfQBMAR6BAgEEAE&usg=AOvVaw0-9XVzO6_2jSCmEEOev6ho',\n",
              "  '/url?q=https://ca.finance.yahoo.com/news/gamestop-nyse-gme-stock-game-151521231.html&sa=U&ved=2ahUKEwjn5qTS-_HvAhVWVTABHY7tBh8Q0Y8FMAR6BAgEEAI&usg=AOvVaw0pknpdcTtnlFdku8cPbBjQ',\n",
              "  '/url?q=https://finance.yahoo.com/news/gamestop-gme-outpaces-stock-market-214509325.html&sa=U&ved=2ahUKEwjn5qTS-_HvAhVWVTABHY7tBh8QxfQBMAV6BAgAEAE&usg=AOvVaw0WWK5WG73V1CfJBU4vyIBU',\n",
              "  '/url?q=https://finance.yahoo.com/news/gamestop-gme-outpaces-stock-market-214509325.html&sa=U&ved=2ahUKEwjn5qTS-_HvAhVWVTABHY7tBh8Q0Y8FMAV6BAgAEAI&usg=AOvVaw2qHiMJT2BY0Fa3lyWrdQxm',\n",
              "  '/url?q=https://finance.yahoo.com/news/gamestop-gme-stock-sinks-market-224510746.html&sa=U&ved=2ahUKEwjn5qTS-_HvAhVWVTABHY7tBh8QxfQBMAZ6BAgFEAE&usg=AOvVaw29QFeb5CM_2mJqnxS39lqL',\n",
              "  '/url?q=https://finance.yahoo.com/news/gamestop-gme-stock-sinks-market-224510746.html&sa=U&ved=2ahUKEwjn5qTS-_HvAhVWVTABHY7tBh8Q0Y8FMAZ6BAgFEAI&usg=AOvVaw2e-fE9XFdD887dxGQOU3o2',\n",
              "  '/url?q=https://finance.yahoo.com/news/gamestop-amc-selling-shares-good-081027005.html&sa=U&ved=2ahUKEwjn5qTS-_HvAhVWVTABHY7tBh8QxfQBMAd6BAgBEAE&usg=AOvVaw2W09TtXR7EMdwhJtpTYKvd',\n",
              "  '/url?q=https://finance.yahoo.com/news/gamestop-amc-selling-shares-good-081027005.html&sa=U&ved=2ahUKEwjn5qTS-_HvAhVWVTABHY7tBh8Q0Y8FMAd6BAgBEAI&usg=AOvVaw3gGgKFEttPMU5gDPTMPrdG',\n",
              "  '/url?q=https://finance.yahoo.com/news/atento-supports-gamestop-overcome-pandemic-221600168.html&sa=U&ved=2ahUKEwjn5qTS-_HvAhVWVTABHY7tBh8QxfQBMAh6BAgGEAE&usg=AOvVaw3MGRSUolP5McrXuoflCtyr',\n",
              "  '/url?q=https://finance.yahoo.com/news/atento-supports-gamestop-overcome-pandemic-221600168.html&sa=U&ved=2ahUKEwjn5qTS-_HvAhVWVTABHY7tBh8Q0Y8FMAh6BAgGEAI&usg=AOvVaw0nJJBXE2_POVsCez4lAYga',\n",
              "  '/url?q=https://finance.yahoo.com/news/we-should-see-the-gme-short-squeeze-continuing-s-3-partners-174542296.html&sa=U&ved=2ahUKEwjn5qTS-_HvAhVWVTABHY7tBh8QxfQBMAl6BAgDEAE&usg=AOvVaw3C9JTyC5WHSt6Ex1KzK5bo',\n",
              "  '/url?q=https://finance.yahoo.com/news/we-should-see-the-gme-short-squeeze-continuing-s-3-partners-174542296.html&sa=U&ved=2ahUKEwjn5qTS-_HvAhVWVTABHY7tBh8Q0Y8FMAl6BAgDEAI&usg=AOvVaw0XEdMNIrpXxdlwEzYbGPrH',\n",
              "  '/search?q=yahoo+finance+GME&ie=UTF-8&tbm=nws&ei=PrRwYOfPCNaqwbkPjtub-AE&start=10&sa=N',\n",
              "  '/url?q=https://support.google.com/websearch%3Fp%3Dws_settings_location%26hl%3Den&sa=U&ved=0ahUKEwjn5qTS-_HvAhVWVTABHY7tBh8Qty4IVQ&usg=AOvVaw39JhSZOc_Z_hMu7fmVETk6',\n",
              "  '/url?q=https://accounts.google.com/ServiceLogin%3Fcontinue%3Dhttps://www.google.com/search%253Fq%253Dyahoo%252Bfinance%252BGME%2526tbm%253Dnws%26hl%3Den&sa=U&ved=0ahUKEwjn5qTS-_HvAhVWVTABHY7tBh8Qxs8CCFY&usg=AOvVaw0OWvXHv-0FaQUKbEJvD7eY',\n",
              "  'https://www.google.com/preferences?hl=en&fg=1&sa=X&ved=0ahUKEwjn5qTS-_HvAhVWVTABHY7tBh8Q5fUCCFc',\n",
              "  'https://policies.google.com/privacy?hl=en&fg=1',\n",
              "  'https://policies.google.com/terms?hl=en&fg=1'],\n",
              " 'TSLA': ['/?sa=X&ved=0ahUKEwilzcXS-_HvAhVMQTABHdROD_8QOwgC',\n",
              "  '/?output=search&ie=UTF-8&tbm=nws&sa=X&ved=0ahUKEwilzcXS-_HvAhVMQTABHdROD_8QPAgE',\n",
              "  '/search?q=yahoo+finance+TSLA&tbm=nws&ie=UTF-8&gbv=1&sei=PrRwYKW2KcyCwbkP1J29-A8',\n",
              "  '/search?q=yahoo+finance+TSLA&ie=UTF-8&source=lnms&sa=X&ved=0ahUKEwilzcXS-_HvAhVMQTABHdROD_8Q_AUIBygA',\n",
              "  '/search?q=yahoo+finance+TSLA&ie=UTF-8&tbm=bks&source=lnms&sa=X&ved=0ahUKEwilzcXS-_HvAhVMQTABHdROD_8Q_AUICSgC',\n",
              "  '/search?q=yahoo+finance+TSLA&ie=UTF-8&tbm=shop&source=lnms&sa=X&ved=0ahUKEwilzcXS-_HvAhVMQTABHdROD_8Q_AUICigD',\n",
              "  '/search?q=yahoo+finance+TSLA&ie=UTF-8&tbm=isch&source=lnms&sa=X&ved=0ahUKEwilzcXS-_HvAhVMQTABHdROD_8Q_AUICygE',\n",
              "  'https://maps.google.com/maps?q=yahoo+finance+TSLA&um=1&ie=UTF-8&sa=X&ved=0ahUKEwilzcXS-_HvAhVMQTABHdROD_8Q_AUIDCgF',\n",
              "  '/search?q=yahoo+finance+TSLA&ie=UTF-8&tbm=vid&source=lnms&sa=X&ved=0ahUKEwilzcXS-_HvAhVMQTABHdROD_8Q_AUIDSgG',\n",
              "  '/advanced_search',\n",
              "  '/search?q=yahoo+finance+TSLA&ie=UTF-8&tbm=nws&source=lnt&tbs=qdr:h&sa=X&ved=0ahUKEwilzcXS-_HvAhVMQTABHdROD_8QpwUIDw',\n",
              "  '/search?q=yahoo+finance+TSLA&ie=UTF-8&tbm=nws&source=lnt&tbs=qdr:d&sa=X&ved=0ahUKEwilzcXS-_HvAhVMQTABHdROD_8QpwUIEA',\n",
              "  '/search?q=yahoo+finance+TSLA&ie=UTF-8&tbm=nws&source=lnt&tbs=qdr:w&sa=X&ved=0ahUKEwilzcXS-_HvAhVMQTABHdROD_8QpwUIEQ',\n",
              "  '/search?q=yahoo+finance+TSLA&ie=UTF-8&tbm=nws&source=lnt&tbs=qdr:m&sa=X&ved=0ahUKEwilzcXS-_HvAhVMQTABHdROD_8QpwUIEg',\n",
              "  '/search?q=yahoo+finance+TSLA&ie=UTF-8&tbm=nws&source=lnt&tbs=qdr:y&sa=X&ved=0ahUKEwilzcXS-_HvAhVMQTABHdROD_8QpwUIEw',\n",
              "  '/search?q=yahoo+finance+TSLA&ie=UTF-8&tbm=nws&source=lnt&tbs=ar:1&sa=X&ved=0ahUKEwilzcXS-_HvAhVMQTABHdROD_8QpwUIFA',\n",
              "  '/search?q=yahoo+finance+TSLA&ie=UTF-8&tbm=nws&source=lnt&tbs=sbd:1&sa=X&ved=0ahUKEwilzcXS-_HvAhVMQTABHdROD_8QpwUIFg',\n",
              "  '/url?q=https://finance.yahoo.com/news/tesla-sales-climb-1-300-213847580.html&sa=U&ved=2ahUKEwilzcXS-_HvAhVMQTABHdROD_8QxfQBMAB6BAgBEAE&usg=AOvVaw1W_AMqKR2I_xpw0n_mon4t',\n",
              "  '/url?q=https://finance.yahoo.com/news/tesla-sales-climb-1-300-213847580.html&sa=U&ved=2ahUKEwilzcXS-_HvAhVMQTABHdROD_8Q0Y8FMAB6BAgBEAI&usg=AOvVaw36v-m9tw9H5dIV8ILA7KpV',\n",
              "  '/url?q=https://finance.yahoo.com/news/tesla-tsla-outpaces-stock-market-214509792.html&sa=U&ved=2ahUKEwilzcXS-_HvAhVMQTABHdROD_8QxfQBMAF6BAgJEAE&usg=AOvVaw39Vh38yvWcSKVy--HCr5Y_',\n",
              "  '/url?q=https://finance.yahoo.com/news/tesla-tsla-outpaces-stock-market-214509792.html&sa=U&ved=2ahUKEwilzcXS-_HvAhVMQTABHdROD_8Q0Y8FMAF6BAgJEAI&usg=AOvVaw1WqlCRaHthIVEHlGowAXrC',\n",
              "  '/url?q=https://finance.yahoo.com/news/tesla-stock-traders-could-look-195110179.html&sa=U&ved=2ahUKEwilzcXS-_HvAhVMQTABHdROD_8QxfQBMAJ6BAgIEAE&usg=AOvVaw2c8gcjzIOeKB2tPVVOURYs',\n",
              "  '/url?q=https://finance.yahoo.com/news/tesla-stock-traders-could-look-195110179.html&sa=U&ved=2ahUKEwilzcXS-_HvAhVMQTABHdROD_8Q0Y8FMAJ6BAgIEAI&usg=AOvVaw3qG9b341PxOUS2aQzxW9hc',\n",
              "  '/url?q=https://finance.yahoo.com/news/afford-tesla-even-youre-not-023000942.html&sa=U&ved=2ahUKEwilzcXS-_HvAhVMQTABHdROD_8QxfQBMAN6BAgHEAE&usg=AOvVaw3hWIrdm6H763mGgSi1e1xL',\n",
              "  '/url?q=https://finance.yahoo.com/news/afford-tesla-even-youre-not-023000942.html&sa=U&ved=2ahUKEwilzcXS-_HvAhVMQTABHdROD_8Q0Y8FMAN6BAgHEAI&usg=AOvVaw3lDj1vfRHQ3osD8_Ux8MIG',\n",
              "  '/url?q=https://finance.yahoo.com/news/tesla-shares-surge-electric-carmaker-093448363.html&sa=U&ved=2ahUKEwilzcXS-_HvAhVMQTABHdROD_8QxfQBMAR6BAgAEAE&usg=AOvVaw11_e8Q57rrSXebTR3J7rfd',\n",
              "  '/url?q=https://finance.yahoo.com/news/tesla-shares-surge-electric-carmaker-093448363.html&sa=U&ved=2ahUKEwilzcXS-_HvAhVMQTABHdROD_8Q0Y8FMAR6BAgAEAI&usg=AOvVaw1NeDVOrfdn0DYuOexZV86q',\n",
              "  '/url?q=https://finance.yahoo.com/news/tesla-jaw-dropper-delivery-numbers-124222636.html&sa=U&ved=2ahUKEwilzcXS-_HvAhVMQTABHdROD_8QxfQBMAV6BAgCEAE&usg=AOvVaw2XE1zg-w4asJb8GAdzlnyo',\n",
              "  '/url?q=https://finance.yahoo.com/news/tesla-jaw-dropper-delivery-numbers-124222636.html&sa=U&ved=2ahUKEwilzcXS-_HvAhVMQTABHdROD_8Q0Y8FMAV6BAgCEAI&usg=AOvVaw3rXab6xTghhU2BYc31VBS2',\n",
              "  '/url?q=https://finance.yahoo.com/news/auto-stock-roundup-tsla-q1-121112972.html&sa=U&ved=2ahUKEwilzcXS-_HvAhVMQTABHdROD_8QxfQBMAZ6BAgEEAE&usg=AOvVaw2tRZVyoS3l8TZLzowJWYb-',\n",
              "  '/url?q=https://finance.yahoo.com/news/auto-stock-roundup-tsla-q1-121112972.html&sa=U&ved=2ahUKEwilzcXS-_HvAhVMQTABHdROD_8Q0Y8FMAZ6BAgEEAI&usg=AOvVaw2g3OEI9sTHT8qoO2rI-GiB',\n",
              "  '/url?q=https://finance.yahoo.com/video/tesla-must-own-stock-now-175409321.html&sa=U&ved=2ahUKEwilzcXS-_HvAhVMQTABHdROD_8QxfQBMAd6BAgGEAE&usg=AOvVaw0pvhGOo4P0_b8_sD4zY2AY',\n",
              "  '/url?q=https://finance.yahoo.com/video/tesla-must-own-stock-now-175409321.html&sa=U&ved=2ahUKEwilzcXS-_HvAhVMQTABHdROD_8Q0Y8FMAd6BAgGEAI&usg=AOvVaw05qSVfRE1oT65Yw9gl79Ia',\n",
              "  '/url?q=https://finance.yahoo.com/news/elon-musk-says-1950s-style-125153765.html&sa=U&ved=2ahUKEwilzcXS-_HvAhVMQTABHdROD_8QxfQBMAh6BAgFEAE&usg=AOvVaw2BOxKI_G61DxNKV9ryN0rJ',\n",
              "  '/url?q=https://finance.yahoo.com/news/elon-musk-says-1950s-style-125153765.html&sa=U&ved=2ahUKEwilzcXS-_HvAhVMQTABHdROD_8Q0Y8FMAh6BAgFEAI&usg=AOvVaw1oh2oFfF0SX_vS_fO4zN_M',\n",
              "  '/url?q=https://finance.yahoo.com/news/tesla-offering-50-night-discount-062516611.html&sa=U&ved=2ahUKEwilzcXS-_HvAhVMQTABHdROD_8QxfQBMAl6BAgDEAE&usg=AOvVaw0TobyoQCA2lBdyr9C3bpqQ',\n",
              "  '/url?q=https://finance.yahoo.com/news/tesla-offering-50-night-discount-062516611.html&sa=U&ved=2ahUKEwilzcXS-_HvAhVMQTABHdROD_8Q0Y8FMAl6BAgDEAI&usg=AOvVaw2oF-obU-MsThn-XbqVSDEp',\n",
              "  '/search?q=yahoo+finance+TSLA&ie=UTF-8&tbm=nws&ei=PrRwYKW2KcyCwbkP1J29-A8&start=10&sa=N',\n",
              "  '/url?q=https://support.google.com/websearch%3Fp%3Dws_settings_location%26hl%3Den&sa=U&ved=0ahUKEwilzcXS-_HvAhVMQTABHdROD_8Qty4IVQ&usg=AOvVaw27_2Q0uQAPYdho1N0oFIlP',\n",
              "  '/url?q=https://accounts.google.com/ServiceLogin%3Fcontinue%3Dhttps://www.google.com/search%253Fq%253Dyahoo%252Bfinance%252BTSLA%2526tbm%253Dnws%26hl%3Den&sa=U&ved=0ahUKEwilzcXS-_HvAhVMQTABHdROD_8Qxs8CCFY&usg=AOvVaw0ThxmHEV346n1Ubh8grTen',\n",
              "  'https://www.google.com/preferences?hl=en&fg=1&sa=X&ved=0ahUKEwilzcXS-_HvAhVMQTABHdROD_8Q5fUCCFc',\n",
              "  'https://policies.google.com/privacy?hl=en&fg=1',\n",
              "  'https://policies.google.com/terms?hl=en&fg=1']}"
            ]
          },
          "metadata": {
            "tags": []
          },
          "execution_count": 143
        }
      ]
    },
    {
      "cell_type": "code",
      "metadata": {
        "colab": {
          "base_uri": "https://localhost:8080/"
        },
        "id": "pg0XrdsjsEBR",
        "outputId": "71b187d9-5c50-427c-c9fb-a03afcee8885"
      },
      "source": [
        "raw_urls['GME']\n"
      ],
      "execution_count": 144,
      "outputs": [
        {
          "output_type": "execute_result",
          "data": {
            "text/plain": [
              "['/?sa=X&ved=0ahUKEwjn5qTS-_HvAhVWVTABHY7tBh8QOwgC',\n",
              " '/?output=search&ie=UTF-8&tbm=nws&sa=X&ved=0ahUKEwjn5qTS-_HvAhVWVTABHY7tBh8QPAgE',\n",
              " '/search?q=yahoo+finance+GME&tbm=nws&ie=UTF-8&gbv=1&sei=PrRwYOfPCNaqwbkPjtub-AE',\n",
              " '/search?q=yahoo+finance+GME&ie=UTF-8&source=lnms&sa=X&ved=0ahUKEwjn5qTS-_HvAhVWVTABHY7tBh8Q_AUIBygA',\n",
              " '/search?q=yahoo+finance+GME&ie=UTF-8&tbm=bks&source=lnms&sa=X&ved=0ahUKEwjn5qTS-_HvAhVWVTABHY7tBh8Q_AUICSgC',\n",
              " '/search?q=yahoo+finance+GME&ie=UTF-8&tbm=vid&source=lnms&sa=X&ved=0ahUKEwjn5qTS-_HvAhVWVTABHY7tBh8Q_AUICigD',\n",
              " '/search?q=yahoo+finance+GME&ie=UTF-8&tbm=isch&source=lnms&sa=X&ved=0ahUKEwjn5qTS-_HvAhVWVTABHY7tBh8Q_AUICygE',\n",
              " 'https://maps.google.com/maps?q=yahoo+finance+GME&um=1&ie=UTF-8&sa=X&ved=0ahUKEwjn5qTS-_HvAhVWVTABHY7tBh8Q_AUIDCgF',\n",
              " '/search?q=yahoo+finance+GME&ie=UTF-8&tbm=shop&source=lnms&sa=X&ved=0ahUKEwjn5qTS-_HvAhVWVTABHY7tBh8Q_AUIDSgG',\n",
              " '/advanced_search',\n",
              " '/search?q=yahoo+finance+GME&ie=UTF-8&tbm=nws&source=lnt&tbs=qdr:h&sa=X&ved=0ahUKEwjn5qTS-_HvAhVWVTABHY7tBh8QpwUIDw',\n",
              " '/search?q=yahoo+finance+GME&ie=UTF-8&tbm=nws&source=lnt&tbs=qdr:d&sa=X&ved=0ahUKEwjn5qTS-_HvAhVWVTABHY7tBh8QpwUIEA',\n",
              " '/search?q=yahoo+finance+GME&ie=UTF-8&tbm=nws&source=lnt&tbs=qdr:w&sa=X&ved=0ahUKEwjn5qTS-_HvAhVWVTABHY7tBh8QpwUIEQ',\n",
              " '/search?q=yahoo+finance+GME&ie=UTF-8&tbm=nws&source=lnt&tbs=qdr:m&sa=X&ved=0ahUKEwjn5qTS-_HvAhVWVTABHY7tBh8QpwUIEg',\n",
              " '/search?q=yahoo+finance+GME&ie=UTF-8&tbm=nws&source=lnt&tbs=qdr:y&sa=X&ved=0ahUKEwjn5qTS-_HvAhVWVTABHY7tBh8QpwUIEw',\n",
              " '/search?q=yahoo+finance+GME&ie=UTF-8&tbm=nws&source=lnt&tbs=ar:1&sa=X&ved=0ahUKEwjn5qTS-_HvAhVWVTABHY7tBh8QpwUIFA',\n",
              " '/search?q=yahoo+finance+GME&ie=UTF-8&tbm=nws&source=lnt&tbs=sbd:1&sa=X&ved=0ahUKEwjn5qTS-_HvAhVWVTABHY7tBh8QpwUIFg',\n",
              " '/url?q=https://finance.yahoo.com/news/exclusive-gamestops-strong-stock-performance-021015968.html&sa=U&ved=2ahUKEwjn5qTS-_HvAhVWVTABHY7tBh8QxfQBMAB6BAgCEAE&usg=AOvVaw35YFwJdHwjlTCxc0OktjL0',\n",
              " '/url?q=https://finance.yahoo.com/news/exclusive-gamestops-strong-stock-performance-021015968.html&sa=U&ved=2ahUKEwjn5qTS-_HvAhVWVTABHY7tBh8Q0Y8FMAB6BAgCEAI&usg=AOvVaw1QO9LgEOR-BwcZk5iLHXUA',\n",
              " '/url?q=https://finance.yahoo.com/news/gamestop-gme-set-sell-shares-141502169.html&sa=U&ved=2ahUKEwjn5qTS-_HvAhVWVTABHY7tBh8QxfQBMAF6BAgHEAE&usg=AOvVaw0VhzotE6_WQPXr-TMLFJr6',\n",
              " '/url?q=https://finance.yahoo.com/news/gamestop-gme-set-sell-shares-141502169.html&sa=U&ved=2ahUKEwjn5qTS-_HvAhVWVTABHY7tBh8Q0Y8FMAF6BAgHEAI&usg=AOvVaw35k9X7JJph1HWjjCi6qREz',\n",
              " '/url?q=https://finance.yahoo.com/news/gamestop-plans-activist-ryan-cohen-112330738.html&sa=U&ved=2ahUKEwjn5qTS-_HvAhVWVTABHY7tBh8QxfQBMAJ6BAgIEAE&usg=AOvVaw1kkgSIES5xWI63H-5QldBC',\n",
              " '/url?q=https://finance.yahoo.com/news/gamestop-plans-activist-ryan-cohen-112330738.html&sa=U&ved=2ahUKEwjn5qTS-_HvAhVWVTABHY7tBh8Q0Y8FMAJ6BAgIEAI&usg=AOvVaw1Vhe9CVRNsZFkWShteC97d',\n",
              " '/url?q=https://finance.yahoo.com/news/gamestop-gme-upgraded-buy-does-160004421.html&sa=U&ved=2ahUKEwjn5qTS-_HvAhVWVTABHY7tBh8QxfQBMAN6BAgJEAE&usg=AOvVaw0tTfbJz2FerpzeYVJzNLDo',\n",
              " '/url?q=https://finance.yahoo.com/news/gamestop-gme-upgraded-buy-does-160004421.html&sa=U&ved=2ahUKEwjn5qTS-_HvAhVWVTABHY7tBh8Q0Y8FMAN6BAgJEAI&usg=AOvVaw0i1pbibQ4Vfu5JmYOv6Fy4',\n",
              " '/url?q=https://ca.finance.yahoo.com/news/gamestop-nyse-gme-stock-game-151521231.html&sa=U&ved=2ahUKEwjn5qTS-_HvAhVWVTABHY7tBh8QxfQBMAR6BAgEEAE&usg=AOvVaw0-9XVzO6_2jSCmEEOev6ho',\n",
              " '/url?q=https://ca.finance.yahoo.com/news/gamestop-nyse-gme-stock-game-151521231.html&sa=U&ved=2ahUKEwjn5qTS-_HvAhVWVTABHY7tBh8Q0Y8FMAR6BAgEEAI&usg=AOvVaw0pknpdcTtnlFdku8cPbBjQ',\n",
              " '/url?q=https://finance.yahoo.com/news/gamestop-gme-outpaces-stock-market-214509325.html&sa=U&ved=2ahUKEwjn5qTS-_HvAhVWVTABHY7tBh8QxfQBMAV6BAgAEAE&usg=AOvVaw0WWK5WG73V1CfJBU4vyIBU',\n",
              " '/url?q=https://finance.yahoo.com/news/gamestop-gme-outpaces-stock-market-214509325.html&sa=U&ved=2ahUKEwjn5qTS-_HvAhVWVTABHY7tBh8Q0Y8FMAV6BAgAEAI&usg=AOvVaw2qHiMJT2BY0Fa3lyWrdQxm',\n",
              " '/url?q=https://finance.yahoo.com/news/gamestop-gme-stock-sinks-market-224510746.html&sa=U&ved=2ahUKEwjn5qTS-_HvAhVWVTABHY7tBh8QxfQBMAZ6BAgFEAE&usg=AOvVaw29QFeb5CM_2mJqnxS39lqL',\n",
              " '/url?q=https://finance.yahoo.com/news/gamestop-gme-stock-sinks-market-224510746.html&sa=U&ved=2ahUKEwjn5qTS-_HvAhVWVTABHY7tBh8Q0Y8FMAZ6BAgFEAI&usg=AOvVaw2e-fE9XFdD887dxGQOU3o2',\n",
              " '/url?q=https://finance.yahoo.com/news/gamestop-amc-selling-shares-good-081027005.html&sa=U&ved=2ahUKEwjn5qTS-_HvAhVWVTABHY7tBh8QxfQBMAd6BAgBEAE&usg=AOvVaw2W09TtXR7EMdwhJtpTYKvd',\n",
              " '/url?q=https://finance.yahoo.com/news/gamestop-amc-selling-shares-good-081027005.html&sa=U&ved=2ahUKEwjn5qTS-_HvAhVWVTABHY7tBh8Q0Y8FMAd6BAgBEAI&usg=AOvVaw3gGgKFEttPMU5gDPTMPrdG',\n",
              " '/url?q=https://finance.yahoo.com/news/atento-supports-gamestop-overcome-pandemic-221600168.html&sa=U&ved=2ahUKEwjn5qTS-_HvAhVWVTABHY7tBh8QxfQBMAh6BAgGEAE&usg=AOvVaw3MGRSUolP5McrXuoflCtyr',\n",
              " '/url?q=https://finance.yahoo.com/news/atento-supports-gamestop-overcome-pandemic-221600168.html&sa=U&ved=2ahUKEwjn5qTS-_HvAhVWVTABHY7tBh8Q0Y8FMAh6BAgGEAI&usg=AOvVaw0nJJBXE2_POVsCez4lAYga',\n",
              " '/url?q=https://finance.yahoo.com/news/we-should-see-the-gme-short-squeeze-continuing-s-3-partners-174542296.html&sa=U&ved=2ahUKEwjn5qTS-_HvAhVWVTABHY7tBh8QxfQBMAl6BAgDEAE&usg=AOvVaw3C9JTyC5WHSt6Ex1KzK5bo',\n",
              " '/url?q=https://finance.yahoo.com/news/we-should-see-the-gme-short-squeeze-continuing-s-3-partners-174542296.html&sa=U&ved=2ahUKEwjn5qTS-_HvAhVWVTABHY7tBh8Q0Y8FMAl6BAgDEAI&usg=AOvVaw0XEdMNIrpXxdlwEzYbGPrH',\n",
              " '/search?q=yahoo+finance+GME&ie=UTF-8&tbm=nws&ei=PrRwYOfPCNaqwbkPjtub-AE&start=10&sa=N',\n",
              " '/url?q=https://support.google.com/websearch%3Fp%3Dws_settings_location%26hl%3Den&sa=U&ved=0ahUKEwjn5qTS-_HvAhVWVTABHY7tBh8Qty4IVQ&usg=AOvVaw39JhSZOc_Z_hMu7fmVETk6',\n",
              " '/url?q=https://accounts.google.com/ServiceLogin%3Fcontinue%3Dhttps://www.google.com/search%253Fq%253Dyahoo%252Bfinance%252BGME%2526tbm%253Dnws%26hl%3Den&sa=U&ved=0ahUKEwjn5qTS-_HvAhVWVTABHY7tBh8Qxs8CCFY&usg=AOvVaw0OWvXHv-0FaQUKbEJvD7eY',\n",
              " 'https://www.google.com/preferences?hl=en&fg=1&sa=X&ved=0ahUKEwjn5qTS-_HvAhVWVTABHY7tBh8Q5fUCCFc',\n",
              " 'https://policies.google.com/privacy?hl=en&fg=1',\n",
              " 'https://policies.google.com/terms?hl=en&fg=1']"
            ]
          },
          "metadata": {
            "tags": []
          },
          "execution_count": 144
        }
      ]
    },
    {
      "cell_type": "code",
      "metadata": {
        "id": "eKAiX0-CsIWp"
      },
      "source": [
        "import re"
      ],
      "execution_count": 145,
      "outputs": []
    },
    {
      "cell_type": "code",
      "metadata": {
        "id": "qvLO3YDvsMGT"
      },
      "source": [
        "exclude_list = ['maps', 'policies', 'preferences', 'accounts', 'support']\n"
      ],
      "execution_count": 146,
      "outputs": []
    },
    {
      "cell_type": "code",
      "metadata": {
        "id": "7N30D7JZsQJB"
      },
      "source": [
        "def strip_unwanted_urls(urls, exclude_list):\n",
        "    val = []\n",
        "    for url in urls: \n",
        "        if 'https://' in url and not any(exclude_word in url for exclude_word in exclude_list):\n",
        "            res = re.findall(r'(https?://\\S+)', url)[0].split('&')[0]\n",
        "            val.append(res)\n",
        "    return list(set(val))"
      ],
      "execution_count": 147,
      "outputs": []
    },
    {
      "cell_type": "code",
      "metadata": {
        "colab": {
          "base_uri": "https://localhost:8080/"
        },
        "id": "CdJ64HGpsRci",
        "outputId": "1e72382b-6236-42ae-8e49-ee9bc5196cee"
      },
      "source": [
        "\n",
        "cleaned_urls = {ticker:strip_unwanted_urls(raw_urls[ticker], exclude_list) for ticker in monitored_tickers}\n",
        "cleaned_urls"
      ],
      "execution_count": 148,
      "outputs": [
        {
          "output_type": "execute_result",
          "data": {
            "text/plain": [
              "{'BTC': ['https://finance.yahoo.com/news/no-stimmy-rally-why-1-110000326.html',\n",
              "  'https://finance.yahoo.com/news/peter-thiel-china-using-bitcoin-093000576.html',\n",
              "  'https://finance.yahoo.com/news/bitcoin-stuck-solution-stay-132948545.html',\n",
              "  'https://finance.yahoo.com/news/bitcoin-btc-bullish-engulfing-candle-073500376.html',\n",
              "  'https://finance.yahoo.com/news/bitcoin-miners-again-stacking-coins-105106529.html',\n",
              "  'https://finance.yahoo.com/news/market-wrap-bitcoin-near-58k-202318117.html',\n",
              "  'https://finance.yahoo.com/news/whipsawed-bitcoin-investors-eye-coinbase-184403852.html',\n",
              "  'https://finance.yahoo.com/news/bitcoin-real-price-crypto-mining-210000646.html',\n",
              "  'https://finance.yahoo.com/news/node-bitcoin-warts-175647661.html',\n",
              "  'https://finance.yahoo.com/news/chinese-firm-meitu-buys-10m-204038469.html'],\n",
              " 'GME': ['https://finance.yahoo.com/news/gamestop-gme-upgraded-buy-does-160004421.html',\n",
              "  'https://finance.yahoo.com/news/gamestop-gme-set-sell-shares-141502169.html',\n",
              "  'https://finance.yahoo.com/news/gamestop-plans-activist-ryan-cohen-112330738.html',\n",
              "  'https://finance.yahoo.com/news/exclusive-gamestops-strong-stock-performance-021015968.html',\n",
              "  'https://ca.finance.yahoo.com/news/gamestop-nyse-gme-stock-game-151521231.html',\n",
              "  'https://finance.yahoo.com/news/gamestop-amc-selling-shares-good-081027005.html',\n",
              "  'https://finance.yahoo.com/news/we-should-see-the-gme-short-squeeze-continuing-s-3-partners-174542296.html',\n",
              "  'https://finance.yahoo.com/news/gamestop-gme-outpaces-stock-market-214509325.html',\n",
              "  'https://finance.yahoo.com/news/gamestop-gme-stock-sinks-market-224510746.html'],\n",
              " 'TSLA': ['https://finance.yahoo.com/news/afford-tesla-even-youre-not-023000942.html',\n",
              "  'https://finance.yahoo.com/news/tesla-sales-climb-1-300-213847580.html',\n",
              "  'https://finance.yahoo.com/news/elon-musk-says-1950s-style-125153765.html',\n",
              "  'https://finance.yahoo.com/news/tesla-offering-50-night-discount-062516611.html',\n",
              "  'https://finance.yahoo.com/news/tesla-tsla-outpaces-stock-market-214509792.html',\n",
              "  'https://finance.yahoo.com/video/tesla-must-own-stock-now-175409321.html',\n",
              "  'https://finance.yahoo.com/news/tesla-stock-traders-could-look-195110179.html',\n",
              "  'https://finance.yahoo.com/news/tesla-jaw-dropper-delivery-numbers-124222636.html',\n",
              "  'https://finance.yahoo.com/news/auto-stock-roundup-tsla-q1-121112972.html',\n",
              "  'https://finance.yahoo.com/news/tesla-shares-surge-electric-carmaker-093448363.html']}"
            ]
          },
          "metadata": {
            "tags": []
          },
          "execution_count": 148
        }
      ]
    },
    {
      "cell_type": "markdown",
      "metadata": {
        "id": "0yyIATxysW-p"
      },
      "source": [
        "4.3. Search and Scrape Cleaned URLs¶\n",
        "\n"
      ]
    },
    {
      "cell_type": "code",
      "metadata": {
        "id": "HF7InW3QsYkR"
      },
      "source": [
        "def scrape_and_process(URLs):\n",
        "    ARTICLES = []\n",
        "    for url in URLs: \n",
        "        r = requests.get(url)\n",
        "        soup = BeautifulSoup(r.text, 'html.parser')\n",
        "        paragraphs = soup.find_all('p')\n",
        "        text = [paragraph.text for paragraph in paragraphs]\n",
        "        words = ' '.join(text).split(' ')[:350]\n",
        "        ARTICLE = ' '.join(words)\n",
        "        ARTICLES.append(ARTICLE)\n",
        "    return ARTICLES"
      ],
      "execution_count": 149,
      "outputs": []
    },
    {
      "cell_type": "code",
      "metadata": {
        "colab": {
          "base_uri": "https://localhost:8080/"
        },
        "id": "q16Y11gKscp5",
        "outputId": "a91b1d87-46da-4ab7-9ece-c5dfb435ad10"
      },
      "source": [
        "articles = {ticker:scrape_and_process(cleaned_urls[ticker]) for ticker in monitored_tickers}\n",
        "articles"
      ],
      "execution_count": 150,
      "outputs": [
        {
          "output_type": "execute_result",
          "data": {
            "text/plain": [
              "{'BTC': [\"U.S. cryptocurrency exchanges say they’ve begun to see an uptick in customers buying bitcoin (BTC) or other digital tokens with their $1,400 stimulus checks from President Joe Biden’s latest coronavirus-relief and economic recovery plan. But in the bitcoin market, the episode has proven to be a disappointment to some traders who were speculating last month that a new wave of demand might help push prices to fresh highs. “It would be very difficult to get a full picture of how that money moved from Uncle Sam into bitcoin,” said Mati Greenspan, founder of Quantum Economics, a market analysis firm based in Tel Aviv, during an interview with CoinDesk. Related: Daniel Loeb's $17B Hedge Fund Is Keeping Crypto With Coinbase – And Maybe Even Staking It Biden signed the $1.9 trillion COVID-19 relief bill into law on March 11, and the $1,400 stimulus payments started going out soon afterward, many of them via direct deposit into recipients’ bank accounts. Soon afterward, some cryptocurrency traders began to speculate whether some of that money might be used to buy bitcoin. Mizuho Securities, a Japanese brokerage firm, estimated that $40 billion of stimulus checks could be spent on bitcoin and stocks, according to a survey published on March 15. As recently as late last month, no cryptocurrency exchanges reported any major bump in $1,400 purchases, based on an informal survey by CoinDesk. Industry executives cautioned that it might be too early to judge. Now, those purchases do appear to be happening, according to some firms, even if they’re not the tsunami that some bitcoin bulls might have expected. Related: Bitcoin Still Trying to Break Out; Will Coinbase Public Debut Be a Catalyst Next Week? “We have seen a significant number of deposits in the amount of the latest individual stimulus check,” Steve Ehrlich, CEO of U.S. cryptocurrency brokerage Voyager Digital, told CoinDesk in an email sent by a spokesperson. Kraken, a San Francisco-based exchange, has seen an “uptick that may well stem from U.S. stimulus checks,” according to Thomas Perfumo, the company’s head of business operations and strategy. But the rise in $1,400 “stimmy”\",\n",
              "  'Peter Thiel, billionaire venture capitalist, and PayPal co-founder advised the U.S. government to consider tighter regulations on cryptocurrencies.  Thiel made these comments after he expressing worry the Chinese are using bitcoin to corrode the U.S. financial system. Thiel gave his more-than-skeptical sounding comments at a virtual roundtable for members of the Richard Nixon Foundation on April 7. “Even though I’m a pro-crypto, pro-bitcoin maximalist person, I do wonder whether at this point, bitcoin should also be thought [of] in part as a Chinese financial weapon against the U.S,” said Thiel. Thiel’s comment on the potential use of bitcoin as a “Chinese financial weapon” was followed by his forecast of its threat to fiat money and the U.S. dollar specifically. This comes as China recently trialed its central bank-issued digital currency (CBDC). According to Thiel, this “internal stablecoin” will amount to nothing other than, “some sort of totalitarian measuring device”. However, he did urge U.S. policymakers to consider these crypto-forward moves from a geopolitical point of view. This is not the first time Thiel has leaned skeptical towards China. In late 2019, the venture capitalist repeatedly backed the San Francisco-based startup, Layer1. This was a bid to elevate the U.S. as a mining hotbed against the Chinese and its bitcoin mining monopoly. Thiel isn’t the only one to take a stance against China’s potential intentions with digital currencies. Recently, celebrity investor and chairman of O’Shares ETFs, Kevin O’Leary, refused to accept any bitcoin mined in China. Although O’Leary did not specifically call China’s crypto frenzy a threat to the U.S., he was sure to recall out the human rights abuses committed by China and its continuing trade war with the U.S. Peter Thiel has a reputation for being a political firebrand. The ball is now the court of policymakers and legislators to decide how to proceed. Thiel’s past statements on Bitcoin, along with China’s overall policy toward the virtual currency, appear to be at odds with his most recent analysis. Billionaire venture capitalist Peter Thiel is worried that China is using bitcoin to undermine the U.S. Forward-thinking companies such as',\n",
              "  'Patience. Most people don’t have it because they let their emotions run rampant. It is not surprising when you have droves of self appointed authorities and other fake gurus amplifying this fear of missing out, or over dramatizing a minor random pullback like Bitcoin is showing now. Identifying quality opportunities begins with a set of very well defined rules. That does not mean they have to be complex rules, they just have to be adhered to. For example, one of our rules that is part of our long only swing trade strategy is to buy only at supprots upon confirmation within the context of a broader bullish trend. Since we don’t short Bitcoin, we don’t have to worry about that side of the equation, even within a persistent bearish environment (it doesn’t cost anything to stay out). So where is support right now? On the time frame that we utilize, it is between 52,500 and 49,500. That is a pretty wide range, but based on the recent proportions and price structure, that is where support is defined. Price is no where near this area which means our rules clearly say: stay out. Probability favors buying activity in the low 50K area and that can further be confirmed by price action. Instead of predicting moves, we let the market show its hand in areas where we anticipate a particular kind of activity. If Bitcoin can’t produce a compelling setup in an area of interest, all we have to do is stay out and wait. No stress, no fear of missing out, just following the rules. Do we miss trades sometimes as a result of waiting for rules and confirmations to align? Sure, but we don’t lose any money from missing a move. These words may be easy to understand, but putting them into practice means going against your own bad habits and emotional baggage. Improving your performance begins with developing your capacity for patience, not more and more information. High quality opportunities, especially on a swing trade time frame are INFREQUENT. If you are putting on more than 1 or 2',\n",
              "  'The bitcoin (BTC) price bounced on April 7 and created a bullish engulfing candlestick the next day. Bitcoin is expected to break out from the current short-term pattern and the $59,500 area after. Despite BTC decreasing on April 7, it created a bullish engulfing candlestick the next day. This is a sign that buying strength is increasing. The April 7 dip has now completely retraced. The RSI is trending above 50 and the Stochastic oscillator has made a bullish cross. Therefore, it’s likely that the trend is bullish. Since reaching an all-time high of $61,844 on March 13, BTC has been following a descending resistance line. So far, the line has rejected BTC multiple times—most recently on April 4. Currently, BTC is making another attempt at breaking out above the line. The MACD and RSI are both increasing, therefore a breakout is likely. An increase above this line and the $59,500 area would confirm that the trend is bullish. The two-hour chart shows that BTC is trading inside a descending parallel channel. This is often a corrective pattern. Therefore, the daily, six-hour, and two-hour charts are in alignment. A breakout from the channel and the $59,500 resistance area afterward is expected. The wave count suggests that BTC is in an extended sub-wave five (orange) of a long-term wave five (white). A potential target for the top of this movement is located between $83,500-$90,500. The target is found using a combination of Fib projections (white and orange) and an external Fib retracement (black). Both long and short-term indicators suggest that bitcoin will break out from the short-term channel. An upward move that takes the price above $59,500 is expected to follow. For BeInCrypto’s latest bitcoin (BTC) analysis, click here. BTC is expected to break out from the current trading pattern and attempt to move above the $59,500 resistance area. BTC Bounces At Support Bitcoin has been moving downwards since reaching an all-time high of $61,884 on March 13. Throughout the decrease, it’s been following a descending resistance line, which so far has rejected BTC … Continued Analysts at Bloomberg Crypto argue',\n",
              "  \"Blockchain data shows bitcoin miners are accumulating coins and adding to bullish pressures in the market for the first time since December. Analytics firm Glassnode’s miner position change metric, which gauges the 30-day change in the supply held in the miners’ addresses, recently turned positive in a sign of renewed holding by those responsible for making coins. The balance held in miner wallets has increased by 4,435 BTC to 1.806 million over the past two weeks, Glassnode’s data shows. Related: Daniel Loeb's $17B Hedge Fund Is Keeping Crypto With Coinbase – And Maybe Even Staking It “Miners [now] have a net accumulation of liquid assets as they have enough cash in reserve to run their future operations, having liquidated holdings when the bitcoin price was between $20,000 and $40,000, or most of them are holding in anticipation of a price rally,” Flex Yang, CEO of Hong Kong-based Babel Finance, said in an email. Miners predominantly operate on cash and liquidate holdings to meet expenses. However, the pace of miner selling varies from time to time depending on mining-specific factors and bitcoin’s price expectations. The return to accumulation mode observed since March 31 comes after almost four months of largely negative readings – miners decreasing positions and taking profits. Peak distribution of roughly 17,000 BTC to 24,000 BTC was seen throughout January, according to Glassnode’s weekly newsletter, dated March 8. While miner flows constitute a small part of the total network volume, as tweeted by Glassnode’s CEO Rafael Schultze-Kraft, accumulation by miners is analogous to increased promoter holding of corporate stock and is considered a positive indicator. “Their spending patterns provide insight into the sentiment of some of the biggest bulls in the Bitcoin market,” Glassnode said in a newsletter published on April 5. Related: Bitcoin Still Trying to Break Out; Will Coinbase Public Debut Be a Catalyst Next Week? Whales, or large investors with the ability to influence prices, have also stopped selling coins. The number of whale entities – clusters of crypto wallet addresses held by a single network participant holding at least 1,000 bitcoin – has steadied above\",\n",
              "  'Bitcoin (BTC) trading around $57,775.92 as of 20:00 UTC (4 p.m. ET). Climbing 2.86% over the previous 24 hours. Bitcoin’s 24-hour range: $55,639.58-$58,179.66 (CoinDesk 20) BTC trades above its 10-hour and 50-hour averages on the hourly chart, a bullish signal for market technicians. After two days of losses, bitcoin ended Thursday in the green after markets closed in the U.S. The gains came amid new signs of growing mainstream adoption of bitcoin and other cryptocurrencies.\\xa0 State Street, the second-oldest bank in the U.S. with $3.1 trillion in assets under management, announced it is providing the infrastructure for a new bank-grade trading platform for digital assets set to go live mid-year – and that it might\\xa0eventually use the system itself. Related: All About Bitcoin - April 16, 2021 Also, BNY Mellon, the world’s largest financial custodian, would be the service provider for a proposed bitcoin exchange-traded fund (ETF) offered by First Trust Advisors and Anthony Scaramucci’s SkyBridge Capital. But spot trading volume has not been able to match the rising prices, continuing to drop Thursday on the eight U.S.-focused crypto exchanges tracked by CoinDesk. Trading volume has been low for bitcoin since the beginning of April, while in March, according to CryptoCompare’s monthly report, the volume on top spot exchanges increased 5.9% from February levels to $2.5 trillion. Ether (ETH) trading around $2,058.73 as of 20:00 UTC (4 p.m. ET). Climbing 3.87% over the previous 24 hours. Ether’s 24-hour range: $1,950.89-$2,076.81 (CoinDesk 20) Ether trades above its 10-hour and 50-hour averages on the hourly chart, a bullish signal for market technicians. While ether’s been trading mostly above $2,000 since it peaked above $2,100 in early April, an analyst argued ether’s latest bull run was supported by a more scant demand from buyers compared with bitcoin. Related: The Hash - April 16, 2021 Philip Gradwell, chief economist at Chainalysis, said on CoinDesk TV’s “First Mover” show that “relatively little” ether was bought at prices above $1,850 and even less was bought at $2,000 or above. Read More: Ether’s Record Run Came With Less Support Than Bitcoin’s, Blockchain Analysis Shows “The persistence of',\n",
              "  '(Bloomberg) -- For many investors, Coinbase Global Inc.’s trading debut next week will be an entry into the $2 trillion cryptocurrency market. And for those who have already gorged on Bitcoin, the arrival of the largest U.S. cryptocurrency exchange on the Nasdaq Stock Market could be what is needed to settle portfolios roiled by the asset class’s notorious volatility. There are other stocks already tied to the bits and bytes of the various blockchains. Elon Musk’s Tesla Inc. and Michael Saylor’s MicroStrategy Inc. have both notably added billions worth of Bitcoin to their treasuries. But with Coinbase’s public listing, investors will have the choice of an equity tied to cryptocurrencies that is -- so the hope goes -- less likely to suffer persistent cycles of boom and bust. “For a crypto investor that also buys stocks, it has the ability to diversify risks as there is a very profitable exchange platform that trades on another venue (stock exchange) whose flows of buyers and sellers can be less correlated than many crypto prices,” wrote Greg Foss, a veteran credit trader, Bitcoin investor and chief financial officer for Validus Power Corp., in an email reply to questions. Coinbase is planning to go public through a direct listing in which it will not raise any new capital, it said in an S-1 filing. The direct listing allows current shareholders to trade their shares without a lock-up period that is typical in an initial public offering. It was valued at about $90 billion in its final week of trading on Nasdaq’s private market, Bloomberg News reported. Still, because volume and price tend to go hand-in-hand, Coinbase’s transaction revenue, its largest segment, could remain susceptible to cryptocurrency market gyrations. “In a traditional stock portfolio it gives exposure to an exchange platform that generates trading fees on crypto,” wrote Foss. “Those fees increase with volumes and volumes typically increase with prices, so there is a beta trade there.” Coinbase said Tuesday that it expects to report a first-quarter profit of $730 million to $800 million, more than double what it earned in all of 2020. The',\n",
              "  'Concerns about the impact of proof-of-work (PoW) and bitcoin (BTC) mining on the environment are growing. As interest in cryptocurrencies expands, there is an increase in energy consumption.  The energy consumption of the Bitcoin network made waves at the end of 2017. Even mainstream news outlets were reporting that it uses more electricity than the entire country of Ireland. At the time, the network consumed an estimated consume over 30 terawatt-hours (TWh) a year. This is less than its current consumption of 95.45 TWh, according to Digiconomist.\\xa0 The index explains that the yearly impact of bitcoin is 45.34 metric tons (mt) of CO2. This is comparable to Hong Kong. The coin’s 10.97 kt of e-waste is similar to that of\\xa0 Luxembourg. However, a 2020 study speculates that they may be underestimated. Rather, the researchers estimate bitcoin energy consumption accounts for “close to half of the current global data center electricity use.” In China, researchers found that mining could even threaten carbon emission reduction targets.  In addition to the consumption of electricity, mining hardware is a contributor to the global e-waste problem. Bitcoin mining began using simple GPU and CPUs. As the need for power grew, producers began creating unique chips. Now, bulk mining uses Application-Specific Integrated Circuits (ASICs). They are specifically for mining cryptocurrencies on the PoW algorithm. Cryptocurrency mining is a highly competitive space. Only the most efficient machines operate at a profit. Mining ASICs are being constantly improved. As a result, each new generation introduced to the market means older machines become unprofitable. The set number of coins and blocks motivates this constant improvement. As more efficient machines join the blockchain the total hashrate of the blockchain also increases.\\xa0 The quantity of bitcoins that any given miner obtains is largely dependent on the portion of the hashrate generated. This makes older machines generate less profit while still consuming the same amount of power. As a consequence, bitcoin miners buy an incredible quantity of computing devices. Which they cannot repurpose after they lose their edge.\\xa0 As explained, crypto mining consumes a lot of energy. This is because',\n",
              "  \"Last week, Human Rights Foundation executive and Bitcoin evangelist Alex Gladstein tweeted that a recent article in Wired UK threatened to set back the cryptocurrency’s cause, by working in a well-worn and what he considers overdone, genre: bitcoin crime stories. The article, “The bitcoin terrorists of Idlib are learning new tricks,” written by CoinDesk alumna Rachel-Rose O’Leary, examined how Syria-based jihadi are using encrypted tools like cryptocurrencies and Telegram to further their cause. This isn’t a new trend. What’s different is, with increased surveillance of their operations, there’s less open discussion about crypto among terrorists. They’re going further underground. This article is excerpted from\\xa0The Node, CoinDesk’s daily roundup of the most pivotal stories in blockchain and crypto news. You can subscribe to get the full\\xa0newsletter here.\\xa0 Related: Daniel Loeb's $17B Hedge Fund Is Keeping Crypto With Coinbase – And Maybe Even Staking It Bitcoin’s strength comes from being an open-access tool. Anyone, anywhere can transfer BTC to anyone, anywhere. Its emergence was a revolutionary moment in the history of money. It prevents governments and private companies from meddling in the basic human need to transact. Humanitarians, laypeople and criminals alike benefit. “Bitcoin’s non-discriminatory nature should be celebrated,” Gladstein said. His main issue with the article, primarily its headline, is that by focusing on the criminal application of Bitcoin, Wired is providing yet another reason for governments to attempt to stymie adoption. Gladstein’s criticism is context-dependent. Of the 18 articles Wired UK has published on Bitcoin, almost all – except for a glowing profile of the Winklevoss twins – were “negative,” by his reckoning. This is all the more relevant given “the significant history of using terrorism as a pretext for cracking down on civil liberties.” Just recently, U.S. Secretary of the Treasury Janet Yellen called the illicit use of cryptocurrencies a “growing problem.” All this may be true, but it may miss the larger story of what Bitcoin means for the world. It also over-emphasizes the power of the media to shape reality in the year 2021, especially the reality about Bitcoin, which famously doesn’t care what people think it\",\n",
              "  \"Chinese app developer Meitu said Thursday it purchased 175.6 bitcoin for $10 million, bringing its total holdings of the cryptocurrency to over 940 coins. The Hong Kong Stock Exchange-listed company has invested $100 million in bitcoin and ether positions since adopting a “cryptocurrency investment plan” in early March. The company is part of a broader trend of publicly traded firms diversifying their cash treasury with bitcoin during the coronavirus pandemic. Notably, Meitu, which also owns ETH, said it is buying crypto to prep for a “foray into the blockchain industry.” Meitu held 31,000 ETH and over 940 BTC Thursday. It has invested roughly the same amount in both cryptos, though the ETH position, at nearly $64 million, was worth more at press time. Chinese Web Firm Meitu Buys $10M More in Bitcoin Chinese Web Firm Meitu Buys $10M More in Bitcoin Chinese Web Firm Meitu Buys $10M More in Bitcoin Chinese Web Firm Meitu Buys $10M More in Bitcoin Related Quotes More people are investing in Bitcoin after an avalanche of coronavirus stimulus shocked the cryptocurrency back to life last year. Following a year of massive growth in the value of Bitcoin, Coinbase Global is set to launch its highly anticipated initial public offering. The Coinbase IPO is set to trade next Wednesday. Cryptocurrency has boomed to a three-year high but the vast electricity usage required to power its transactions remains major cause of climate concern Former Secretary of State Mike Pompeo, PayPal co-founder Peter Thiel and former National Security advisor Robert C. O'Brien weigh in on facing the Chinese Communist Party Shares of the home-furnishings retailer Overstock could double, says Piper Sandler analyst Peter Keith. A government contract is a seal of approval attractive to a potential acquirer. Yahoo Finance speaks with Transportation Secretary Pete Buttigieg about the administration's electric vehicle plans. The price gain came amid new signs of growing mainstream adoption of bitcoin and other cryptocurrencies. It’s a mixed start to the day. A Bitcoin move through to $59,000 levels would support another breakout day. The Democratic chair of the U.S. Senate Banking Committee has written to\"],\n",
              " 'GME': [\"GameStop (GME) could be a solid choice for investors given its recent upgrade to a Zacks Rank #2 (Buy). This upgrade primarily reflects an upward trend in earnings estimates, which is one of the most powerful forces impacting stock prices. The Zacks rating relies solely on a company's changing earnings picture. It tracks EPS estimates for the current and following years from the sell-side analysts covering the stock through a consensus measure -- the Zacks Consensus Estimate. The power of a changing earnings picture in determining near-term stock price movements makes the Zacks rating system highly useful for individual investors, since it can be difficult to make decisions based on rating upgrades by Wall Street analysts. These are mostly driven by subjective factors that are hard to see and measure in real time. Therefore, the Zacks rating upgrade for GameStop basically reflects positivity about its earnings outlook that could translate into buying pressure and an increase in its stock price. Most Powerful Force Impacting Stock Prices The change in a company's future earnings potential, as reflected in earnings estimate revisions, and the near-term price movement of its stock are proven to be strongly correlated. The influence of institutional investors has a partial contribution to this relationship, as these big professionals use earnings and earnings estimates to calculate the fair value of a company's shares. An increase or decrease in earnings estimates in their valuation models simply results in higher or lower fair value for a stock, and institutional investors typically buy or sell it. Their bulk investment action then leads to price movement for the stock. Fundamentally speaking, rising earnings estimates and the consequent rating upgrade for GameStop imply an improvement in the company's underlying business. Investors should show their appreciation for this improving business trend by pushing the stock higher. Harnessing the Power of Earnings Estimate Revisions As empirical research shows a strong correlation between trends in earnings estimate revisions and near-term stock movements, tracking such revisions for making an investment decision could be truly rewarding. Here is where the tried-and-tested Zacks Rank stock-rating system plays an important role,\",\n",
              "  'GameStop Corp. GME is set to cash-in on its phenomenal price surge on the bourses, triggered by the much acclaimed trading frenzy these past months. This gaming retailer will be selling up to 3.5 million shares and plans to utilize the proceeds to support its ongoing organizational transformation as well as strengthen balance sheet. However, investors didn’t seem pleased with the announcement, as shares began falling in yesterday’s pre-market session. The stock finally closed at a drop of 2.4% on Apr 5.In a separate release, the company announced preliminary sales numbers for the first nine weeks of fiscal 2021. Let’s look closer into these developments. GameStop will be selling up to 3,500,000 shares of its common stock through an “at-the-market” equity offering program (“ATM Offering”). The stock offering will be carried out from time to time, through its sales agent — Jefferies LLC. Industry experts opine that the company’s decision to sell shares will help it take advantage of the massive price surge witnessed since January, due to potential short-squeeze events. Notably, shares of the company have skyrocketed 918.3% in the past three months compared with the industry’s rise of 39.9%.  With respect to the ATM Offering, the company did not provide a timeline for completing the program. Management highlighted that shares offered under this program will not exceed $1 billion in aggregate gross proceeds. The net proceeds will be used to further accelerate its transformation as well as for general corporate purposes and strengthening its balance sheet.We note that the company is undertaking prudent efforts to fast track growth, especially by expanding digital capabilities. For accelerating business transformation, GameStop has been restructuring its board and has formed a Strategic Planning and Capital Allocation Committee. Since the formation of this committee, the company has appointed several board executives with significant experience in e-commerce, customer care and technology. Moreover, the influx of cash through the latest equity offering will further strengthen the company to undertake radical transformation initiatives. Such moves are expected to help the company evolve into a strong and digitally advanced player in the gaming industry. GameStop registered',\n",
              "  '(Bloomberg) -- GameStop Corp. climbed after saying it intends to elect Ryan Cohen as its next chairman, cementing the activist investor’s influence at the video-game retailer. Kurtis Wolf resigned effective April 5, GameStop said in a filing Thursday. The company said the resignation didn’t result from a disagreement over operations, policies or practices. Cohen will stand for election at the annual meeting on June 9, GameStop said in a statement. It plans to pay all directors entirely in equity, while reducing individual directors’ compensation by about 28%. GameStop shares rose as much as 4.4% to $185.88 in New York trading before retreating. GameStop had been on a three-day losing streak triggered by a company plan to sell as much as $1 billion in additional shares. The stock has had a wild, Reddit-driven ride, surging ninefold this year. Trading in GameStop, as with most stocks favored by traders using social platforms like Reddit, has fizzled over the past three weeks as amateur investors turn their focus elsewhere. The stock has been hit with bouts of volatility since January, when Cohen started to shake up operations at the company and as retail traders sparred with short sellers. As part of a corporate overhaul spearheaded by Cohen, the company has brought in new executives, including a chief officers for growth and technology. It has added technology experience to its team to help move the company away from its brick-and-mortar business. GameStop, based in the Dallas suburb of Grapevine, Texas, has suffered with the video-game industry’s shift to online distribution. With gamers downloading more and more, or ordering software and gear online, there’s less reason to make a trip to a physical store. The company reported disappointing fourth-quarter earnings last month. In addition to selecting Cohen as chairman, GameStop plans to nominate two new board members: Larry Cheng, managing partner of Volition Capital and the first investor in the pet-supply retailer Chewy, where Cohen made his name; and Yang Xu, senior vice president of global finance and treasury at Kraft Heinz Co. Up for renomination are Alan Attal and Jim Grube, Cohen allies who',\n",
              "  'By Svea Herbst-Bayliss (Reuters) - Hestia Capital Partners LP managing director Kurt Wolf joined GameStop Corp\\'s board to make the U.S. video game retailer more valuable. Then it became too valuable for him to stay on. The hedge fund manager resigned his directorship this week because his investors fretted the bet on the company, which scored a paper gain of 3,500%, had become too large and risky, three people familiar with the matter said on Thursday. Giving up the board seat allows Wolf to sell GameStop shares for his investors without restrictions to meet redemption requests, the sources said. Hestia currently owns 318,600 GameStop shares valued at roughly $53.8 million. It oversaw $75.6 million in assets as of the end of March, with GameStop being its single largest investment. Hestia has a mandate to invest in \"deep value\" assets that are unloved and undervalued. GameStop\\'s shares have been on a wild rally since January as amateur traders organized on social media platforms such as Reddit to snap them up, making them unsuitable for the kind of investing Hestia\\'s clients hired the fund for, the sources said. Hestia returned 223.7% in the first three months of 2021 after gaining 162% last year, and Wolf now plans to unload the GameStop shares, the sources said. Wolf did not respond to emails seeking comment. GameStop said in a filing on Thursday that Wolf\\'s resignation \"is not the result of any disagreement with the company or the board.\" It declined to comment further. Hestia originally invested in GameStop in 2019 spending an average $5 a share. A year later, when GameStop was valued at roughly $250 million, Wolf criticized the board for poor strategic planning and capital allocation and asked for a board seat for himself. GameStop shares now trade around $169 and the company is valued at roughly $12.5 billion. Emergent Capital Advisors, a hedge fund-of-funds that invests with roughly a dozen small firms like Hestia, was Hestia\\'s biggest investor and asked for its capital back. It had invested with Hestia through a separately managed account and asked Wolf to return control of',\n",
              "  \"Nasdaq pares losses, after tech shares earlier gave back some of Thursday's gains Last week, GameStop (NYSE:GME) released its first annual earnings since the meme stock craze of January and February. Overall, they were rather disappointing. While not all of GameStop’s financial metrics for 2020 were poor, the most important ones (revenue and net income) missed. Diluted EPS underperformed estimates by US$0.08, while revenue was a full US$109 million short of expectations. If present trends continue, GameStop stock is likely to underperform. In this article, I’ll explore GameStop’s recent earnings and what they mean for shareholders. Gamestop’s 2020 earnings broadly missed targets, with the following metrics being among the key highlights: Revenue: US$2.122 billion, down from US$2.194 billion Net income: -US$215 million Gross profit: US$1.25 billion, down from US$1.9 billion These numbers were broadly poor. They missed analyst estimates and were mostly down year over year. Net income was one exception: the US$215 million loss was actually an improvement over the US$470 million loss in 2019. But overall, Gamestop’s most important metrics got worse in 2020. That’s not to say that there were no strong points in GameStop’s earnings report. If you look at the fourth quarter alone rather than the full year, GameStop did crank out a US$80 million profit. Also, e-commerce surged 175% for the fourth quarter and 191% for the year. There were some high notes amid all the bad news, but the overall thrust of the report was negative. Certainly, it wouldn’t justify the valuation reached at the height of the meme stock craze. One interesting question about GameStop is whether e-commerce can save it from its long-term sales decline. As mentioned previously GameStop’s sales decreased in its most recent quarter. However, the magnitude of the decline was not large (about 3.2%), and e-commerce sales grew 191%. In the fourth quarter, e-commerce made up 34% of total sales. Given that sales only declined 3.4% overall, it looks like another year of 191% growth in e-commerce could easily restore GME to positive sales growth. Certainly, that could come to pass. But the company faces an uphill battle.\",\n",
              "  \"CNBC host Jim Cramer has lauded gaming retailer GameStop Corp. (NYSE: GME) and movie theatre chain AMC Entertainment Holdings Inc. (NYSE: AMC) for their plans to sell more shares, saying that issuing shares is the “right move” in the long term. What Happened: Cramer said the two companies' plans to offer new shares and raise cash to improve their operations should not be frowned upon. However, he noted that the “hold the line” crowd of investors that got stock tips from the WallStreetBets forum hates these offerings and despises anyone who defends them. “AMC and GameStop need money. Raising capital is good for both companies and over the long haul, what’s good for the company should be good for the stock,” Cramer said on CNBC’s “Mad Money” show. GameStop said it plans to sell up to 3.5 million shares in an “at-the-market” equity offering through Jefferies LLC. AMC said it is seeking shareholder approval to sell 500 million shares. See Also: AMC Shares Spike On Complete Reopening Optimism: What You Need To Know Why It Matters: Shares of heavily-shorted stocks such as GameStop, AMC Entertainment and Rocket Companies Inc. (NYSE: RKT) skyrocketed have seen extreme volatility as retail traders belonging to the Reddit Investor forum r/WallStreetBets bid up the stocks to create a short squeeze. GameStop stock has returned year-to-date gains of 879.3% as of Tuesday’s close, while AMC Entertainment stock has gained 381.1% during the period. GameStop acknowledged the fluctuations in the market price of its stock of late and cited “short squeezes” as a risk factor facing the company in an SEC filing, alongside uncertainty related to COVID-19. The struggling brick-and-mortar retailer is expected to adopt a digital business model led by major shareholder Ryan Cohen. See also: How\\u200c \\u200cto\\u200c \\u200cBuy\\u200c \\u200cGameStop\\u200c \\u200c(GME)\\u200c \\u200cStock\\u200c Meanwhile, AMC has struggled amid the pandemic as the closure of theatres forced the company into a cash crunch. The company, which reopened 98% of its locations in March, now expects the rollout of Covid-19 vaccines in the U.S. and the release of blockbuster movie titles in the coming months to boost sales this\",\n",
              "  'GameStop (GME) has already had quite the week, up almost 80% since Monday following news that board member and investor Ryan Cohen would play a key role in the business’s e-commerce strategy. Bulls expect the presence of Cohen, who founded pet goods retailer Chewy, to help the company fulfill the potential GameStop fans believe it has as it transforms from a brick-and-mortar focused business to something more modern. The GameStop bulls who see the company as an underrated, long-term value play may not be paying that much attention to the moves of the stock, but it’s hard to miss the roller-coaster ride. As the stock spiked on Wednesday, short interest continued to fall, perhaps after short-sellers learned their lesson in the late January squeeze, losing billions. But according to Ihor Dusaniwsky of analytics firm S3 Partners, the short squeeze will continue. “We should see the GME short squeeze continuing and more short covering in the stock as mark-to-market losses mount,” he told Yahoo Finance late Wednesday. “But as the stock continues its rapid climb, there will be short sellers waiting in the wings looking for entry points if this rally loses steam and GME’s stock price retraces.” Short interest may have fallen, but it’s still significant: $2.76 billion with 11.18 million shares shorted, 20.52% short interest percent of float or 17.02%, depending on how you calculate it, according to Dusaniwsky. (S3 prefers the latter, as it doesn’t count the synthetic longs created from a short sale. If this is confusing, S3 has a good explainer here.) To put this into context, fellow meme stock AMC Entertainment has a short interest percentage of float of 17.32%. Tesla, another famously shorted company, is at 5.98%, and Amazon at 1.03%. “This has not been a profitable trading week for GME short sellers, after being down -$1.36 billion on Monday and Tuesday,” Dusaniwsky said. “[Wednesday’s] +7% price move added another -$202 million in additional mark-to-market losses.” All in, GameStop shorts have now lost $6.8 billion year-to-date, Dusaniwsky said. — Ethan Wolff-Mann is a writer at Yahoo Finance focusing on consumer issues, personal finance, retail,',\n",
              "  \"GameStop (GME) closed at $209.81 in the latest trading session, marking a +0.79% move from the prior day. The stock outpaced the S&P 500's daily gain of 0.29%. Elsewhere, the Dow gained 0.58%, while the tech-heavy Nasdaq added 0.4%. Coming into today, shares of the video game retailer had gained 320.11% in the past month. In that same time, the Retail-Wholesale sector lost 4.91%, while the S&P 500 gained 0.91%. Investors will be hoping for strength from GME as it approaches its next earnings release, which is expected to be March 23, 2021. The company is expected to report EPS of $1.46, up 14.96% from the prior-year quarter. Meanwhile, the Zacks Consensus Estimate for revenue is projecting net sales of $2.24 billion, up 2.19% from the year-ago period. Investors should also note any recent changes to analyst estimates for GME. These revisions typically reflect the latest short-term business trends, which can change frequently. With this in mind, we can consider positive estimate revisions a sign of optimism about the company's business outlook. Our research shows that these estimate changes are directly correlated with near-term stock prices. Investors can capitalize on this by using the Zacks Rank. This model considers these estimate changes and provides a simple, actionable rating system. Ranging from #1 (Strong Buy) to #5 (Strong Sell), the Zacks Rank system has a proven, outside-audited track record of outperformance, with #1 stocks returning an average of +25% annually since 1988. Within the past 30 days, our consensus EPS projection remained stagnant. GME is currently a Zacks Rank #3 (Hold). The Retail - Consumer Electronics industry is part of the Retail-Wholesale sector. This industry currently has a Zacks Industry Rank of 187, which puts it in the bottom 27% of all 250+ industries. The Zacks Industry Rank gauges the strength of our industry groups by measuring the average Zacks Rank of the individual stocks within the groups. Our research shows that the top 50% rated industries outperform the bottom half by a factor of 2 to 1. Make sure to utilize Zacks. Com to follow all of these stock-moving metrics,\",\n",
              "  \"In the latest trading session, GameStop (GME) closed at $260, marking a -1.89% move from the previous day. This change lagged the S&P 500's daily gain of 1.04%. Meanwhile, the Dow gained 0.58%, and the Nasdaq, a tech-heavy index, added 2.52%. Heading into today, shares of the video game retailer had gained 417.58% over the past month, outpacing the Retail-Wholesale sector's loss of 6.54% and the S&P 500's loss of 0.15% in that time. GME will be looking to display strength as it nears its next earnings release, which is expected to be March 23, 2021. On that day, GME is projected to report earnings of $1.46 per share, which would represent year-over-year growth of 14.96%. Meanwhile, our latest consensus estimate is calling for revenue of $2.24 billion, up 2.19% from the prior-year quarter. Any recent changes to analyst estimates for GME should also be noted by investors. These revisions help to show the ever-changing nature of near-term business trends. As a result, we can interpret positive estimate revisions as a good sign for the company's business outlook. Our research shows that these estimate changes are directly correlated with near-term stock prices. We developed the Zacks Rank to capitalize on this phenomenon. Our system takes these estimate changes into account and delivers a clear, actionable rating model. Ranging from #1 (Strong Buy) to #5 (Strong Sell), the Zacks Rank system has a proven, outside-audited track record of outperformance, with #1 stocks returning an average of +25% annually since 1988. Within the past 30 days, our consensus EPS projection remained stagnant. GME is currently sporting a Zacks Rank of #4 (Sell). The Retail - Consumer Electronics industry is part of the Retail-Wholesale sector. This industry currently has a Zacks Industry Rank of 231, which puts it in the bottom 10% of all 250+ industries. The Zacks Industry Rank gauges the strength of our industry groups by measuring the average Zacks Rank of the individual stocks within the groups. Our research shows that the top 50% rated industries outperform the bottom half by a factor of 2 to 1. Make sure to\"],\n",
              " 'TSLA': ['Everything Elon Musk touches seems to turn to gold — including Tesla. The automotive company has taken the idea of an eco-friendly electric car and turned it into a lust-worthy luxury vehicle. When the first Teslas hit the market with hefty price tags of $100,000 or more for a brand-new Model S or Model X, the cars were accessible only to those with deep pockets. Much has changed since those early days. Today, you can buy a Tesla with Bitcoin, and buyers can now choose a Model 3, which is considered an \"affordable\" Tesla. But is it really? Here\\'s what we found. Teslas aren\\'t sold through traditional dealerships with lots filled with cars. Though the company operates stores where you can see the vehicles up close and possibly take a test drive, buyers have to order their cars online. Delivery takes up to 12 weeks. The most affordable Tesla is the Model 3, which entered the market in 2017 at a starting price of $35,000 but now starts at about $38,000. \"Delivery fees\" add $1,200 to the price, for a total of about $39,200. You\\'ll pay state sales tax on a new Tesla, too, unless you live in Alaska, Delaware, Montana, New Hampshire or Oregon. Not as cheap as you were hoping for? Start saving up now — maybe by using a popular app that helps you grow your money by investing \"spare change.\" The base price is for a white Tesla with standard wheels and an all-black interior. If you want a black, silver, blue or red Tesla, and you desire sport wheels or a black-and-white interior, you\\'ll pay more. When you place your Model 3 order, you\\'ll pay a nonrefundable $100 order fee. That\\'s much more reasonable than the $1,000 down payment that was required to reserve your spot in line when the Model 3 first debuted amid heavy demand. Don\\'t get the wrong idea: A down payment will be required when you lease or finance a Tesla, but it\\'s due at signing — not when you order your vehicle. The company will want you to put $4,500',\n",
              "  \"Japan is the fourth-largest auto market, and Tesla Inc (NASDAQ: TSLA) has historically had a hard time selling vehicles in the country. The Model S and X are too big for many of the parking structures in Japan, which require cars of a certain size to fit into movable parking spaces that help with the country's limited space. The Model 3 solved this by being just the right size, but prices were high due to shipping from California. But things are starting to change: In a story shared by Teslarati, Tesla sold 1,300% more vehicles in March 2021 compared to the same month last year: 44 units sold in March 2020 versus 588 in 2021. See also: How to Invest in Tesla Stock This was due to multiple factors, but the main trigger was Gigafactory Shanghai. This is Tesla's factory in China producing the Model 3 and Y. These vehicles are being sold mainly in China, but some are exported for delivery to Europe, Australia and Japan. Earlier in March, Tesla lowered prices of the Model 3 in Japan due to lower shipping costs. The standard range Model 3 price was reduced by 17%, while the long-range variant saw a decrease of 25%. There is currently a backlog of orders in Japan for the Model 3. Another factor is Japan's EV subsidies. The subsidies have increased this year, meaning buyers can save even more buying electric vehicles. Click here to check out Benzinga’s EV Hub for the latest electric vehicle news. Photo courtesy of Tesla. See more from Benzinga Click here for options trades from Benzinga Tesla Cybertruck Teased In New Recruiting Video In China Video Shows Tesla's In-Cabin Driver Monitoring Camera Knows When You're Using Phone © 2021 Benzinga.com. Benzinga does not provide investment advice. All rights reserved. Related Quotes To buy a stock is more than buying a stake in a company; it’s voicing your belief in the company and your confidence in the future success of said company. This holds more than true for Tesla Motors. Following seven weeks of consecutive increases, benchmark mortgage rates have dipped.\",\n",
              "  'Elon Musk has revived the idea of building a 1950s-style diner at a Tesla Inc (NASDAQ: TSLA) Supercharger station in Santa Monica, California. What Happened: The Tesla CEO said Santa Monica will soon have a \"major new Supercharger station\" with a retro diner and movies. Musk was responding to a tweet of a photo showing a long line at a Supercharger in the city. Musk also thanked the city of Santa Monica, possibly hinting that local officials are moving toward approving the plan. Musk mentioned the idea in 2018, Elektrek reported, quoting Musk as then saying he planned to open an “old-school drive-in, roller skates & rock restaurant at one of the new Tesla Supercharger locations in Los Angeles.” Though it wasn\\'t clear how serious the plan was, the company did apply for building permits in Santa Monica, Elektrek said, adding the project has run into approval problems with the local government. Why It Matters: One of Tesla\\'s biggest competitive advantages is its Supercharger network, which allows for easy, long distance travel for customers in many parts of the world. While it is unfortunate that customers need to wait for a charge, it also shows how succesful Tesla has become. As Tesla\\'s deliveries increase, the need for Superchargers increases. And as the need grows, so do the lines. Tesla has also considered adding features such as lounges and coffee shops to its Supercharger stations, according to Elektrek. Luckily, most Tesla\\'s vehicles can charge from 20% to 80% in less than 30 minutes. And with a 50% charge giving even the lowest-range Teslas well over 100 miles of range, a quick charge will let most people get on their way. Click here to check out Benzinga’s EV Hub for the latest electric vehicle news. Photo courtesy of Tesla. Gary Anglebrandt contributed to this report. See more from Benzinga Click here for options trades from Benzinga Tesla Selling EV Credits To Volkswagen In China: Report Video: Tesla\\'s Gigafactory Berlin Installing 2 Gigapress As It Prepares For Model Y Production © 2021 Benzinga.com. Benzinga does not provide investment advice. All rights reserved. Related',\n",
              "  \"Tesla Inc. (NASDAQ: TSLA) is offering a new 50% discount for Supercharging during the night in metro areas in California, according to a report by Electrek. What Happened: Several California-based Tesla owners reportedly received message in their in-app notifications, asking them to avoid the rush and save 50% on their charging fees before 10 a.m. and after 7 p.m. at all Superchargers in California’s major metro areas. According to Electrek, the Palo Alto, California-based automaker started testing temporary Supercharger discounts in California last year. During off-peak hours, Tesla was charging $0.09/kWh – less than a third of the regular price per kWh at most Supercharger stations in California. Tesla expanded the tests to other markets including Norway and Sweden earlier this year. See Also: Electric Vehicle Showdown: Tesla Vs. Nio Vs. XPeng Vs. Li Auto — How Q1 Deliveries Stacked Up Why It Matters: The supercharging discount indicates Tesla’s attempts to lure people to charge at night and help reduce traffic at busy Supercharger stations during the daytime in California, one of Tesla’s most important markets. The focus on urban Superchargers may also be aimed at apartment dwellers who may face difficulty getting home charging. See also: How to Invest in Tesla Stock Tesla describes the Supercharger network as the “world’s fastest charging network” and has been looking to expand it aggressively, particularly in urban settings. The company said in November last year that it has installed 20,000 such units globally. Tesla has previously offered supercharging as a referral award and at times used the incentive to increase deliveries of its vehicles at the end of some quarters. It was reported in December last year that Tesla is offering a year of free unlimited supercharging to undelivered Model 3 and Model Y vehicles in North America in order to boost sales. Price Action: Tesla shares closed 4.4% higher on Monday at $691.05. Read Next: Tim Cook Says He Has 'Great Admiration And Respect' For Tesla As He Drops Hints On Apple Car Click here to check out Benzinga's EV Hub for the latest electric vehicles news See more from Benzinga\",\n",
              "  \"Tesla (TSLA) closed the most recent trading day at $683.80, moving +1.91% from the previous trading session. This move outpaced the S&P 500's daily gain of 0.42%. Heading into today, shares of the electric car maker had gained 2.68% over the past month, lagging the Auto-Tires-Trucks sector's gain of 6.83% and the S&P 500's gain of 6.32% in that time. TSLA will be looking to display strength as it nears its next earnings release. In that report, analysts expect TSLA to post earnings of $0.79 per share. This would mark year-over-year growth of 216%. Meanwhile, the Zacks Consensus Estimate for revenue is projecting net sales of $9.92 billion, up 65.76% from the year-ago period. Looking at the full year, our Zacks Consensus Estimates suggest analysts are expecting earnings of $4.27 per share and revenue of $47.86 billion. These totals would mark changes of +90.63% and +51.76%, respectively, from last year. Any recent changes to analyst estimates for TSLA should also be noted by investors. These recent revisions tend to reflect the evolving nature of short-term business trends. As a result, we can interpret positive estimate revisions as a good sign for the company's business outlook. Our research shows that these estimate changes are directly correlated with near-term stock prices. To benefit from this, we have developed the Zacks Rank, a proprietary model which takes these estimate changes into account and provides an actionable rating system. Ranging from #1 (Strong Buy) to #5 (Strong Sell), the Zacks Rank system has a proven, outside-audited track record of outperformance, with #1 stocks returning an average of +25% annually since 1988. The Zacks Consensus EPS estimate has moved 7.81% higher within the past month. TSLA currently has a Zacks Rank of #3 (Hold). Looking at its valuation, TSLA is holding a Forward P/E ratio of 165.26. For comparison, its industry has an average Forward P/E of 17.5, which means TSLA is trading at a premium to the group. Meanwhile, TSLA's PEG ratio is currently 4.79. This popular metric is similar to the widely-known P/E ratio, with the difference being that the PEG ratio also\",\n",
              "  'Apr.08 -- Adam Jonas, Morgan Stanley head of global auto and shared mobility research, says investors need to own Tesla stock and he thinks the automaker will benefit greatly from the U.S. infrastructure package. He speaks on \"Bloomberg Markets.\" Battery supply issues are holding back production of its long-awaited Tesla Semi. It has been an open secret for weeks now that the ECB’s hawks have raised doubt about the opportunity for the central bank to loosen its monetary policy further in light of the eurozone’s persistent economic problems. Kevin Durant was perfect.  The Brooklyn Nets were pretty close to it in the second quarter when he rejoined them.  Durant returned from a 23-game absence to spark Brooklyn\\'s most explosive half of the season, finishing with 17 points on 5-for-5 shooting in the Nets\\' 139-111 rout of the New Orleans Pelicans on Wednesday night. Say goodbye to dark spots and inflamed skin. We have $1.6 million but most is locked in our 401(k) plans — how can we retire early without paying so much in taxes?: Employer-sponsored retirement plans are an advantageous way to invest for the future, but there are restrictions that can cause problems for someone hoping to retire before age 59 ½.  Use it on an IRA for your future retirement (maybe even sooner): Individual retirement accounts are another great way to prepare for the future, but there are a few things you should know to make the most of these accounts.  Was the pandemic a preview of your retirement? Morgan Stanley analyst Katy Huberty raised estimates and price targets on a number of hardware stocks. She first turned bullish on the sector in October. Jim Cramer, known for his \"Mad Money\" program on CNBC, shared with viewers his thoughts on the market as a whole on \"Squawk on the Street\" Wednesday. His main points revolve around how the market is in a back-and-forth with the CDC, and how the CDC practically controls many industries’ markets. A few “tell stocks” are indicators for the market right now, including Roku Inc (NASDAQ: ROKU), Cramer said.',\n",
              "  \"Tesla Inc’s (NASDAQ: TSLA) stock has so far failed to make a significant move back to an all-time high like some of its Nasdaq 100 counterparts. That could change: Tesla’s stock has set up two bullish patterns under a resistance level. The Tesla Chart: On Monday, Tesla’s stock completed the right shoulder of a bullish inverted head-and-shoulders pattern, reaching $708.16 — exactly $10 below its next resistance level of $718.16. The stock is trading above both the eight- and 21-day exponential moving averages, and it appears the eight-day EMA is about to cross back above the 21-day EMA, which is bullish. On Wednesday, Tesla completed its sixth daily candle in a bull flag pattern, with the first three candles in the pattern creating the pole and the last three candles creating the flag. Since there is a retracement in a bull flag pattern, traders and investors may be looking to buy the dip at the bottom of the flag before Tesla’s stock reacts to the pattern and makes a bullish move higher. Tesla’s stock could then stall temporarily under resistance at around $718 before jumping above it and continuing on an upward trajectory. If Tesla’s stock can trade above the resistance at $718, it has room to move up to fill the gap between $768.50 and $777.37. Related Link: Why Tesla Stock Is Trading Lower Today What's A Bull Flag? A bull flag consists of an upwards pole, where the stock price has moved up quickly with a flag formation at the top of the pole. The flag formation is a descending channel where the stock price retraces slowly and not by more than 50% the length of the pole. The flag formation is considered to be consolidation before the next leg up. TSLA Price Action: Tesla shares were down 3.09% at $670.26 ahead of the close Wednesday. Related Link: Why This BofA Analyst Says General Motors Is A Top EV Stock Photo courtesy of Tesla.  See more from Benzinga Click here for options trades from Benzinga Facebook Option Traders Are Betting On An All-Time High Run 3 Bullish\",\n",
              "  '(Bloomberg) -- Tesla Inc. first-quarter delivery numbers blew past analysts’ estimates, helping the stock fend off a slide in the broader electric vehicle industry amid growing skepticism about the future of President Joe Biden’s infrastructure bill. Shares of the Elon Musk-led company closed up 4.4% in New York, leaving it down 2.1% year to date. Over the past 12 months, the stock has advanced more than 600%. Other EV stocks like Workhorse Group Inc. and Lordstown Motors Corp. dropped on Monday. EV companies overall have received some good news in the past week, including a big push into electric vehicles in the infrastructure spending bill unveiled last week, and the estimate-crushing delivery figures from Tesla. But that may not be enough to stop a decline in the stocks that has seen investor interest wane this year. Auto stocks, EV and otherwise, have also been plagued by a global shortage of semiconductors. “The rhetoric around Biden’s infrastructure stimulus is what’s creating the weakness,” Roth Capital Partners analyst Craig Irwin said in an interview, discussing the EV selloff. “There is low certainty this will pass as proposed,” the analyst said. However, the underperformance in EVs is probably misplaced, Irwin said, noting that both political parties like the domestic success story of Tesla and would welcome a revival of Detroit with EVs. Biden’s infrastructure bill has already started facing its challenges, with Republicans saying they want no part of the corporate tax hikes needed to pay for the plan and some progressive Democrats saying the package would not spend nearly enough. Most EV companies’ shares fell on Monday. Workhorse lost 6.4% and Lordstown Motors closed down 4%. Nikola Corp. tumbled 7.8%, while Fisker Inc. and XPeng Inc. both ended the day 2.5% lower. Tesla on Friday said it delivered 184,800 cars worldwide for the first quarter of the year, outpacing the 169,850 average of analysts’ estimates in a Bloomberg survey. While the company does not break out sales by geography, the U.S. and China are its largest markets and the company said it was “encouraged by the strong reception of the Model Y',\n",
              "  \"Last week, various auto giants unveiled first-quarter 2020 sales reports. Sales numbers were strong, thanks to rising demand for vehicles amid preference for personal mobility, widespread vaccination drive, optimism around federal aid and the gradual reopening of activities. In fact, the U.S. auto industry recorded the best March sales in more than 20 years. On further encouraging note, Biden proposed a $174-billion infrastructure spending plan to encourage Americans to switch to cars and trucks that run on electricity and not gasoline or diesel. The move was undertaken in an effort to boost the development and adoption of electric vehicles, which include money to retool factories and push up domestic supply of materials, tax incentives for electric vehicles buyers, along with grant and incentive programs for charging infrastructure. Meanwhile, global chip crunch is wreaking havoc on the auto industry and showing no signs of abatement anytime soon. Last week, trucking giant PACCAR PCAR announced that the chip shortage reduced truck deliveries by around 3,000 units in first-quarter 2021. The company expects the chip crunch to continue till first-half 2021. Further, U.S. auto biggie Ford F announced that it is shutting operations in several factories including two plants that manufacture its bestselling F- pickup amid the growing chip crisis. The company will suspend production at the Dearborn plant for two weeks effective Apr 5. It is also halting operations at the Kansas factory for a week. It will also suspend activities at the sports utility vehicle factory in Louisville for two weeks starting Apr 12. Operations at the Oakville plant — which builds the Edge crossover utility — will be shut down for three weeks beginning Apr 12. Tesla TSLA reported robust deliveries for first-quarter 2021. The company produced 180,338 (Model 3 and Y) vehicles and delivered a record 184,800 (182,780 Model 3 and Y, and 2,020 Model S and X) vehicles. Deliveries were up 109% from the year-ago quarter and 2.3% sequentially. The Model Y was the primary catalyst for Tesla's vehicle sales growth for the quarter. The EV behemoth stated that it was encouraged by strong reception of the Model\",\n",
              "  'By Akanksha Rana and Subrat Patnaik\\xa0 \\xa0\\xa0(Reuters) - Tesla Inc was set to add about $50 billion to its market value as the electric car-maker\\'s shares surged on Monday, after it posted record deliveries on strong demand in China that helped it offset the impact of a global shortage in auto parts.\\xa0 \\xa0\\xa0The stock jumped nearly 8% in pre-market trading and it was on track to hit its highest in over a month.\\xa0 \\xa0\\xa0The company said on Friday it was encouraged by the strong reception of its Model Y crossover in China and it was quickly progressing to full production capacity.\\xa0 \\xa0\\xa0Analysts remained hopeful as despite a global chip shortage that has slammed the entire auto sector, various supply chain issues and rising competition, Tesla still managed to produce roughly the same amount of vehicles in the first quarter as in the fourth quarter.\\xa0 \\xa0\\xa0At least three brokerages raised their price targets on Tesla\\'s stock. Brokerage Wedbush was the most aggressive, increasing it by $50 to $1,000, much higher than the median price target of $712.50, as per Refinitiv data. Wedbush also raised its rating to \"outperform\" from \"neutral\".\\xa0 \\xa0\\xa0\"Tesla is executing impeccably. I am not surprised by the strong deliveries,\" said Roth Capital Partners analyst Craig Irwin, even as he added that the stock is \"egregiously overvalued.\"\\xa0 \\xa0\\xa0\"EVs are an exciting place to be, and Tesla is the leader.\"\\xa0 \\xa0\\xa0Chief Executive Officer Elon Musk\\'s personal wealth has been boosted by a more than eight-fold surge in the stock\\'s value last year, even though its production is just a fraction of rivals such as Toyota Motor, Volkswagen and General Motors.\\xa0 \\xa0\\xa0Tesla delivered 184,800 vehicles globally during the first quarter of 2021, above estimates of 177,822 vehicles, according to Refinitiv data.\\xa0 \\xa0\\xa0\"Great work by Tesla team!\" Musk tweeted https://twitter.com/elonmusk/status/1379033568882663426 on Monday. \"Special mention of Tesla China.\"\\xa0 \\xa0\\xa0Tesla\\'s shares were at $713 before the bell, while other EV makers, including NIO Inc, Workhorse Group and Xpeng Inc were up about 3%.\\xa0 \\xa0\\xa0\"The (EV) sector looks primed to resume its march higher, considering the surging demand for EVs in China, Europe, and the']}"
            ]
          },
          "metadata": {
            "tags": []
          },
          "execution_count": 150
        }
      ]
    },
    {
      "cell_type": "code",
      "metadata": {
        "colab": {
          "base_uri": "https://localhost:8080/"
        },
        "id": "If_HNZGjFEq8",
        "outputId": "92f43528-f38f-4f1c-f6f8-dcb212ba1279"
      },
      "source": [
        "len(words)"
      ],
      "execution_count": 151,
      "outputs": [
        {
          "output_type": "execute_result",
          "data": {
            "text/plain": [
              "400"
            ]
          },
          "metadata": {
            "tags": []
          },
          "execution_count": 151
        }
      ]
    },
    {
      "cell_type": "code",
      "metadata": {
        "colab": {
          "base_uri": "https://localhost:8080/"
        },
        "id": "4cDSUH1KFQQU",
        "outputId": "bbbbe33e-a391-457e-db16-201945ac18ea"
      },
      "source": [
        "len(articles)"
      ],
      "execution_count": 152,
      "outputs": [
        {
          "output_type": "execute_result",
          "data": {
            "text/plain": [
              "3"
            ]
          },
          "metadata": {
            "tags": []
          },
          "execution_count": 152
        }
      ]
    },
    {
      "cell_type": "markdown",
      "metadata": {
        "id": "ygdiS4iKs2NR"
      },
      "source": [
        "4.4. Summarise all Articles\n"
      ]
    },
    {
      "cell_type": "code",
      "metadata": {
        "id": "BV-QeumU6ekK",
        "colab": {
          "base_uri": "https://localhost:8080/"
        },
        "outputId": "ba3e4996-8b49-49df-c2a0-283cf5638793"
      },
      "source": [
        "!pip install sentencepiece"
      ],
      "execution_count": 153,
      "outputs": [
        {
          "output_type": "stream",
          "text": [
            "Requirement already satisfied: sentencepiece in /usr/local/lib/python3.7/dist-packages (0.1.95)\n"
          ],
          "name": "stdout"
        }
      ]
    },
    {
      "cell_type": "code",
      "metadata": {
        "id": "2NrIoxklszaB"
      },
      "source": [
        "def summarize(articles):\n",
        "    summaries = []\n",
        "    for article in articles:\n",
        "        input_ids = tokenizer.encode(article, return_tensors='pt')\n",
        "        output = model.generate(input_ids, max_length=55, num_beams=5, early_stopping=True)\n",
        "        summary = tokenizer.decode(output[0], skip_special_tokens=True)\n",
        "        summaries.append(summary)\n",
        "    return summaries"
      ],
      "execution_count": 154,
      "outputs": []
    },
    {
      "cell_type": "code",
      "metadata": {
        "colab": {
          "base_uri": "https://localhost:8080/"
        },
        "id": "OZgzkaywtHpi",
        "outputId": "efc0c1fb-f11b-4bd4-b881-687420fb214b"
      },
      "source": [
        "summaries = {ticker:summarize(articles[ticker]) for ticker in monitored_tickers}\n",
        "summaries"
      ],
      "execution_count": 155,
      "outputs": [
        {
          "output_type": "execute_result",
          "data": {
            "text/plain": [
              "{'BTC': ['‘It would be very difficult to get a full picture of how that money moved,’ says Greenspan. Exchanges have seen ‘significant number of deposits,’ Voyager says',\n",
              "  'Peter Thiel fears Chinese use of the virtual currency. Venture capitalist previously called China’s crypto craze a threat to U.S.',\n",
              "  'We don’t short Bitcoin, stay out and wait. No stress, no fear of missing out, just following the rules',\n",
              "  'Bitcoin is expected to break out of short-term channel and attempt to move above $59,500.',\n",
              "  'Analytics firm Glassnode’s position change metric turns positive. Balance held in miners’ wallets has increased',\n",
              "  'Largest cryptocurrency climbs after two days of losses. Trading volume has been low since the beginning of April',\n",
              "  'Largest U.S. cryptocurrency exchange to list on Nasdaq next week. Coinbase to report double-digit profit in first quarter',\n",
              "  'Energy consumption may be underestimated. Mining hardware is a contributing factor to global e-waste.',\n",
              "  '‘Bitcoin’s non-discriminatory nature should be celebrated,’ Gladstein says. article ‘over-emphasizes the power of the media,’ he says',\n",
              "  'Chinese firm has been diversifying its crypto holdings. Meitu said it is buying crypto to prep for a ‘foray into the blockchain industry’'],\n",
              " 'GME': ['S&P 500 Rank stock-rating system plays an important role in stock selection.',\n",
              "  'Company to sell up to 3.5 million shares through ‘at-the-market’ program. Shares of the company have surged 918.3% in past three months',\n",
              "  'Activist investor is reshaping the company. Video-game retailer plans to pay all directors entirely in equity',\n",
              "  'Hestia returned 223.7% in first three months of 2021',\n",
              "  'Video game retailer’s fourth-quarter sales fell 3.4%. E-commerce grew 175% in fourth quarter, 191% for year',\n",
              "  '‘Right move,’ Cramer says of GameStop and AMC offerings. ‘Hold the line’ crowd of investors despises offerings, he says',\n",
              "  'Short interest fell to $2.76 billion on Wednesday. Dusaniwsky expects short covering to continue as stock climbs',\n",
              "  'Video game retailer has moved 320.11% in the past month.',\n",
              "  'Video game retailer has gained 417.58% over the past month.'],\n",
              " 'TSLA': [\"Musk's electric-car company is now available with Bitcoin. Tesla Model 3 starts at $38,000 and takes up to 12 weeks to deliver\",\n",
              "  'Tesla sold 1,300% more vehicles in Japan in March. Earlier in March, Tesla lowered prices of the Model 3 in Japan',\n",
              "  'Musk says Santa Monica will soon have a ‘major new Supercharger station’.',\n",
              "  'Automaker is offering 50% discount at Supercharger stations in California. Palo Alto, California-based automaker has been expanding its network',\n",
              "  'Tesla is underperforming the Auto-Tires-Trucks sector so far this year.',\n",
              "  'ECB’s hawks have raised doubt about opportunity for more stimulus. Kevin Durant back in the starting line-up for the Nets.',\n",
              "  'Tesla’s stock has failed to make a significant move back to an all-time high. Two bullish patterns could change that',\n",
              "  'Shares of other EV companies drop on Monday. Musk’s company delivered 184,800 cars worldwide in first quarter',\n",
              "  'Global chip shortage iswreaking havoc on the industry. EV giant Tesla reports strong first-quarter deliveries, driven by Model Y',\n",
              "  'At least three brokerages raised their price targets on Monday. Tesla on track to add about $50 billion to its market value']}"
            ]
          },
          "metadata": {
            "tags": []
          },
          "execution_count": 155
        }
      ]
    },
    {
      "cell_type": "markdown",
      "metadata": {
        "id": "e2pkHHOG9ooX"
      },
      "source": [
        "Adding Sentiment Analysis"
      ]
    },
    {
      "cell_type": "code",
      "metadata": {
        "colab": {
          "base_uri": "https://localhost:8080/",
          "height": 213,
          "referenced_widgets": [
            "0b70ae8195ef40c5b4a5bc8ff3a97625",
            "2be581d033ff4267b7204d9ab377b768",
            "39b87cf7e9664e4696dd1648ae024a0f",
            "98b020aa182045b1bc29bc23d24b8e4b",
            "8228ebbcf4d247caa54a2c6294bc2f8e",
            "e45735c3885049a1934fad20cc775cd5",
            "8d30b781936a4447ba0eb6da4a997de9",
            "d30fbba8147c462696bc4facbb019340",
            "35f7bc8206014d8b8a2112444158de34",
            "e12701991e924ff79611f6e8511d84a5",
            "4e39307f04c2400681869cbf51a89965",
            "c05e953ddbc94d6982a38e5294dd4335",
            "30858cc474234ad499a6c03572fbb457",
            "45817ea21ec94dd89367b25ce6261dd4",
            "6ab63ece72684d43a1ad32e0159e7390",
            "c4d3238bccf049c5adbc95d34515ebb3",
            "68c9dc802e9346c4b69c0d53f6355ff2",
            "3c6b2013bb024a8dab344c0783856e07",
            "8290bbb24ffa4c6d967e0b95e247f5d9",
            "96c917fea2824a249f704a505582599c",
            "23745ef89da64aeba4844b78c018d42d",
            "7a69d4a4f5fb4dea9486a26b5c259915",
            "a9035c45036540c292e257c36219aca1",
            "9de1dc11bdb14ec1b8b0347fd15582e6",
            "e80831b606e441d685e970788963fd89",
            "9804652489764a28abf19460d7cdcaa5",
            "a1923380b2d644df80ace66faa933e47",
            "a0502864202042409451de1e7ce5cfd8",
            "13aeb7566b8e4eed9acce0c761f9c301",
            "7c0ddb466ba2460784251f46d2c1e5d0",
            "ad435c08649143a59fe9af3b92d1aa54",
            "1ad34d952c8149a1a8a921d2ce513c3a"
          ]
        },
        "id": "us-o7jfH9rc7",
        "outputId": "bd81301a-d31a-42a3-b305-cdc7f3575aae"
      },
      "source": [
        "from transformers import pipeline\n",
        "sentiment = pipeline('sentiment-analysis')"
      ],
      "execution_count": null,
      "outputs": [
        {
          "output_type": "display_data",
          "data": {
            "application/vnd.jupyter.widget-view+json": {
              "model_id": "0b70ae8195ef40c5b4a5bc8ff3a97625",
              "version_minor": 0,
              "version_major": 2
            },
            "text/plain": [
              "HBox(children=(FloatProgress(value=0.0, description='Downloading', max=629.0, style=ProgressStyle(description_…"
            ]
          },
          "metadata": {
            "tags": []
          }
        },
        {
          "output_type": "stream",
          "text": [
            "\n"
          ],
          "name": "stdout"
        },
        {
          "output_type": "display_data",
          "data": {
            "application/vnd.jupyter.widget-view+json": {
              "model_id": "35f7bc8206014d8b8a2112444158de34",
              "version_minor": 0,
              "version_major": 2
            },
            "text/plain": [
              "HBox(children=(FloatProgress(value=0.0, description='Downloading', max=267844284.0, style=ProgressStyle(descri…"
            ]
          },
          "metadata": {
            "tags": []
          }
        },
        {
          "output_type": "stream",
          "text": [
            "\n"
          ],
          "name": "stdout"
        },
        {
          "output_type": "display_data",
          "data": {
            "application/vnd.jupyter.widget-view+json": {
              "model_id": "68c9dc802e9346c4b69c0d53f6355ff2",
              "version_minor": 0,
              "version_major": 2
            },
            "text/plain": [
              "HBox(children=(FloatProgress(value=0.0, description='Downloading', max=231508.0, style=ProgressStyle(descripti…"
            ]
          },
          "metadata": {
            "tags": []
          }
        },
        {
          "output_type": "stream",
          "text": [
            "\n"
          ],
          "name": "stdout"
        },
        {
          "output_type": "display_data",
          "data": {
            "application/vnd.jupyter.widget-view+json": {
              "model_id": "e80831b606e441d685e970788963fd89",
              "version_minor": 0,
              "version_major": 2
            },
            "text/plain": [
              "HBox(children=(FloatProgress(value=0.0, description='Downloading', max=48.0, style=ProgressStyle(description_w…"
            ]
          },
          "metadata": {
            "tags": []
          }
        },
        {
          "output_type": "stream",
          "text": [
            "\n"
          ],
          "name": "stdout"
        }
      ]
    },
    {
      "cell_type": "code",
      "metadata": {
        "colab": {
          "base_uri": "https://localhost:8080/"
        },
        "id": "vx4HHKiy9zgK",
        "outputId": "ec6ea3de-52d3-44fc-ed33-364bcb5c9201"
      },
      "source": [
        "     sentiment(summaries['BTC'])\n"
      ],
      "execution_count": null,
      "outputs": [
        {
          "output_type": "execute_result",
          "data": {
            "text/plain": [
              "[{'label': 'NEGATIVE', 'score': 0.9913808703422546},\n",
              " {'label': 'NEGATIVE', 'score': 0.9934414625167847},\n",
              " {'label': 'POSITIVE', 'score': 0.5374248027801514},\n",
              " {'label': 'POSITIVE', 'score': 0.9968034029006958},\n",
              " {'label': 'NEGATIVE', 'score': 0.999413788318634},\n",
              " {'label': 'POSITIVE', 'score': 0.9978496432304382},\n",
              " {'label': 'NEGATIVE', 'score': 0.9996434450149536},\n",
              " {'label': 'NEGATIVE', 'score': 0.9809706807136536},\n",
              " {'label': 'NEGATIVE', 'score': 0.9828320145606995}]"
            ]
          },
          "metadata": {
            "tags": []
          },
          "execution_count": 32
        }
      ]
    },
    {
      "cell_type": "code",
      "metadata": {
        "colab": {
          "base_uri": "https://localhost:8080/"
        },
        "id": "pGgSm35795Gd",
        "outputId": "a3063bef-a61c-45bc-ff6b-ad75ed1b82f5"
      },
      "source": [
        "scores = {ticker:sentiment(summaries[ticker]) for ticker in monitored_tickers}\n",
        "scores"
      ],
      "execution_count": null,
      "outputs": [
        {
          "output_type": "execute_result",
          "data": {
            "text/plain": [
              "{'BTC': [{'label': 'NEGATIVE', 'score': 0.9913808703422546},\n",
              "  {'label': 'NEGATIVE', 'score': 0.9934414625167847},\n",
              "  {'label': 'POSITIVE', 'score': 0.5374248027801514},\n",
              "  {'label': 'POSITIVE', 'score': 0.9968034029006958},\n",
              "  {'label': 'NEGATIVE', 'score': 0.999413788318634},\n",
              "  {'label': 'POSITIVE', 'score': 0.9978496432304382},\n",
              "  {'label': 'NEGATIVE', 'score': 0.9996434450149536},\n",
              "  {'label': 'NEGATIVE', 'score': 0.9809706807136536},\n",
              "  {'label': 'NEGATIVE', 'score': 0.9828320145606995}],\n",
              " 'GME': [{'label': 'POSITIVE', 'score': 0.6023551821708679},\n",
              "  {'label': 'POSITIVE', 'score': 0.9633980989456177},\n",
              "  {'label': 'POSITIVE', 'score': 0.9964635968208313},\n",
              "  {'label': 'POSITIVE', 'score': 0.8408540487289429},\n",
              "  {'label': 'NEGATIVE', 'score': 0.9989787936210632},\n",
              "  {'label': 'POSITIVE', 'score': 0.9861887097358704},\n",
              "  {'label': 'NEGATIVE', 'score': 0.9989529848098755},\n",
              "  {'label': 'POSITIVE', 'score': 0.8099526166915894},\n",
              "  {'label': 'NEGATIVE', 'score': 0.5935253500938416}],\n",
              " 'TSLA': [{'label': 'NEGATIVE', 'score': 0.9948235750198364},\n",
              "  {'label': 'NEGATIVE', 'score': 0.9979455471038818},\n",
              "  {'label': 'POSITIVE', 'score': 0.6016488671302795},\n",
              "  {'label': 'POSITIVE', 'score': 0.988097608089447},\n",
              "  {'label': 'NEGATIVE', 'score': 0.9593161940574646},\n",
              "  {'label': 'NEGATIVE', 'score': 0.9953510165214539},\n",
              "  {'label': 'NEGATIVE', 'score': 0.9997592568397522},\n",
              "  {'label': 'NEGATIVE', 'score': 0.9200989603996277},\n",
              "  {'label': 'POSITIVE', 'score': 0.8866069316864014},\n",
              "  {'label': 'NEGATIVE', 'score': 0.7210795283317566}]}"
            ]
          },
          "metadata": {
            "tags": []
          },
          "execution_count": 33
        }
      ]
    },
    {
      "cell_type": "code",
      "metadata": {
        "colab": {
          "base_uri": "https://localhost:8080/"
        },
        "id": "pVEzdzSA9-FS",
        "outputId": "32348380-80b0-49dd-954a-b965fc61c5e9"
      },
      "source": [
        "print(summaries['GME'][3], scores['GME'][3]['label'], scores['GME'][3]['score'])\n"
      ],
      "execution_count": null,
      "outputs": [
        {
          "output_type": "stream",
          "text": [
            "Hestia returned 223.7% in first three months of 2021 POSITIVE 0.8408540487289429\n"
          ],
          "name": "stdout"
        }
      ]
    },
    {
      "cell_type": "code",
      "metadata": {
        "colab": {
          "base_uri": "https://localhost:8080/"
        },
        "id": "AOZF7FzN-VcA",
        "outputId": "ceeaad61-d5e6-4a63-c216-a473910554ca"
      },
      "source": [
        "scores['BTC'][0]['score']\n"
      ],
      "execution_count": null,
      "outputs": [
        {
          "output_type": "execute_result",
          "data": {
            "text/plain": [
              "0.9913808703422546"
            ]
          },
          "metadata": {
            "tags": []
          },
          "execution_count": 36
        }
      ]
    },
    {
      "cell_type": "code",
      "metadata": {
        "colab": {
          "base_uri": "https://localhost:8080/"
        },
        "id": "2Zz_fU-T-ZOm",
        "outputId": "7fd49500-61ec-45bb-ffee-28351fe068e4"
      },
      "source": [
        "summaries\n"
      ],
      "execution_count": null,
      "outputs": [
        {
          "output_type": "execute_result",
          "data": {
            "text/plain": [
              "{'BTC': ['‘It would be very difficult to get a full picture of how that money moved,’ says Greenspan. Exchanges have seen ‘significant number of deposits,’ Voyager says',\n",
              "  'Venture capitalist warns U.S. government to be wary of crypto. Thiel previously called China’s crypto craze a threat to U.S.',\n",
              "  'We don’t short Bitcoin, stay out and wait. No stress, no fear of missing out, just following the rules',\n",
              "  'Transaction diversifies Riot’s revenues, catapults position in Bitcoin mining',\n",
              "  'Bitcoin is expected to break out of short-term channel and attempt to move above $59,500.',\n",
              "  'Analytics firm Glassnode’s miner position change metric turns positive. Balance held in miners’ wallets has increased',\n",
              "  'Bitcoin and Ether both climb after two days of losses. Trading volume has been low since the beginning of April',\n",
              "  'Energy consumption may be underestimated. Mining hardware is a contributing factor to global e-waste.',\n",
              "  'Web firm has stakes in more than 900 coins. Meitu says it is buying crypto to prep for a “foray into the blockchain industry”'],\n",
              " 'GME': ['S&P 500 Rank stock-rating system plays an important role in stock selection.',\n",
              "  'Company to sell up to 3.5 million shares through ‘at-the-market’ program. Shares of the company have surged 918.3% in past three months',\n",
              "  'Activist investor is reshaping the company. Video-game retailer plans to pay all directors entirely in equity',\n",
              "  'Hestia returned 223.7% in first three months of 2021',\n",
              "  'Video game retailer’s fourth-quarter sales fell 3.4%. E-commerce grew 175% in fourth quarter, 191% for year',\n",
              "  '‘Right move,’ Cramer says of GameStop and AMC offerings. ‘Hold the line’ crowd of investors despises offerings, he says',\n",
              "  'Short interest fell to $2.76 billion on Wednesday. Dusaniwsky expects short covering to continue as stock climbs',\n",
              "  'Video game retailer has moved 320.11% in the past month.',\n",
              "  'Video game retailer has gained 417.58% over the past month.'],\n",
              " 'TSLA': [\"Musk's electric-car company is now available with Bitcoin. Tesla Model 3 starts at $38,000 and takes up to 12 weeks to deliver\",\n",
              "  'Tesla sold 1,300% more vehicles in Japan in March. Earlier in March, Tesla lowered prices of the Model 3 in Japan',\n",
              "  'Musk says Santa Monica will soon have a ‘major new Supercharger station’.',\n",
              "  'Automaker is offering 50% discount at Supercharger stations in California. Palo Alto, California-based automaker has been expanding its network',\n",
              "  'Tesla is underperforming the Auto-Tires-Trucks sector so far this year.',\n",
              "  'Tesla may get $15 billion for half a million new charging stations. Treasuries fall, while the dollar strengthens',\n",
              "  'Tesla’s stock has failed to make a significant move back to an all-time high. Two bullish patterns could change that',\n",
              "  'Shares of other EV companies drop on Monday. Musk’s company delivered 184,800 cars worldwide in first quarter',\n",
              "  'Global chip shortage iswreaking havoc on the industry. EV giant Tesla reports strong first-quarter deliveries, driven by Model Y',\n",
              "  'At least three brokerages raised their price targets on Monday. Tesla on track to add about $50 billion to its market value']}"
            ]
          },
          "metadata": {
            "tags": []
          },
          "execution_count": 37
        }
      ]
    },
    {
      "cell_type": "code",
      "metadata": {
        "colab": {
          "base_uri": "https://localhost:8080/"
        },
        "id": "h87w2e9l-iok",
        "outputId": "ea2c9366-a6d1-4ac5-8895-ce1dd35dc0f2"
      },
      "source": [
        "scores\n"
      ],
      "execution_count": 124,
      "outputs": [
        {
          "output_type": "execute_result",
          "data": {
            "text/plain": [
              "{'BTC': [{'label': 'NEGATIVE', 'score': 0.9913808703422546},\n",
              "  {'label': 'NEGATIVE', 'score': 0.9934414625167847},\n",
              "  {'label': 'POSITIVE', 'score': 0.5374248027801514},\n",
              "  {'label': 'POSITIVE', 'score': 0.9968034029006958},\n",
              "  {'label': 'NEGATIVE', 'score': 0.999413788318634},\n",
              "  {'label': 'POSITIVE', 'score': 0.9978496432304382},\n",
              "  {'label': 'NEGATIVE', 'score': 0.9996434450149536},\n",
              "  {'label': 'NEGATIVE', 'score': 0.9809706807136536},\n",
              "  {'label': 'NEGATIVE', 'score': 0.9828320145606995}],\n",
              " 'GME': [{'label': 'POSITIVE', 'score': 0.6023551821708679},\n",
              "  {'label': 'POSITIVE', 'score': 0.9633980989456177},\n",
              "  {'label': 'POSITIVE', 'score': 0.9964635968208313},\n",
              "  {'label': 'POSITIVE', 'score': 0.8408540487289429},\n",
              "  {'label': 'NEGATIVE', 'score': 0.9989787936210632},\n",
              "  {'label': 'POSITIVE', 'score': 0.9861887097358704},\n",
              "  {'label': 'NEGATIVE', 'score': 0.9989529848098755},\n",
              "  {'label': 'POSITIVE', 'score': 0.8099526166915894},\n",
              "  {'label': 'NEGATIVE', 'score': 0.5935253500938416}],\n",
              " 'TSLA': [{'label': 'NEGATIVE', 'score': 0.9948235750198364},\n",
              "  {'label': 'NEGATIVE', 'score': 0.9979455471038818},\n",
              "  {'label': 'POSITIVE', 'score': 0.6016488671302795},\n",
              "  {'label': 'POSITIVE', 'score': 0.988097608089447},\n",
              "  {'label': 'NEGATIVE', 'score': 0.9593161940574646},\n",
              "  {'label': 'NEGATIVE', 'score': 0.9953510165214539},\n",
              "  {'label': 'NEGATIVE', 'score': 0.9997592568397522},\n",
              "  {'label': 'NEGATIVE', 'score': 0.9200989603996277},\n",
              "  {'label': 'POSITIVE', 'score': 0.8866069316864014},\n",
              "  {'label': 'NEGATIVE', 'score': 0.7210795283317566}]}"
            ]
          },
          "metadata": {
            "tags": []
          },
          "execution_count": 124
        }
      ]
    },
    {
      "cell_type": "code",
      "metadata": {
        "colab": {
          "base_uri": "https://localhost:8080/"
        },
        "id": "yNTwF-4D-nNv",
        "outputId": "a69369f6-f2d3-4296-e72b-4091a5fbcc9b"
      },
      "source": [
        "cleaned_urls\n"
      ],
      "execution_count": 125,
      "outputs": [
        {
          "output_type": "execute_result",
          "data": {
            "text/plain": [
              "{'BTC': ['https://finance.yahoo.com/news/no-stimmy-rally-why-1-110000326.html',\n",
              "  'https://finance.yahoo.com/news/peter-thiel-china-using-bitcoin-093000576.html',\n",
              "  'https://finance.yahoo.com/news/bitcoin-stuck-solution-stay-132948545.html',\n",
              "  'https://finance.yahoo.com/news/riot-acquire-whinstone-creating-us-114700823.html',\n",
              "  'https://finance.yahoo.com/news/bitcoin-btc-bullish-engulfing-candle-073500376.html',\n",
              "  'https://finance.yahoo.com/news/bitcoin-miners-again-stacking-coins-105106529.html',\n",
              "  'https://finance.yahoo.com/news/market-wrap-bitcoin-near-58k-202318117.html',\n",
              "  'https://finance.yahoo.com/news/bitcoin-real-price-crypto-mining-210000646.html',\n",
              "  'https://finance.yahoo.com/news/node-bitcoin-warts-175647661.html',\n",
              "  'https://finance.yahoo.com/news/chinese-firm-meitu-buys-10m-204038469.html'],\n",
              " 'GME': ['https://finance.yahoo.com/news/gamestop-gme-set-sell-shares-141502169.html',\n",
              "  'https://finance.yahoo.com/news/gamestop-plan-stock-sale-understandable-055818759.html',\n",
              "  'https://finance.yahoo.com/news/gamestop-plans-activist-ryan-cohen-112330738.html',\n",
              "  'https://finance.yahoo.com/news/exclusive-gamestops-strong-stock-performance-021015968.html',\n",
              "  'https://finance.yahoo.com/video/gamestop-intends-elect-ryan-cohen-133041430.html',\n",
              "  'https://finance.yahoo.com/news/gamestop-amc-selling-shares-good-081027005.html',\n",
              "  'https://finance.yahoo.com/news/gamestop-elect-cohen-chairman-following-113929975.html',\n",
              "  'https://finance.yahoo.com/news/gamestop-sales-rise-11-february-101634162.html',\n",
              "  'https://finance.yahoo.com/news/gamestop-sinks-plans-offer-3-103142581.html',\n",
              "  'https://finance.yahoo.com/news/day-traders-big-blue-chips-183456919.html'],\n",
              " 'TSLA': ['https://finance.yahoo.com/news/afford-tesla-even-youre-not-023000942.html',\n",
              "  'https://finance.yahoo.com/news/tesla-sales-climb-1-300-213847580.html',\n",
              "  'https://finance.yahoo.com/news/elon-musk-says-1950s-style-125153765.html',\n",
              "  'https://finance.yahoo.com/news/tesla-offering-50-night-discount-062516611.html',\n",
              "  'https://finance.yahoo.com/news/tesla-tsla-outpaces-stock-market-214509792.html',\n",
              "  'https://finance.yahoo.com/video/tesla-must-own-stock-now-175409321.html',\n",
              "  'https://finance.yahoo.com/news/tesla-stock-traders-could-look-195110179.html',\n",
              "  'https://finance.yahoo.com/news/tesla-jaw-dropper-delivery-numbers-124222636.html',\n",
              "  'https://finance.yahoo.com/news/auto-stock-roundup-tsla-q1-121112972.html',\n",
              "  'https://finance.yahoo.com/news/tesla-shares-surge-electric-carmaker-093448363.html']}"
            ]
          },
          "metadata": {
            "tags": []
          },
          "execution_count": 125
        }
      ]
    },
    {
      "cell_type": "code",
      "metadata": {
        "colab": {
          "base_uri": "https://localhost:8080/"
        },
        "id": "ZJxZwJLq-pkx",
        "outputId": "4e6874b0-9c37-4057-fb2f-334bb9558066"
      },
      "source": [
        "range(len(summaries['GME']))\n"
      ],
      "execution_count": null,
      "outputs": [
        {
          "output_type": "execute_result",
          "data": {
            "text/plain": [
              "range(0, 9)"
            ]
          },
          "metadata": {
            "tags": []
          },
          "execution_count": 40
        }
      ]
    },
    {
      "cell_type": "code",
      "metadata": {
        "colab": {
          "base_uri": "https://localhost:8080/",
          "height": 35
        },
        "id": "daYkdChf-shi",
        "outputId": "8ecc259a-0f0f-4def-8d51-c9ada223bda8"
      },
      "source": [
        "summaries['GME'][3]\n"
      ],
      "execution_count": null,
      "outputs": [
        {
          "output_type": "execute_result",
          "data": {
            "application/vnd.google.colaboratory.intrinsic+json": {
              "type": "string"
            },
            "text/plain": [
              "'Hestia returned 223.7% in first three months of 2021'"
            ]
          },
          "metadata": {
            "tags": []
          },
          "execution_count": 41
        }
      ]
    },
    {
      "cell_type": "code",
      "metadata": {
        "id": "q2cXySeV-v8o"
      },
      "source": [
        "def create_output_array(summaries, scores, urls):\n",
        "    output = []\n",
        "    for ticker in monitored_tickers:\n",
        "        for counter in range(len(summaries[ticker])):\n",
        "            output_this = [\n",
        "                ticker,\n",
        "                summaries[ticker][counter],\n",
        "                scores[ticker][counter]['label'],\n",
        "                scores[ticker][counter]['score'],\n",
        "                urls[ticker][counter]\n",
        "            ]\n",
        "            output.append(output_this)\n",
        "    return output"
      ],
      "execution_count": null,
      "outputs": []
    },
    {
      "cell_type": "code",
      "metadata": {
        "colab": {
          "base_uri": "https://localhost:8080/"
        },
        "id": "qSqsXw7S-y3G",
        "outputId": "e944e7b7-5d23-49ca-92b4-270beeb417c8"
      },
      "source": [
        "final_output = create_output_array(summaries, scores, cleaned_urls)\n",
        "final_output"
      ],
      "execution_count": null,
      "outputs": [
        {
          "output_type": "execute_result",
          "data": {
            "text/plain": [
              "[['GME',\n",
              "  'S&P 500 Rank stock-rating system plays an important role in stock selection.',\n",
              "  'POSITIVE',\n",
              "  0.6023551821708679,\n",
              "  'https://finance.yahoo.com/news/gamestop-gme-upgraded-buy-does-160004421.html'],\n",
              " ['GME',\n",
              "  'Company to sell up to 3.5 million shares through ‘at-the-market’ program. Shares of the company have surged 918.3% in past three months',\n",
              "  'POSITIVE',\n",
              "  0.9633980989456177,\n",
              "  'https://finance.yahoo.com/news/gamestop-gme-set-sell-shares-141502169.html'],\n",
              " ['GME',\n",
              "  'Activist investor is reshaping the company. Video-game retailer plans to pay all directors entirely in equity',\n",
              "  'POSITIVE',\n",
              "  0.9964635968208313,\n",
              "  'https://finance.yahoo.com/news/gamestop-plans-activist-ryan-cohen-112330738.html'],\n",
              " ['GME',\n",
              "  'Hestia returned 223.7% in first three months of 2021',\n",
              "  'POSITIVE',\n",
              "  0.8408540487289429,\n",
              "  'https://finance.yahoo.com/news/exclusive-gamestops-strong-stock-performance-021015968.html'],\n",
              " ['GME',\n",
              "  'Video game retailer’s fourth-quarter sales fell 3.4%. E-commerce grew 175% in fourth quarter, 191% for year',\n",
              "  'NEGATIVE',\n",
              "  0.9989787936210632,\n",
              "  'https://ca.finance.yahoo.com/news/gamestop-nyse-gme-stock-game-151521231.html'],\n",
              " ['GME',\n",
              "  '‘Right move,’ Cramer says of GameStop and AMC offerings. ‘Hold the line’ crowd of investors despises offerings, he says',\n",
              "  'POSITIVE',\n",
              "  0.9861887097358704,\n",
              "  'https://finance.yahoo.com/news/gamestop-amc-selling-shares-good-081027005.html'],\n",
              " ['GME',\n",
              "  'Short interest fell to $2.76 billion on Wednesday. Dusaniwsky expects short covering to continue as stock climbs',\n",
              "  'NEGATIVE',\n",
              "  0.9989529848098755,\n",
              "  'https://finance.yahoo.com/news/we-should-see-the-gme-short-squeeze-continuing-s-3-partners-174542296.html'],\n",
              " ['GME',\n",
              "  'Video game retailer has moved 320.11% in the past month.',\n",
              "  'POSITIVE',\n",
              "  0.8099526166915894,\n",
              "  'https://finance.yahoo.com/news/gamestop-gme-outpaces-stock-market-214509325.html'],\n",
              " ['GME',\n",
              "  'Video game retailer has gained 417.58% over the past month.',\n",
              "  'NEGATIVE',\n",
              "  0.5935253500938416,\n",
              "  'https://finance.yahoo.com/news/gamestop-gme-stock-sinks-market-224510746.html'],\n",
              " ['TSLA',\n",
              "  \"Musk's electric-car company is now available with Bitcoin. Tesla Model 3 starts at $38,000 and takes up to 12 weeks to deliver\",\n",
              "  'NEGATIVE',\n",
              "  0.9948235750198364,\n",
              "  'https://finance.yahoo.com/news/afford-tesla-even-youre-not-023000942.html'],\n",
              " ['TSLA',\n",
              "  'Tesla sold 1,300% more vehicles in Japan in March. Earlier in March, Tesla lowered prices of the Model 3 in Japan',\n",
              "  'NEGATIVE',\n",
              "  0.9979455471038818,\n",
              "  'https://finance.yahoo.com/news/tesla-sales-climb-1-300-213847580.html'],\n",
              " ['TSLA',\n",
              "  'Musk says Santa Monica will soon have a ‘major new Supercharger station’.',\n",
              "  'POSITIVE',\n",
              "  0.6016488671302795,\n",
              "  'https://finance.yahoo.com/news/elon-musk-says-1950s-style-125153765.html'],\n",
              " ['TSLA',\n",
              "  'Automaker is offering 50% discount at Supercharger stations in California. Palo Alto, California-based automaker has been expanding its network',\n",
              "  'POSITIVE',\n",
              "  0.988097608089447,\n",
              "  'https://finance.yahoo.com/news/tesla-offering-50-night-discount-062516611.html'],\n",
              " ['TSLA',\n",
              "  'Tesla is underperforming the Auto-Tires-Trucks sector so far this year.',\n",
              "  'NEGATIVE',\n",
              "  0.9593161940574646,\n",
              "  'https://finance.yahoo.com/news/tesla-tsla-outpaces-stock-market-214509792.html'],\n",
              " ['TSLA',\n",
              "  'Tesla may get $15 billion for half a million new charging stations. Treasuries fall, while the dollar strengthens',\n",
              "  'NEGATIVE',\n",
              "  0.9953510165214539,\n",
              "  'https://finance.yahoo.com/video/tesla-must-own-stock-now-175409321.html'],\n",
              " ['TSLA',\n",
              "  'Tesla’s stock has failed to make a significant move back to an all-time high. Two bullish patterns could change that',\n",
              "  'NEGATIVE',\n",
              "  0.9997592568397522,\n",
              "  'https://finance.yahoo.com/news/tesla-stock-traders-could-look-195110179.html'],\n",
              " ['TSLA',\n",
              "  'Shares of other EV companies drop on Monday. Musk’s company delivered 184,800 cars worldwide in first quarter',\n",
              "  'NEGATIVE',\n",
              "  0.9200989603996277,\n",
              "  'https://finance.yahoo.com/news/tesla-jaw-dropper-delivery-numbers-124222636.html'],\n",
              " ['TSLA',\n",
              "  'Global chip shortage iswreaking havoc on the industry. EV giant Tesla reports strong first-quarter deliveries, driven by Model Y',\n",
              "  'POSITIVE',\n",
              "  0.8866069316864014,\n",
              "  'https://finance.yahoo.com/news/auto-stock-roundup-tsla-q1-121112972.html'],\n",
              " ['TSLA',\n",
              "  'At least three brokerages raised their price targets on Monday. Tesla on track to add about $50 billion to its market value',\n",
              "  'NEGATIVE',\n",
              "  0.7210795283317566,\n",
              "  'https://finance.yahoo.com/news/tesla-shares-surge-electric-carmaker-093448363.html'],\n",
              " ['BTC',\n",
              "  '‘It would be very difficult to get a full picture of how that money moved,’ says Greenspan. Exchanges have seen ‘significant number of deposits,’ Voyager says',\n",
              "  'NEGATIVE',\n",
              "  0.9913808703422546,\n",
              "  'https://finance.yahoo.com/news/no-stimmy-rally-why-1-110000326.html'],\n",
              " ['BTC',\n",
              "  'Venture capitalist warns U.S. government to be wary of crypto. Thiel previously called China’s crypto craze a threat to U.S.',\n",
              "  'NEGATIVE',\n",
              "  0.9934414625167847,\n",
              "  'https://finance.yahoo.com/news/peter-thiel-china-using-bitcoin-093000576.html'],\n",
              " ['BTC',\n",
              "  'We don’t short Bitcoin, stay out and wait. No stress, no fear of missing out, just following the rules',\n",
              "  'POSITIVE',\n",
              "  0.5374248027801514,\n",
              "  'https://finance.yahoo.com/news/bitcoin-stuck-solution-stay-132948545.html'],\n",
              " ['BTC',\n",
              "  'Transaction diversifies Riot’s revenues, catapults position in Bitcoin mining',\n",
              "  'POSITIVE',\n",
              "  0.9968034029006958,\n",
              "  'https://finance.yahoo.com/news/riot-acquire-whinstone-creating-us-114700823.html'],\n",
              " ['BTC',\n",
              "  'Bitcoin is expected to break out of short-term channel and attempt to move above $59,500.',\n",
              "  'NEGATIVE',\n",
              "  0.999413788318634,\n",
              "  'https://finance.yahoo.com/news/bitcoin-btc-bullish-engulfing-candle-073500376.html'],\n",
              " ['BTC',\n",
              "  'Analytics firm Glassnode’s miner position change metric turns positive. Balance held in miners’ wallets has increased',\n",
              "  'POSITIVE',\n",
              "  0.9978496432304382,\n",
              "  'https://finance.yahoo.com/news/bitcoin-miners-again-stacking-coins-105106529.html'],\n",
              " ['BTC',\n",
              "  'Bitcoin and Ether both climb after two days of losses. Trading volume has been low since the beginning of April',\n",
              "  'NEGATIVE',\n",
              "  0.9996434450149536,\n",
              "  'https://finance.yahoo.com/news/market-wrap-bitcoin-near-58k-202318117.html'],\n",
              " ['BTC',\n",
              "  'Energy consumption may be underestimated. Mining hardware is a contributing factor to global e-waste.',\n",
              "  'NEGATIVE',\n",
              "  0.9809706807136536,\n",
              "  'https://finance.yahoo.com/news/bitcoin-real-price-crypto-mining-210000646.html'],\n",
              " ['BTC',\n",
              "  'Web firm has stakes in more than 900 coins. Meitu says it is buying crypto to prep for a “foray into the blockchain industry”',\n",
              "  'NEGATIVE',\n",
              "  0.9828320145606995,\n",
              "  'https://finance.yahoo.com/news/chinese-firm-meitu-buys-10m-204038469.html']]"
            ]
          },
          "metadata": {
            "tags": []
          },
          "execution_count": 44
        }
      ]
    },
    {
      "cell_type": "code",
      "metadata": {
        "id": "O9xhkavm-74O"
      },
      "source": [
        "final_output.insert(0, ['Ticker', 'Summary', 'Label', 'Confidence', 'URL'])\n"
      ],
      "execution_count": null,
      "outputs": []
    },
    {
      "cell_type": "code",
      "metadata": {
        "colab": {
          "base_uri": "https://localhost:8080/"
        },
        "id": "-tStHb_v_Aoo",
        "outputId": "df5825ca-6298-46ab-f930-1be7d314b08b"
      },
      "source": [
        "final_output\n"
      ],
      "execution_count": null,
      "outputs": [
        {
          "output_type": "execute_result",
          "data": {
            "text/plain": [
              "[['Ticker', 'Summary', 'Label', 'Confidence', 'URL'],\n",
              " ['GME',\n",
              "  'S&P 500 Rank stock-rating system plays an important role in stock selection.',\n",
              "  'POSITIVE',\n",
              "  0.6023551821708679,\n",
              "  'https://finance.yahoo.com/news/gamestop-gme-upgraded-buy-does-160004421.html'],\n",
              " ['GME',\n",
              "  'Company to sell up to 3.5 million shares through ‘at-the-market’ program. Shares of the company have surged 918.3% in past three months',\n",
              "  'POSITIVE',\n",
              "  0.9633980989456177,\n",
              "  'https://finance.yahoo.com/news/gamestop-gme-set-sell-shares-141502169.html'],\n",
              " ['GME',\n",
              "  'Activist investor is reshaping the company. Video-game retailer plans to pay all directors entirely in equity',\n",
              "  'POSITIVE',\n",
              "  0.9964635968208313,\n",
              "  'https://finance.yahoo.com/news/gamestop-plans-activist-ryan-cohen-112330738.html'],\n",
              " ['GME',\n",
              "  'Hestia returned 223.7% in first three months of 2021',\n",
              "  'POSITIVE',\n",
              "  0.8408540487289429,\n",
              "  'https://finance.yahoo.com/news/exclusive-gamestops-strong-stock-performance-021015968.html'],\n",
              " ['GME',\n",
              "  'Video game retailer’s fourth-quarter sales fell 3.4%. E-commerce grew 175% in fourth quarter, 191% for year',\n",
              "  'NEGATIVE',\n",
              "  0.9989787936210632,\n",
              "  'https://ca.finance.yahoo.com/news/gamestop-nyse-gme-stock-game-151521231.html'],\n",
              " ['GME',\n",
              "  '‘Right move,’ Cramer says of GameStop and AMC offerings. ‘Hold the line’ crowd of investors despises offerings, he says',\n",
              "  'POSITIVE',\n",
              "  0.9861887097358704,\n",
              "  'https://finance.yahoo.com/news/gamestop-amc-selling-shares-good-081027005.html'],\n",
              " ['GME',\n",
              "  'Short interest fell to $2.76 billion on Wednesday. Dusaniwsky expects short covering to continue as stock climbs',\n",
              "  'NEGATIVE',\n",
              "  0.9989529848098755,\n",
              "  'https://finance.yahoo.com/news/we-should-see-the-gme-short-squeeze-continuing-s-3-partners-174542296.html'],\n",
              " ['GME',\n",
              "  'Video game retailer has moved 320.11% in the past month.',\n",
              "  'POSITIVE',\n",
              "  0.8099526166915894,\n",
              "  'https://finance.yahoo.com/news/gamestop-gme-outpaces-stock-market-214509325.html'],\n",
              " ['GME',\n",
              "  'Video game retailer has gained 417.58% over the past month.',\n",
              "  'NEGATIVE',\n",
              "  0.5935253500938416,\n",
              "  'https://finance.yahoo.com/news/gamestop-gme-stock-sinks-market-224510746.html'],\n",
              " ['TSLA',\n",
              "  \"Musk's electric-car company is now available with Bitcoin. Tesla Model 3 starts at $38,000 and takes up to 12 weeks to deliver\",\n",
              "  'NEGATIVE',\n",
              "  0.9948235750198364,\n",
              "  'https://finance.yahoo.com/news/afford-tesla-even-youre-not-023000942.html'],\n",
              " ['TSLA',\n",
              "  'Tesla sold 1,300% more vehicles in Japan in March. Earlier in March, Tesla lowered prices of the Model 3 in Japan',\n",
              "  'NEGATIVE',\n",
              "  0.9979455471038818,\n",
              "  'https://finance.yahoo.com/news/tesla-sales-climb-1-300-213847580.html'],\n",
              " ['TSLA',\n",
              "  'Musk says Santa Monica will soon have a ‘major new Supercharger station’.',\n",
              "  'POSITIVE',\n",
              "  0.6016488671302795,\n",
              "  'https://finance.yahoo.com/news/elon-musk-says-1950s-style-125153765.html'],\n",
              " ['TSLA',\n",
              "  'Automaker is offering 50% discount at Supercharger stations in California. Palo Alto, California-based automaker has been expanding its network',\n",
              "  'POSITIVE',\n",
              "  0.988097608089447,\n",
              "  'https://finance.yahoo.com/news/tesla-offering-50-night-discount-062516611.html'],\n",
              " ['TSLA',\n",
              "  'Tesla is underperforming the Auto-Tires-Trucks sector so far this year.',\n",
              "  'NEGATIVE',\n",
              "  0.9593161940574646,\n",
              "  'https://finance.yahoo.com/news/tesla-tsla-outpaces-stock-market-214509792.html'],\n",
              " ['TSLA',\n",
              "  'Tesla may get $15 billion for half a million new charging stations. Treasuries fall, while the dollar strengthens',\n",
              "  'NEGATIVE',\n",
              "  0.9953510165214539,\n",
              "  'https://finance.yahoo.com/video/tesla-must-own-stock-now-175409321.html'],\n",
              " ['TSLA',\n",
              "  'Tesla’s stock has failed to make a significant move back to an all-time high. Two bullish patterns could change that',\n",
              "  'NEGATIVE',\n",
              "  0.9997592568397522,\n",
              "  'https://finance.yahoo.com/news/tesla-stock-traders-could-look-195110179.html'],\n",
              " ['TSLA',\n",
              "  'Shares of other EV companies drop on Monday. Musk’s company delivered 184,800 cars worldwide in first quarter',\n",
              "  'NEGATIVE',\n",
              "  0.9200989603996277,\n",
              "  'https://finance.yahoo.com/news/tesla-jaw-dropper-delivery-numbers-124222636.html'],\n",
              " ['TSLA',\n",
              "  'Global chip shortage iswreaking havoc on the industry. EV giant Tesla reports strong first-quarter deliveries, driven by Model Y',\n",
              "  'POSITIVE',\n",
              "  0.8866069316864014,\n",
              "  'https://finance.yahoo.com/news/auto-stock-roundup-tsla-q1-121112972.html'],\n",
              " ['TSLA',\n",
              "  'At least three brokerages raised their price targets on Monday. Tesla on track to add about $50 billion to its market value',\n",
              "  'NEGATIVE',\n",
              "  0.7210795283317566,\n",
              "  'https://finance.yahoo.com/news/tesla-shares-surge-electric-carmaker-093448363.html'],\n",
              " ['BTC',\n",
              "  '‘It would be very difficult to get a full picture of how that money moved,’ says Greenspan. Exchanges have seen ‘significant number of deposits,’ Voyager says',\n",
              "  'NEGATIVE',\n",
              "  0.9913808703422546,\n",
              "  'https://finance.yahoo.com/news/no-stimmy-rally-why-1-110000326.html'],\n",
              " ['BTC',\n",
              "  'Venture capitalist warns U.S. government to be wary of crypto. Thiel previously called China’s crypto craze a threat to U.S.',\n",
              "  'NEGATIVE',\n",
              "  0.9934414625167847,\n",
              "  'https://finance.yahoo.com/news/peter-thiel-china-using-bitcoin-093000576.html'],\n",
              " ['BTC',\n",
              "  'We don’t short Bitcoin, stay out and wait. No stress, no fear of missing out, just following the rules',\n",
              "  'POSITIVE',\n",
              "  0.5374248027801514,\n",
              "  'https://finance.yahoo.com/news/bitcoin-stuck-solution-stay-132948545.html'],\n",
              " ['BTC',\n",
              "  'Transaction diversifies Riot’s revenues, catapults position in Bitcoin mining',\n",
              "  'POSITIVE',\n",
              "  0.9968034029006958,\n",
              "  'https://finance.yahoo.com/news/riot-acquire-whinstone-creating-us-114700823.html'],\n",
              " ['BTC',\n",
              "  'Bitcoin is expected to break out of short-term channel and attempt to move above $59,500.',\n",
              "  'NEGATIVE',\n",
              "  0.999413788318634,\n",
              "  'https://finance.yahoo.com/news/bitcoin-btc-bullish-engulfing-candle-073500376.html'],\n",
              " ['BTC',\n",
              "  'Analytics firm Glassnode’s miner position change metric turns positive. Balance held in miners’ wallets has increased',\n",
              "  'POSITIVE',\n",
              "  0.9978496432304382,\n",
              "  'https://finance.yahoo.com/news/bitcoin-miners-again-stacking-coins-105106529.html'],\n",
              " ['BTC',\n",
              "  'Bitcoin and Ether both climb after two days of losses. Trading volume has been low since the beginning of April',\n",
              "  'NEGATIVE',\n",
              "  0.9996434450149536,\n",
              "  'https://finance.yahoo.com/news/market-wrap-bitcoin-near-58k-202318117.html'],\n",
              " ['BTC',\n",
              "  'Energy consumption may be underestimated. Mining hardware is a contributing factor to global e-waste.',\n",
              "  'NEGATIVE',\n",
              "  0.9809706807136536,\n",
              "  'https://finance.yahoo.com/news/bitcoin-real-price-crypto-mining-210000646.html'],\n",
              " ['BTC',\n",
              "  'Web firm has stakes in more than 900 coins. Meitu says it is buying crypto to prep for a “foray into the blockchain industry”',\n",
              "  'NEGATIVE',\n",
              "  0.9828320145606995,\n",
              "  'https://finance.yahoo.com/news/chinese-firm-meitu-buys-10m-204038469.html']]"
            ]
          },
          "metadata": {
            "tags": []
          },
          "execution_count": 46
        }
      ]
    },
    {
      "cell_type": "code",
      "metadata": {
        "id": "Sypn4ljq_EYI"
      },
      "source": [
        "\n",
        "import csv\n",
        "with open('assetsummaries.csv', mode='w', newline='') as f:\n",
        "    csv_writer = csv.writer(f, delimiter=',', quotechar='\"', quoting=csv.QUOTE_MINIMAL)\n",
        "    csv_writer.writerows(final_output)"
      ],
      "execution_count": null,
      "outputs": []
    },
    {
      "cell_type": "code",
      "metadata": {
        "colab": {
          "base_uri": "https://localhost:8080/",
          "height": 17
        },
        "id": "B_2J2SjCAcnX",
        "outputId": "e7396946-81ab-4f98-b350-c4a8e963e6fc"
      },
      "source": [
        "from google.colab import files\n",
        "files.download('assetsummaries.csv')"
      ],
      "execution_count": null,
      "outputs": [
        {
          "output_type": "display_data",
          "data": {
            "application/javascript": [
              "\n",
              "    async function download(id, filename, size) {\n",
              "      if (!google.colab.kernel.accessAllowed) {\n",
              "        return;\n",
              "      }\n",
              "      const div = document.createElement('div');\n",
              "      const label = document.createElement('label');\n",
              "      label.textContent = `Downloading \"${filename}\": `;\n",
              "      div.appendChild(label);\n",
              "      const progress = document.createElement('progress');\n",
              "      progress.max = size;\n",
              "      div.appendChild(progress);\n",
              "      document.body.appendChild(div);\n",
              "\n",
              "      const buffers = [];\n",
              "      let downloaded = 0;\n",
              "\n",
              "      const channel = await google.colab.kernel.comms.open(id);\n",
              "      // Send a message to notify the kernel that we're ready.\n",
              "      channel.send({})\n",
              "\n",
              "      for await (const message of channel.messages) {\n",
              "        // Send a message to notify the kernel that we're ready.\n",
              "        channel.send({})\n",
              "        if (message.buffers) {\n",
              "          for (const buffer of message.buffers) {\n",
              "            buffers.push(buffer);\n",
              "            downloaded += buffer.byteLength;\n",
              "            progress.value = downloaded;\n",
              "          }\n",
              "        }\n",
              "      }\n",
              "      const blob = new Blob(buffers, {type: 'application/binary'});\n",
              "      const a = document.createElement('a');\n",
              "      a.href = window.URL.createObjectURL(blob);\n",
              "      a.download = filename;\n",
              "      div.appendChild(a);\n",
              "      a.click();\n",
              "      div.remove();\n",
              "    }\n",
              "  "
            ],
            "text/plain": [
              "<IPython.core.display.Javascript object>"
            ]
          },
          "metadata": {
            "tags": []
          }
        },
        {
          "output_type": "display_data",
          "data": {
            "application/javascript": [
              "download(\"download_4ab94758-1940-4718-bcdd-73e5090b5d9a\", \"assetsummaries.csv\", 6210)"
            ],
            "text/plain": [
              "<IPython.core.display.Javascript object>"
            ]
          },
          "metadata": {
            "tags": []
          }
        }
      ]
    }
  ]
}